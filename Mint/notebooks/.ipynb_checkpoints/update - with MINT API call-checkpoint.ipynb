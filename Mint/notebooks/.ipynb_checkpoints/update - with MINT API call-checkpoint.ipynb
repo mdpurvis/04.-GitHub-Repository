{
 "cells": [
  {
   "cell_type": "code",
   "execution_count": 1,
   "metadata": {
    "ExecuteTime": {
     "end_time": "2020-08-12T03:10:35.123461Z",
     "start_time": "2020-08-12T03:10:33.743621Z"
    }
   },
   "outputs": [],
   "source": [
    "try:\n",
    "    import mintapi as mint\n",
    "    import getpass\n",
    "    import pandas as pd\n",
    "    import numpy as np\n",
    "    import os\n",
    "    from datetime import datetime as dt\n",
    "    import re\n",
    "    \n",
    "    import sys\n",
    "    sys.path.insert(1, '../src/')\n",
    "    from mint import  *\n",
    "\n",
    "    import warnings\n",
    "    warnings.filterwarnings(\"ignore\")\n",
    "    \n",
    "except ImportError:\n",
    "    input('Unable to import packages.  Press enter to close:')\n",
    "\n",
    "\n",
    "file_loc = '../data/raw/Transactional Data/'\n",
    "file_loc1 = '../data/raw/Budget Template.xlsx'"
   ]
  },
  {
   "cell_type": "code",
   "execution_count": 5,
   "metadata": {
    "ExecuteTime": {
     "end_time": "2020-07-14T04:31:16.642690Z",
     "start_time": "2020-07-14T04:31:12.867255Z"
    }
   },
   "outputs": [
    {
     "name": "stdout",
     "output_type": "stream",
     "text": [
      "Enter your password here:     ········\n"
     ]
    }
   ],
   "source": [
    "user = 'mdpurvis@me.com'\n",
    "pw = getpass.getpass('Enter your password here:     ')"
   ]
  },
  {
   "cell_type": "code",
   "execution_count": 2,
   "metadata": {
    "ExecuteTime": {
     "end_time": "2020-08-12T03:10:49.995979Z",
     "start_time": "2020-08-12T03:10:49.848786Z"
    }
   },
   "outputs": [
    {
     "ename": "NameError",
     "evalue": "name 'user' is not defined",
     "output_type": "error",
     "traceback": [
      "\u001b[1;31m---------------------------------------------------------------------------\u001b[0m",
      "\u001b[1;31mNameError\u001b[0m                                 Traceback (most recent call last)",
      "\u001b[1;32m<ipython-input-2-88af38243fc2>\u001b[0m in \u001b[0;36m<module>\u001b[1;34m\u001b[0m\n\u001b[1;32m----> 1\u001b[1;33m \u001b[0mmint\u001b[0m \u001b[1;33m=\u001b[0m \u001b[0mmint\u001b[0m\u001b[1;33m.\u001b[0m\u001b[0mMint\u001b[0m\u001b[1;33m(\u001b[0m\u001b[0muser\u001b[0m\u001b[1;33m,\u001b[0m \u001b[0mpw\u001b[0m\u001b[1;33m)\u001b[0m\u001b[1;33m\u001b[0m\u001b[1;33m\u001b[0m\u001b[0m\n\u001b[0m",
      "\u001b[1;31mNameError\u001b[0m: name 'user' is not defined"
     ]
    }
   ],
   "source": [
    "mint = mint.Mint(user, pw)"
   ]
  },
  {
   "cell_type": "code",
   "execution_count": 7,
   "metadata": {
    "ExecuteTime": {
     "end_time": "2020-07-14T04:32:03.981580Z",
     "start_time": "2020-07-14T04:32:02.744814Z"
    }
   },
   "outputs": [],
   "source": [
    "mint.initiate_account_refresh()"
   ]
  },
  {
   "cell_type": "code",
   "execution_count": 8,
   "metadata": {
    "ExecuteTime": {
     "end_time": "2020-07-14T04:32:49.379861Z",
     "start_time": "2020-07-14T04:32:04.043944Z"
    }
   },
   "outputs": [],
   "source": [
    "df = mint.get_detailed_transactions(include_investment=False, start_date='01/01/2017')\n",
    "df['Original Description'] = ''\n",
    "df['isDebit'].replace([False, True], ['credit', 'debit'], inplace=True)\n",
    "df['Amount'] = df.amount.abs()\n",
    "\n",
    "df = df[['odate', 'merchant', 'Original Description', 'amount', 'isDebit', 'category', 'account']]\n",
    "\n",
    "df.rename({'odate':'Date', 'merchant':'Description', 'amount':'Amount', \n",
    "           'isDebit':'Transaction Type', 'category':'Category', 'account':'Account Name'}, axis=1, inplace=True)\n",
    "\n",
    "df['Amount'] = df['Amount'].abs()\n",
    "\n",
    "df.to_csv('../data/raw/Transactional Data/transactions.csv', index=False)"
   ]
  },
  {
   "cell_type": "code",
   "execution_count": 3,
   "metadata": {
    "ExecuteTime": {
     "end_time": "2020-08-12T03:11:00.542095Z",
     "start_time": "2020-08-12T03:11:00.328515Z"
    },
    "scrolled": true
   },
   "outputs": [
    {
     "name": "stdout",
     "output_type": "stream",
     "text": [
      "Opening: \n",
      "Amazon CC Transactions.csv\n",
      "capone.csv\n",
      "capone2.csv\n",
      "transactions.csv\n"
     ]
    }
   ],
   "source": [
    "fin = combine_csv_files(file_loc)\n",
    "fin['Date'] = pd.to_datetime(fin['Date'])\n",
    "fin.columns = fin.columns.str.replace(r\"[ ]\",\"_\")\n",
    "fin['Month'] = fin['Date']\n",
    "\n",
    "\n",
    "\n",
    "\n",
    "fin = fin.groupby(['Date', 'Month', 'Category', 'Description', \n",
    "                   'Account_Name','Transaction_Type'], \n",
    "                  as_index=False).agg({'Amount':'sum', \n",
    "                                        'Original_Description':\"count\"})\n",
    "\n",
    "fin.rename({'Original_Description':'Count'}, axis=1, inplace=True)\n",
    "fin.rename({'Category':'Sub_Category'}, axis=1, inplace=True)\n",
    "\n",
    "\n",
    "\n",
    "\n",
    "\n",
    "fin = fin[(fin['Date'] > '2017-06-30')]\n",
    "\n",
    "\n",
    "\n",
    "\n",
    "fin['Sub_Category'].replace('Credit Card Payment', 'Transfer', inplace=True)\n",
    "fin = fin[~fin['Sub_Category'].str.contains('Wedding Reimbursement', na=False)]\n",
    "fin = fin[~fin['Sub_Category'].str.contains('Wedding expenses', na=False)]\n",
    "fin1 = fin\n",
    "\n",
    "\n",
    "\n",
    "\n",
    "fin1 = fin1[~fin1['Sub_Category'].str.contains('Transfer', na=False)]"
   ]
  },
  {
   "cell_type": "code",
   "execution_count": 4,
   "metadata": {
    "ExecuteTime": {
     "end_time": "2020-08-12T03:11:01.909195Z",
     "start_time": "2020-08-12T03:11:01.800185Z"
    }
   },
   "outputs": [],
   "source": [
    "exp = pd.read_excel(file_loc1, sheet_name='Exp Ref')\n",
    "exp.rename({'Sub-Category':'Sub_Category'}, axis=1, inplace=True)\n",
    "fin1 = fin1.set_index('Sub_Category')\n",
    "exp.set_index('Sub_Category', inplace=True)\n",
    "exp.columns = exp.columns.str.replace(r\"[ ]\",\"_\")\n",
    "\n",
    "\n",
    "\n",
    "\n",
    "fin1 = fin1.join(exp, how=\"left\").fillna(\"Research\")\n",
    "fin1.reset_index(inplace=True)"
   ]
  },
  {
   "cell_type": "code",
   "execution_count": 5,
   "metadata": {
    "ExecuteTime": {
     "end_time": "2020-08-12T03:11:04.328975Z",
     "start_time": "2020-08-12T03:11:02.553109Z"
    },
    "scrolled": true
   },
   "outputs": [
    {
     "name": "stdout",
     "output_type": "stream",
     "text": [
      "Empty DataFrame\n",
      "Columns: [Date, Sub_Category, Description, Category, Amount]\n",
      "Index: []\n",
      "ERROR UPDATE: IF LINE ITEM APPEARS, GO BACK TO MINT.COM AND MAKE CORRECTIONS \n",
      "Otherwise, Press Enter to Continue:\n"
     ]
    },
    {
     "data": {
      "text/plain": [
       "''"
      ]
     },
     "execution_count": 5,
     "metadata": {},
     "output_type": "execute_result"
    }
   ],
   "source": [
    "fin2 = fin1.loc[fin1['Expense_Type_Factor']=='Research']\n",
    "print(fin2[['Date', 'Sub_Category', 'Description', 'Category', 'Amount']].head(25))\n",
    "\n",
    "\n",
    "input(\"ERROR UPDATE: IF LINE ITEM APPEARS, GO BACK TO MINT.COM AND MAKE CORRECTIONS \\n\"\n",
    "      \"Otherwise, Press Enter to Continue:\")"
   ]
  },
  {
   "cell_type": "code",
   "execution_count": 6,
   "metadata": {
    "ExecuteTime": {
     "end_time": "2020-08-12T03:11:07.215549Z",
     "start_time": "2020-08-12T03:11:07.193004Z"
    }
   },
   "outputs": [],
   "source": [
    "fin1.loc[fin1['Budget']=='Est', 'Forecast_Amount'] = fin1['Amount']\n",
    "fin1.loc[fin1['Budget']!='Est', 'Forecast_Amount'] = 0\n",
    "\n",
    "fin1['Forecast_Amount'] = pd.to_numeric(fin1['Forecast_Amount'].astype(str).replace('[^0-9]]', \"\").copy())\n",
    "\n",
    "fin1['Expense_Type_Factor'] = pd.to_numeric(fin1['Expense_Type_Factor'].astype(str).replace('[^0-9]]', \"\").copy())"
   ]
  },
  {
   "cell_type": "code",
   "execution_count": 7,
   "metadata": {
    "ExecuteTime": {
     "end_time": "2020-08-12T03:11:07.783091Z",
     "start_time": "2020-08-12T03:11:07.737264Z"
    }
   },
   "outputs": [],
   "source": [
    "fin1['Budget_Amount'] = fin1['Expense_Type_Factor']*fin1['Forecast_Amount']\n",
    "\n",
    "\n",
    "fin1.loc[fin1['Transaction_Type']=='credit', 'Amount'] = fin1['Amount']\n",
    "fin1.loc[fin1['Transaction_Type']=='debit', 'Amount'] = fin1['Amount']*-1"
   ]
  },
  {
   "cell_type": "code",
   "execution_count": 8,
   "metadata": {
    "ExecuteTime": {
     "end_time": "2020-08-12T03:11:07.990247Z",
     "start_time": "2020-08-12T03:11:07.976793Z"
    }
   },
   "outputs": [],
   "source": [
    "fin1.rename({'Sub_Category':'Sub-Category'}, axis=1, inplace=True)\n",
    "\n",
    "fin1.set_index('Date', inplace=True)\n",
    "fin1.columns = fin1.columns.str.replace(r\"[_]\",\" \")\n",
    "\n",
    "\n",
    "\n",
    "\n",
    "fin1 = fin1[['Month', 'Sub-Category', 'Description', 'Account Name',\n",
    "       'Transaction Type', 'Count', 'Category Number',\n",
    "       'Sub-Category Number', 'Category', 'Budget', 'Expense Type',\n",
    "       'Expense Type Factor', 'Forecast Amount', 'Budget Amount', 'Amount']]"
   ]
  },
  {
   "cell_type": "code",
   "execution_count": 9,
   "metadata": {
    "ExecuteTime": {
     "end_time": "2020-08-12T03:11:09.546603Z",
     "start_time": "2020-08-12T03:11:09.535852Z"
    },
    "scrolled": true
   },
   "outputs": [],
   "source": [
    "trfr = fin.loc[fin['Sub_Category'] == \"Transfer\"]\n",
    "\n",
    "trfr['Amount'] = trfr.loc[trfr['Amount']<0, ' Amount'] = trfr['Amount']*-1"
   ]
  },
  {
   "cell_type": "code",
   "execution_count": 10,
   "metadata": {
    "ExecuteTime": {
     "end_time": "2020-08-12T03:11:09.818010Z",
     "start_time": "2020-08-12T03:11:09.807048Z"
    }
   },
   "outputs": [],
   "source": [
    "trfr.loc[trfr['Transaction_Type']!='debit', 'Transfer_Type'] = str('In')\n",
    "trfr.loc[trfr['Transfer_Type']!='In', 'Transfer_Type'] = str('Out')"
   ]
  },
  {
   "cell_type": "code",
   "execution_count": 11,
   "metadata": {
    "ExecuteTime": {
     "end_time": "2020-08-12T03:11:10.013268Z",
     "start_time": "2020-08-12T03:11:10.007197Z"
    }
   },
   "outputs": [],
   "source": [
    "trfr.set_index('Date', inplace=True)\n",
    "trfr.columns = trfr.columns.str.replace(r\"[_]\",\" \")"
   ]
  },
  {
   "cell_type": "code",
   "execution_count": 12,
   "metadata": {
    "ExecuteTime": {
     "end_time": "2020-08-12T03:11:10.223015Z",
     "start_time": "2020-08-12T03:11:10.219012Z"
    },
    "scrolled": true
   },
   "outputs": [],
   "source": [
    "trfr.rename({'Sub Category':'Sub-Category'}, axis=1, inplace=True)"
   ]
  },
  {
   "cell_type": "code",
   "execution_count": 13,
   "metadata": {
    "ExecuteTime": {
     "end_time": "2020-08-12T03:11:11.892707Z",
     "start_time": "2020-08-12T03:11:11.886947Z"
    }
   },
   "outputs": [],
   "source": [
    "df = trfr[['Month', 'Sub-Category', 'Description', 'Account Name',\n",
    "       'Transaction Type', 'Count', 'Amount', 'Transfer Type']]"
   ]
  },
  {
   "cell_type": "code",
   "execution_count": 14,
   "metadata": {
    "ExecuteTime": {
     "end_time": "2020-08-12T03:11:12.205915Z",
     "start_time": "2020-08-12T03:11:12.186049Z"
    },
    "scrolled": true
   },
   "outputs": [
    {
     "data": {
      "text/html": [
       "<div>\n",
       "<style scoped>\n",
       "    .dataframe tbody tr th:only-of-type {\n",
       "        vertical-align: middle;\n",
       "    }\n",
       "\n",
       "    .dataframe tbody tr th {\n",
       "        vertical-align: top;\n",
       "    }\n",
       "\n",
       "    .dataframe thead th {\n",
       "        text-align: right;\n",
       "    }\n",
       "</style>\n",
       "<table border=\"1\" class=\"dataframe\">\n",
       "  <thead>\n",
       "    <tr style=\"text-align: right;\">\n",
       "      <th></th>\n",
       "      <th>Date</th>\n",
       "      <th>Amount</th>\n",
       "    </tr>\n",
       "  </thead>\n",
       "  <tbody>\n",
       "    <tr>\n",
       "      <th>0</th>\n",
       "      <td>2017-07-03</td>\n",
       "      <td>-338.73</td>\n",
       "    </tr>\n",
       "    <tr>\n",
       "      <th>1</th>\n",
       "      <td>2017-07-04</td>\n",
       "      <td>-56.36</td>\n",
       "    </tr>\n",
       "    <tr>\n",
       "      <th>2</th>\n",
       "      <td>2017-07-05</td>\n",
       "      <td>15.08</td>\n",
       "    </tr>\n",
       "  </tbody>\n",
       "</table>\n",
       "</div>"
      ],
      "text/plain": [
       "        Date  Amount\n",
       "0 2017-07-03 -338.73\n",
       "1 2017-07-04  -56.36\n",
       "2 2017-07-05   15.08"
      ]
     },
     "execution_count": 14,
     "metadata": {},
     "output_type": "execute_result"
    }
   ],
   "source": [
    "amt = fin1\n",
    "amt.reset_index(inplace=True)\n",
    "amt = amt.groupby(['Date'], \n",
    "                  as_index=False).agg({'Amount':'sum'})\n",
    "# amt.Date.value_counts()\n",
    "amt.head(3)"
   ]
  },
  {
   "cell_type": "code",
   "execution_count": 15,
   "metadata": {
    "ExecuteTime": {
     "end_time": "2020-08-12T03:11:12.425134Z",
     "start_time": "2020-08-12T03:11:12.407851Z"
    }
   },
   "outputs": [
    {
     "data": {
      "text/html": [
       "<div>\n",
       "<style scoped>\n",
       "    .dataframe tbody tr th:only-of-type {\n",
       "        vertical-align: middle;\n",
       "    }\n",
       "\n",
       "    .dataframe tbody tr th {\n",
       "        vertical-align: top;\n",
       "    }\n",
       "\n",
       "    .dataframe thead th {\n",
       "        text-align: right;\n",
       "    }\n",
       "</style>\n",
       "<table border=\"1\" class=\"dataframe\">\n",
       "  <thead>\n",
       "    <tr style=\"text-align: right;\">\n",
       "      <th></th>\n",
       "      <th>Date</th>\n",
       "      <th>Amount</th>\n",
       "      <th>Cash</th>\n",
       "    </tr>\n",
       "  </thead>\n",
       "  <tbody>\n",
       "    <tr>\n",
       "      <th>0</th>\n",
       "      <td>2017-07-03</td>\n",
       "      <td>-338.73</td>\n",
       "      <td>9255.58</td>\n",
       "    </tr>\n",
       "    <tr>\n",
       "      <th>1</th>\n",
       "      <td>2017-07-04</td>\n",
       "      <td>-56.36</td>\n",
       "      <td>8916.85</td>\n",
       "    </tr>\n",
       "    <tr>\n",
       "      <th>2</th>\n",
       "      <td>2017-07-05</td>\n",
       "      <td>15.08</td>\n",
       "      <td>8860.49</td>\n",
       "    </tr>\n",
       "  </tbody>\n",
       "</table>\n",
       "</div>"
      ],
      "text/plain": [
       "        Date  Amount     Cash\n",
       "0 2017-07-03 -338.73  9255.58\n",
       "1 2017-07-04  -56.36  8916.85\n",
       "2 2017-07-05   15.08  8860.49"
      ]
     },
     "execution_count": 15,
     "metadata": {},
     "output_type": "execute_result"
    }
   ],
   "source": [
    "amt['Cash'] = amt.Amount.shift(1)\n",
    "\n",
    "beg_balance = 9255.58\n",
    "amt.Cash.fillna(beg_balance, inplace=True)\n",
    "\n",
    "amt['Cash'] = amt['Cash'].cumsum(axis=0)\n",
    "amt.head(3)"
   ]
  },
  {
   "cell_type": "code",
   "execution_count": 16,
   "metadata": {
    "ExecuteTime": {
     "end_time": "2020-08-12T03:11:14.475681Z",
     "start_time": "2020-08-12T03:11:14.471692Z"
    }
   },
   "outputs": [],
   "source": [
    "# L = amt['Cash'].tolist()\n",
    "\n",
    "# def add_one_by_one(L):\n",
    "#     new_L = []\n",
    "#     for elt in L:\n",
    "#         if len(new_L)>0:\n",
    "#             new_L.append(new_L[-1]+elt)\n",
    "#         else:\n",
    "#             new_L.append(elt)\n",
    "#     return new_L\n",
    "\n",
    "# new_L = add_one_by_one(L)\n",
    "\n",
    "# amt['Cash'] = new_L\n",
    "# amt.head(3)"
   ]
  },
  {
   "cell_type": "code",
   "execution_count": 17,
   "metadata": {
    "ExecuteTime": {
     "end_time": "2020-08-12T03:11:15.439229Z",
     "start_time": "2020-08-12T03:11:15.423927Z"
    }
   },
   "outputs": [],
   "source": [
    "amt.set_index('Date',inplace=True)\n",
    "fin1.set_index('Date', inplace=True)\n",
    "fin = fin1.join(amt['Cash']).fillna('Research')"
   ]
  },
  {
   "cell_type": "code",
   "execution_count": 23,
   "metadata": {
    "ExecuteTime": {
     "end_time": "2020-08-11T00:04:55.916605Z",
     "start_time": "2020-08-11T00:04:53.973965Z"
    }
   },
   "outputs": [],
   "source": [
    "fin_writer = pd.ExcelWriter('../data/final/financial_transactions.xlsx', engine = 'xlsxwriter',\n",
    "                            datetime_format = 'mm/dd/yyyy')\n",
    "\n",
    "\n",
    "fin.to_excel(fin_writer, 'Data')\n",
    "workbook = fin_writer.book\n",
    "worksheet = fin_writer.sheets['Data']\n",
    "curFormat = workbook.add_format({'num_format': '$#,##0.00_);[Red]($#,##0.00)'})\n",
    "worksheet.set_column('D:D', None, curFormat)\n",
    "fin_writer.save()\n",
    "\n",
    "fin.to_csv()"
   ]
  },
  {
   "cell_type": "code",
   "execution_count": 24,
   "metadata": {
    "ExecuteTime": {
     "end_time": "2020-08-11T00:04:56.726064Z",
     "start_time": "2020-08-11T00:04:56.156011Z"
    }
   },
   "outputs": [],
   "source": [
    "trfr_writer = pd.ExcelWriter('../data/final/transfer_report.xlsx', engine = 'xlsxwriter',\n",
    "                            datetime_format = 'mm/dd/yyyy')\n",
    "\n",
    "df.to_excel(trfr_writer, 'Data')\n",
    "workbook = trfr_writer.book\n",
    "worksheet = trfr_writer.sheets['Data']\n",
    "curFormat = workbook.add_format({'num_format': '$#,##0.00_);[Red]($#,##0.00)'})\n",
    "worksheet.set_column('D:D', None, curFormat)\n",
    "trfr_writer.save()"
   ]
  },
  {
   "cell_type": "code",
   "execution_count": 25,
   "metadata": {
    "ExecuteTime": {
     "end_time": "2020-08-11T00:04:58.065317Z",
     "start_time": "2020-08-11T00:04:56.896624Z"
    }
   },
   "outputs": [
    {
     "name": "stdout",
     "output_type": "stream",
     "text": [
      "Press Enter to Close:\n"
     ]
    },
    {
     "data": {
      "text/plain": [
       "''"
      ]
     },
     "execution_count": 25,
     "metadata": {},
     "output_type": "execute_result"
    }
   ],
   "source": [
    "input(\"Press Enter to Close:\")"
   ]
  },
  {
   "cell_type": "code",
   "execution_count": null,
   "metadata": {},
   "outputs": [],
   "source": []
  }
 ],
 "metadata": {
  "hide_input": false,
  "kernelspec": {
   "display_name": "Python 3",
   "language": "python",
   "name": "python3"
  },
  "language_info": {
   "codemirror_mode": {
    "name": "ipython",
    "version": 3
   },
   "file_extension": ".py",
   "mimetype": "text/x-python",
   "name": "python",
   "nbconvert_exporter": "python",
   "pygments_lexer": "ipython3",
   "version": "3.7.3"
  },
  "toc": {
   "base_numbering": 1,
   "nav_menu": {},
   "number_sections": true,
   "sideBar": true,
   "skip_h1_title": false,
   "title_cell": "Table of Contents",
   "title_sidebar": "Contents",
   "toc_cell": false,
   "toc_position": {},
   "toc_section_display": true,
   "toc_window_display": false
  },
  "varInspector": {
   "cols": {
    "lenName": 16,
    "lenType": 16,
    "lenVar": 40
   },
   "kernels_config": {
    "python": {
     "delete_cmd_postfix": "",
     "delete_cmd_prefix": "del ",
     "library": "var_list.py",
     "varRefreshCmd": "print(var_dic_list())"
    },
    "r": {
     "delete_cmd_postfix": ") ",
     "delete_cmd_prefix": "rm(",
     "library": "var_list.r",
     "varRefreshCmd": "cat(var_dic_list()) "
    }
   },
   "types_to_exclude": [
    "module",
    "function",
    "builtin_function_or_method",
    "instance",
    "_Feature"
   ],
   "window_display": false
  }
 },
 "nbformat": 4,
 "nbformat_minor": 2
}
