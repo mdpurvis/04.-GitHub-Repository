{
 "cells": [
  {
   "cell_type": "code",
   "execution_count": 43,
   "metadata": {
    "ExecuteTime": {
     "end_time": "2020-08-12T04:14:30.428738Z",
     "start_time": "2020-08-12T04:14:30.424749Z"
    }
   },
   "outputs": [],
   "source": [
    "import pandas as pd\n",
    "import io\n",
    "import requests"
   ]
  },
  {
   "cell_type": "code",
   "execution_count": 44,
   "metadata": {
    "ExecuteTime": {
     "end_time": "2020-08-12T04:14:31.090256Z",
     "start_time": "2020-08-12T04:14:31.086267Z"
    }
   },
   "outputs": [],
   "source": [
    "url=(\"https://raw.githubusercontent.com/mdpurvis/github/master/Mint/data/final/\"+\n",
    "     \"financial_transactions.csv\")\n",
    "\n",
    "url = (\"https://raw.githubusercontent.com/mdpurvis/github/master/Mint/data/final/\"+\n",
    "       \"transfer_report.csv\")"
   ]
  },
  {
   "cell_type": "code",
   "execution_count": 45,
   "metadata": {
    "ExecuteTime": {
     "end_time": "2020-08-12T04:14:32.192490Z",
     "start_time": "2020-08-12T04:14:31.725573Z"
    }
   },
   "outputs": [],
   "source": [
    "read_data = requests.get(url).content"
   ]
  },
  {
   "cell_type": "code",
   "execution_count": 46,
   "metadata": {
    "ExecuteTime": {
     "end_time": "2020-08-12T04:14:32.407659Z",
     "start_time": "2020-08-12T04:14:32.400678Z"
    }
   },
   "outputs": [
    {
     "data": {
      "text/plain": [
       "b'Date,Description,Original Description,Amount,Transaction Type,Category,Account Name,Labels,Notes\\n7/31/2019,CARD SECURITY 1 800 815 4051,CARD SECURITY 1 800 815 4051,0.48,debit,Finance Charge,XXXXXXXXXX0290,,\\n7/13/2019,Amazon,AMAZON MARKETPLACE SEATTLE WA Amazon.com Refund,10.99,credit,Shopping,XXXXXXXXXX0290,,\\n7/9/2019,ONLINE payment-THANK YOU ATLANTA GA,ONLINE PYMT-THANK YOU ATLANTA GA,1319.61,credit,Transfer,XXXXXXXXXX0290,,\\n7/8/2019,Amazon,AMAZON MARKETPLACE SEATTLE WA OtterBox DEFENDER iPhone 6/6s,22,debit,Electronics & Software,XXXXXXXXXX0290,,\\n7/7/2019,Amazon,\"AMAZON MARKETPLACE SEATTLE WA Rebex iPhone 8 Case Cover,iPho amFilm Glass Screen Protector\",17.98,debit,Electronics & Software,XXXXXXXXXX0290,,\\n7/1/2019,Amazon,AMAZON MARKETPLACE SEATTLE WA MdnMd Girls\\' Short Sleeve Skir HighKey Snacks Keto Mini Cooki AZO Bladder Control with Go-Le SHIPPING AND TAX,50.08,debit,Baby Supplies,XXXXXXXXXX0290,,\\n7/1/2019,Amazon,AMAZON MARKETPLACE SEATTLE WA EQUAL PAY 0% APR - 12 MOS HP 1JD35UT#ABA Zbook 15 G4 Wor SHIPPING AND TAX,1132.99,debit,Books & Supplies,XXXXXXXXXX0290,,\\n6/30/2019,CARD SECURITY 1 800 815 4051,CARD SECURITY 1 800 815 4051,20.73,debit,Other Fees,XXXXXXXXXX0290,,\\n6/24/2019,Amazon,AMAZON MARKETPLACE SEATTLE WA icyzone Workout Lounge Shorts,13.79,debit,Baby Supplies,XXXXXXXXXX0290,,\\n6/23/2019,Amazon,AMAZON MARKETPLACE SEATTLE WA Warner\\'s Women\\'s Blissful Bene Magnetic Drawing Board Mini Tr Girls\\' Short Sleeve Skirted Le OXO Good Grips Dish Brush,33.93,debit,Baby Supplies,XXXXXXXXXX0290,,\\n6/22/2019,Amazon,\"AMAZON RETAIL SEATTLE WA EQUAL PAY 0% APR - 12 MOS Amazon Elements Baby Wipes, Se Alex and Ani Wrap Birth Month\",11.99,debit,Baby Supplies,XXXXXXXXXX0290,,\\n6/22/2019,Amazon,\"AMAZON RETAIL SEATTLE WA EQUAL PAY 0% APR - 12 MOS Amazon Elements Baby Wipes, Se Alex and Ani Wrap Birth Month\",19.6,debit,Clothing - SAP,XXXXXXXXXX0290,,\\n6/20/2019,Amazon,AMAZON MARKETPLACE SEATTLE WA BODOAO Women Plus Size Rope Ti SHIPPING AND TAX,5.61,debit,Baby Supplies,XXXXXXXXXX0290,,\\n6/20/2019,ONLINE payment-THANK YOU ATLANTA GA,ONLINE PYMT-THANK YOU ATLANTA GA,100,credit,Transfer,XXXXXXXXXX0290,,\\n6/11/2019,Amazon,AMAZON RETAIL SEATTLE WA Blue Buffalo Life Protection F,46.3,debit,Pet Food & Supplies,XXXXXXXXXX0290,,\\n5/31/2019,CARD SECURITY 1 800 815 4051,CARD SECURITY 1 800 815 4051,1.38,debit,Other Fees,XXXXXXXXXX0290,,\\n5/14/2019,Amazon,\"AMAZON RETAIL SEATTLE WA Amazon Elements Baby Wipes, Se AA Batteries, 24 Count - Energ Mega Bloks Build \\'N Learn Tabl\",46.9,debit,Shopping,XXXXXXXXXX0290,,\\n5/9/2019,ONLINE payment-THANK YOU ATLANTA GA,ONLINE PYMT-THANK YOU ATLANTA GA,112.51,credit,Transfer,XXXXXXXXXX0290,,\\n5/8/2019,Amazon,AMAZON MARKETPLACE SEATTLE WA Gyouanime Women Short Pants Su,7.59,debit,Clothing - SAP,XXXXXXXXXX0290,,\\n5/6/2019,Amazon,AMAZON MARKETPLACE SEATTLE WA,16.99,debit,Clothing - SAP,XXXXXXXXXX0290,,\\n5/5/2019,Amazon,AMAZON MARKETPLACE SEATTLE WA,11.73,debit,Baby Supplies,XXXXXXXXXX0290,,\\n4/30/2019,CARD SECURITY 1 800 815 4051,CARD SECURITY 1 800 815 4051,1.84,debit,Other Fees,XXXXXXXXXX0290,,\\n4/28/2019,Amazon,\"AMAZON MARKETPLACE SEATTLE WA Baby Fruit Feeder Pacifier (2 Diapers Size 5, 164 Count - Pa Blue Buffalo Life Protection F\",110.67,debit,Baby Supplies,XXXXXXXXXX0290,,\\n4/25/2019,ONLINE payment-THANK YOU ATLANTA GA,ONLINE PYMT-THANK YOU ATLANTA GA,100,credit,Transfer,XXXXXXXXXX0290,,\\n4/16/2019,ONLINE payment-THANK YOU ATLANTA GA,ONLINE PYMT-THANK YOU ATLANTA GA,206.33,credit,Transfer,XXXXXXXXXX0290,,\\n4/11/2019,Amazon,AMAZON MARKETPLACE SEATTLE WA Invisible Fence Compatible 4 p,24.99,debit,Baby Supplies,XXXXXXXXXX0290,,\\n4/4/2019,Amazon,AMAZON RETAIL SEATTLE WA Melissa & Doug Cutting Fruit S,16.99,debit,Baby Supplies,XXXXXXXXXX0290,,\\n4/4/2019,Amazon,AMAZON MARKETPLACE SEATTLE WA 2Pcs/Set Fashion Toddler Kids 2PCS Set Toddler Kids Baby Gir,25.49,debit,Baby Supplies,XXXXXXXXXX0290,,\\n4/4/2019,Amazon,AMAZON RETAIL SEATTLE WA Step2 Crabbie Sand Table,42.99,debit,Baby Supplies,XXXXXXXXXX0290,,\\n4/3/2019,Amazon,AMAZON MARKETPLACE SEATTLE WA Mama Koala One Size Baby Washa,24.03,debit,Shopping,XXXXXXXXXX0290,,\\n3/31/2019,CARD SECURITY 1 800 815 4051,CARD SECURITY 1 800 815 4051,2.81,debit,Other Fees,XXXXXXXXXX0290,,\\n3/24/2019,Amazon,AMAZON MARKETPLACE SEATTLE WA Brilliant? 8 Oz Jewelry Cleane,7.95,debit,Baby Supplies,XXXXXXXXXX0290,,\\n3/24/2019,Amazon,AMAZON RETAIL SEATTLE WA Fun Furnishings 55247 Toddler,48.99,debit,Baby Supplies,XXXXXXXXXX0290,,\\n3/23/2019,ONLINE payment-THANK YOU ATLANTA GA,ONLINE PYMT-THANK YOU ATLANTA GA,150,credit,Transfer,XXXXXXXXXX0290,,\\n3/13/2019,Amazon,AMAZON RETAIL SEATTLE WA Data Management: Databases and SHIPPING AND TAX,62.6,debit,Books & Supplies,XXXXXXXXXX0290,,\\n3/11/2019,Amazon,AMAZON MARKETPLACE SEATTLE WA EIMIN Women\\'s Pleated Chiffon,19.99,debit,Shopping,XXXXXXXXXX0290,,\\n3/10/2019,Amazon,AMAZON RETAIL SEATTLE WA Darice 9119-26 Big Value Unfin Seresto flea and tick collar f,51.95,debit,Books & Supplies,XXXXXXXXXX0290,,\\n3/1/2019,Amazon,AMAZON MARKETPLACE SEATTLE WA Toddler Baby Girl Floral Halte GotStyle Vivicastle Women\\'s Sp MuDan Elastic Slingback Flit F Zattcas Womens Summer Contrast,70.62,debit,Clothing - SAP,XXXXXXXXXX0290,,\\n2/28/2019,Amazon,AMAZON MARKETPLACE SEATTLE WA Deesee(TM)&#x1F495; Women Legg SHIPPING AND TAX,7.98,debit,Shopping,XXXXXXXXXX0290,,\\n2/28/2019,Amazon,AMAZON MARKETPLACE SEATTLE WA PINKMILLY Womens Pleated Sleev SHIPPING AND TAX,15.98,debit,Clothing - SAP,XXXXXXXXXX0290,,\\n2/28/2019,Amazon,AMAZON MARKETPLACE SEATTLE WA ForeMode Women Boho Print High,21.99,debit,Clothing - SAP,XXXXXXXXXX0290,,\\n2/28/2019,Amazon,AMAZON MARKETPLACE SEATTLE WA C&M Wodro Infant Baby Girl Bod SHIPPING AND TAX,10.98,debit,Shopping,XXXXXXXXXX0290,,\\n2/26/2019,Online Thank You,ONLINE PYMT-THANK YOU ATLANTA GA,334.97,credit,Transfer,XXXXXXXXXX0290,,\\n2/23/2019,Late Payment Fee,LATE FEE,10.18,debit,Other Fees,XXXXXXXXXX0290,,\\n2/21/2019,Amazon,AMAZON MARKETPLACE SEATTLE WA JJ Perfection Women\\'s Pleated,19.99,debit,Clothing - SAP,XXXXXXXXXX0290,,\\n2/21/2019,Amazon,AMAZON RETAIL SEATTLE WA Graco Nautilus 65 LX 3-in-1 Ha,179.61,debit,Baby Supplies,XXXXXXXXXX0290,,\\n2/16/2019,Amazon,AMAZON MARKETPLACE SEATTLE WA iYYVV Plus Size Womens Ladies SHIPPING AND TAX,8.48,debit,Shopping,XXXXXXXXXX0290,,\\n2/16/2019,Amazon,AMAZON MARKETPLACE SEATTLE WA Columbia Men\\'s Watertight II R,59.99,debit,Clothing - MDP,XXXXXXXXXX0290,,\\n2/12/2019,Amazon,AMAZON RETAIL SEATTLE WA Blue Buffalo Life Protection F,46.54,debit,Pet Food & Supplies,XXXXXXXXXX0290,,\\n1/31/2019,Security,CARD SECURITY 1 800 815 4051,0.17,debit,Other Fees,XXXXXXXXXX0290,,\\n1/24/2019,Amazon,AMAZON MARKETPLACE SEATTLE WA GUBERRY V Neck Shirts for Wome,10.01,debit,Baby Supplies,XXXXXXXXXX0290,,\\n1/22/2019,Online Thank You,ONLINE PYMT-THANK YOU ATLANTA GA,203,credit,Transfer,XXXXXXXXXX0290,,\\n1/14/2019,Amazon,AMAZON MARKETPLACE SEATTLE WA Sugar Plum Creations One Snowf,8.99,debit,Baby Supplies,XXXXXXXXXX0290,,\\n1/13/2019,Amazon,\"AMAZON MARKETPLACE SEATTLE WA Soccerene First Birthday Banne Christmas Party Decorations,24\",22.89,debit,Baby Supplies,XXXXXXXXXX0290,,\\n1/6/2019,Amazon,AMAZON MARKETPLACE SEATTLE WA Baby on board with Arrows Viny,4.99,debit,Gifts & Donations,XXXXXXXXXX0290,,\\n1/6/2019,Amazon,AMAZON MARKETPLACE SEATTLE WA Seafoam Green and Grey Arrow P,12.99,debit,Gifts & Donations,XXXXXXXXXX0290,,\\n1/6/2019,Amazon,AMAZON MARKETPLACE SEATTLE WA Munchkin High Capacity Drying oogiebear - The Safe Baby Nasa,25.7,debit,Gifts & Donations,XXXXXXXXXX0290,,\\n12/31/2018,Security,CARD SECURITY 1 800 815 4051,2.08,debit,Other Fees,XXXXXXXXXX0290,,\\n12/29/2018,Amazon,\"AMAZON PAYMENTS SEATTLE WA AMZ*Woot, Inc\",49.98,debit,Gifts & Donations,XXXXXXXXXX0290,,\\n12/27/2018,Amazon,AMAZON MARKETPLACE SEATTLE WA SAMSUNG M471B5173QH0-YK0 4GB D,0.99,debit,Gifts & Donations,XXXXXXXXXX0290,,\\n12/25/2018,Amazon,\"AMAZON RETAIL SEATTLE WA Dr. Brown\\'s Original Nipple, L\",17.98,debit,Gifts & Donations,XXXXXXXXXX0290,,\\n12/23/2018,Amazon,AMAZON MARKETPLACE SEATTLE WA Circle Stud Earrings - 925 Ste,10.99,debit,Gifts & Donations,XXXXXXXXXX0290,,\\n12/23/2018,Amazon,AMAZON MARKETPLACE SEATTLE WA VTech Drill & Learn Toolbox SHIPPING AND TAX,20.43,debit,Gifts & Donations,XXXXXXXXXX0290,,\\n12/23/2018,Amazon,AMAZON MARKETPLACE SEATTLE WA Toy Truck Transport Car Carrie,24.99,debit,Gifts & Donations,XXXXXXXXXX0290,,\\n12/20/2018,Online Thank You,ONLINE PYMT-THANK YOU ATLANTA GA,44.19,credit,Transfer,XXXXXXXXXX0290,,\\n12/14/2018,Amazon,AMAZON MARKETPLACE SEATTLE WA oogiebear - the safe baby nasa Luvable Friends Baby Cozy Flee,22.94,debit,Baby Supplies,XXXXXXXXXX0290,,\\n12/2/2018,Amazon,AMAZON RETAIL SEATTLE WA Knock Knock Apology Nifty Note,10.27,debit,Gifts & Donations,XXXXXXXXXX0290,,\\n12/2/2018,Amazon,AMAZON MARKETPLACE SEATTLE WA Worlds Okayest Uncle T Shirt A SHIPPING AND TAX,10.98,debit,Gifts & Donations,XXXXXXXXXX0290,,\\n'"
      ]
     },
     "execution_count": 46,
     "metadata": {},
     "output_type": "execute_result"
    }
   ],
   "source": [
    "read_data"
   ]
  },
  {
   "cell_type": "code",
   "execution_count": 15,
   "metadata": {
    "ExecuteTime": {
     "end_time": "2020-08-12T03:16:27.430176Z",
     "start_time": "2020-08-12T03:16:27.408243Z"
    }
   },
   "outputs": [
    {
     "data": {
      "text/html": [
       "<div>\n",
       "<style scoped>\n",
       "    .dataframe tbody tr th:only-of-type {\n",
       "        vertical-align: middle;\n",
       "    }\n",
       "\n",
       "    .dataframe tbody tr th {\n",
       "        vertical-align: top;\n",
       "    }\n",
       "\n",
       "    .dataframe thead th {\n",
       "        text-align: right;\n",
       "    }\n",
       "</style>\n",
       "<table border=\"1\" class=\"dataframe\">\n",
       "  <thead>\n",
       "    <tr style=\"text-align: right;\">\n",
       "      <th></th>\n",
       "      <th>Date</th>\n",
       "      <th>Description</th>\n",
       "      <th>Original Description</th>\n",
       "      <th>Amount</th>\n",
       "      <th>Transaction Type</th>\n",
       "      <th>Category</th>\n",
       "      <th>Account Name</th>\n",
       "      <th>Labels</th>\n",
       "      <th>Notes</th>\n",
       "    </tr>\n",
       "  </thead>\n",
       "  <tbody>\n",
       "    <tr>\n",
       "      <th>0</th>\n",
       "      <td>7/31/2019</td>\n",
       "      <td>CARD SECURITY 1 800 815 4051</td>\n",
       "      <td>CARD SECURITY 1 800 815 4051</td>\n",
       "      <td>0.48</td>\n",
       "      <td>debit</td>\n",
       "      <td>Finance Charge</td>\n",
       "      <td>XXXXXXXXXX0290</td>\n",
       "      <td>NaN</td>\n",
       "      <td>NaN</td>\n",
       "    </tr>\n",
       "    <tr>\n",
       "      <th>1</th>\n",
       "      <td>7/13/2019</td>\n",
       "      <td>Amazon</td>\n",
       "      <td>AMAZON MARKETPLACE SEATTLE WA Amazon.com Refund</td>\n",
       "      <td>10.99</td>\n",
       "      <td>credit</td>\n",
       "      <td>Shopping</td>\n",
       "      <td>XXXXXXXXXX0290</td>\n",
       "      <td>NaN</td>\n",
       "      <td>NaN</td>\n",
       "    </tr>\n",
       "    <tr>\n",
       "      <th>2</th>\n",
       "      <td>7/9/2019</td>\n",
       "      <td>ONLINE payment-THANK YOU ATLANTA GA</td>\n",
       "      <td>ONLINE PYMT-THANK YOU ATLANTA GA</td>\n",
       "      <td>1319.61</td>\n",
       "      <td>credit</td>\n",
       "      <td>Transfer</td>\n",
       "      <td>XXXXXXXXXX0290</td>\n",
       "      <td>NaN</td>\n",
       "      <td>NaN</td>\n",
       "    </tr>\n",
       "    <tr>\n",
       "      <th>3</th>\n",
       "      <td>7/8/2019</td>\n",
       "      <td>Amazon</td>\n",
       "      <td>AMAZON MARKETPLACE SEATTLE WA OtterBox DEFENDE...</td>\n",
       "      <td>22.00</td>\n",
       "      <td>debit</td>\n",
       "      <td>Electronics &amp; Software</td>\n",
       "      <td>XXXXXXXXXX0290</td>\n",
       "      <td>NaN</td>\n",
       "      <td>NaN</td>\n",
       "    </tr>\n",
       "    <tr>\n",
       "      <th>4</th>\n",
       "      <td>7/7/2019</td>\n",
       "      <td>Amazon</td>\n",
       "      <td>AMAZON MARKETPLACE SEATTLE WA Rebex iPhone 8 C...</td>\n",
       "      <td>17.98</td>\n",
       "      <td>debit</td>\n",
       "      <td>Electronics &amp; Software</td>\n",
       "      <td>XXXXXXXXXX0290</td>\n",
       "      <td>NaN</td>\n",
       "      <td>NaN</td>\n",
       "    </tr>\n",
       "  </tbody>\n",
       "</table>\n",
       "</div>"
      ],
      "text/plain": [
       "        Date                          Description  \\\n",
       "0  7/31/2019         CARD SECURITY 1 800 815 4051   \n",
       "1  7/13/2019                               Amazon   \n",
       "2   7/9/2019  ONLINE payment-THANK YOU ATLANTA GA   \n",
       "3   7/8/2019                               Amazon   \n",
       "4   7/7/2019                               Amazon   \n",
       "\n",
       "                                Original Description   Amount  \\\n",
       "0                       CARD SECURITY 1 800 815 4051     0.48   \n",
       "1    AMAZON MARKETPLACE SEATTLE WA Amazon.com Refund    10.99   \n",
       "2                   ONLINE PYMT-THANK YOU ATLANTA GA  1319.61   \n",
       "3  AMAZON MARKETPLACE SEATTLE WA OtterBox DEFENDE...    22.00   \n",
       "4  AMAZON MARKETPLACE SEATTLE WA Rebex iPhone 8 C...    17.98   \n",
       "\n",
       "  Transaction Type                Category    Account Name  Labels  Notes  \n",
       "0            debit          Finance Charge  XXXXXXXXXX0290     NaN    NaN  \n",
       "1           credit                Shopping  XXXXXXXXXX0290     NaN    NaN  \n",
       "2           credit                Transfer  XXXXXXXXXX0290     NaN    NaN  \n",
       "3            debit  Electronics & Software  XXXXXXXXXX0290     NaN    NaN  \n",
       "4            debit  Electronics & Software  XXXXXXXXXX0290     NaN    NaN  "
      ]
     },
     "execution_count": 15,
     "metadata": {},
     "output_type": "execute_result"
    }
   ],
   "source": [
    "address = pd.read_csv(io.StringIO(read_data.decode('utf-8')))\n",
    "address.head()"
   ]
  },
  {
   "cell_type": "code",
   "execution_count": null,
   "metadata": {},
   "outputs": [],
   "source": [
    "file_loc = '../Documents/GitHub Repository/Mint/data/raw/Transactional Data/transactions.csv'"
   ]
  },
  {
   "cell_type": "code",
   "execution_count": 27,
   "metadata": {
    "ExecuteTime": {
     "end_time": "2020-08-12T03:35:40.252821Z",
     "start_time": "2020-08-12T03:35:40.240337Z"
    }
   },
   "outputs": [
    {
     "ename": "FileNotFoundError",
     "evalue": "[WinError 2] The system cannot find the file specified: 'C:/Users/mdpur/PythonScriptWrapper_060b50ca-48d1-4d15-9370-643cbbb0279a'",
     "output_type": "error",
     "traceback": [
      "\u001b[1;31m---------------------------------------------------------------------------\u001b[0m",
      "\u001b[1;31mFileNotFoundError\u001b[0m                         Traceback (most recent call last)",
      "\u001b[1;32m<ipython-input-27-4e1d01733d7c>\u001b[0m in \u001b[0;36m<module>\u001b[1;34m\u001b[0m\n\u001b[0;32m      3\u001b[0m \u001b[0mlist1\u001b[0m \u001b[1;33m=\u001b[0m \u001b[1;33m[\u001b[0m\u001b[1;33m]\u001b[0m\u001b[1;33m\u001b[0m\u001b[1;33m\u001b[0m\u001b[0m\n\u001b[0;32m      4\u001b[0m \u001b[1;33m\u001b[0m\u001b[0m\n\u001b[1;32m----> 5\u001b[1;33m \u001b[0mos\u001b[0m\u001b[1;33m.\u001b[0m\u001b[0mchdir\u001b[0m\u001b[1;33m(\u001b[0m\u001b[1;34m'C:/Users/mdpur/PythonScriptWrapper_060b50ca-48d1-4d15-9370-643cbbb0279a'\u001b[0m\u001b[1;33m)\u001b[0m\u001b[1;33m\u001b[0m\u001b[1;33m\u001b[0m\u001b[0m\n\u001b[0m\u001b[0;32m      6\u001b[0m \u001b[0mpath\u001b[0m \u001b[1;33m=\u001b[0m \u001b[0mos\u001b[0m\u001b[1;33m.\u001b[0m\u001b[0mgetcwd\u001b[0m\u001b[1;33m(\u001b[0m\u001b[1;33m)\u001b[0m\u001b[1;33m\u001b[0m\u001b[1;33m\u001b[0m\u001b[0m\n\u001b[0;32m      7\u001b[0m \u001b[0mpath\u001b[0m\u001b[1;33m\u001b[0m\u001b[1;33m\u001b[0m\u001b[0m\n",
      "\u001b[1;31mFileNotFoundError\u001b[0m: [WinError 2] The system cannot find the file specified: 'C:/Users/mdpur/PythonScriptWrapper_060b50ca-48d1-4d15-9370-643cbbb0279a'"
     ]
    }
   ],
   "source": [
    "import os\n",
    "\n",
    "list1 = []\n",
    "\n",
    "os.chdir('C:/Users/mdpur/PythonScriptWrapper_060b50ca-48d1-4d15-9370-643cbbb0279a') \n",
    "path = os.getcwd()\n",
    "path\n"
   ]
  },
  {
   "cell_type": "code",
   "execution_count": 32,
   "metadata": {
    "ExecuteTime": {
     "end_time": "2020-08-12T03:37:13.043240Z",
     "start_time": "2020-08-12T03:37:13.039247Z"
    }
   },
   "outputs": [],
   "source": [
    "os.chdir(os.path.dirname(os.path.abspath('C:/Users/mdpur/PythonScriptWrapper_060b50ca-48d1-4d15-9370-643cbbb0279a/')))"
   ]
  },
  {
   "cell_type": "code",
   "execution_count": 34,
   "metadata": {
    "ExecuteTime": {
     "end_time": "2020-08-12T03:43:31.554014Z",
     "start_time": "2020-08-12T03:43:31.547033Z"
    }
   },
   "outputs": [
    {
     "data": {
      "text/plain": [
       "'C:\\\\Users\\\\mdpur'"
      ]
     },
     "execution_count": 34,
     "metadata": {},
     "output_type": "execute_result"
    }
   ],
   "source": [
    "path = os.getcwd()\n",
    "path"
   ]
  },
  {
   "cell_type": "code",
   "execution_count": 38,
   "metadata": {
    "ExecuteTime": {
     "end_time": "2020-08-12T03:44:19.483124Z",
     "start_time": "2020-08-12T03:44:19.479246Z"
    }
   },
   "outputs": [],
   "source": [
    "file_loc = 'OneDrive/Documents/GitHub Repository/Mint/data/raw/Transactional Data/transactions.csv'"
   ]
  },
  {
   "cell_type": "code",
   "execution_count": 39,
   "metadata": {
    "ExecuteTime": {
     "end_time": "2020-08-12T03:44:19.932880Z",
     "start_time": "2020-08-12T03:44:19.887385Z"
    }
   },
   "outputs": [
    {
     "data": {
      "text/html": [
       "<div>\n",
       "<style scoped>\n",
       "    .dataframe tbody tr th:only-of-type {\n",
       "        vertical-align: middle;\n",
       "    }\n",
       "\n",
       "    .dataframe tbody tr th {\n",
       "        vertical-align: top;\n",
       "    }\n",
       "\n",
       "    .dataframe thead th {\n",
       "        text-align: right;\n",
       "    }\n",
       "</style>\n",
       "<table border=\"1\" class=\"dataframe\">\n",
       "  <thead>\n",
       "    <tr style=\"text-align: right;\">\n",
       "      <th></th>\n",
       "      <th>Date</th>\n",
       "      <th>Description</th>\n",
       "      <th>Original Description</th>\n",
       "      <th>Amount</th>\n",
       "      <th>Transaction Type</th>\n",
       "      <th>Category</th>\n",
       "      <th>Account Name</th>\n",
       "      <th>Labels</th>\n",
       "      <th>Notes</th>\n",
       "    </tr>\n",
       "  </thead>\n",
       "  <tbody>\n",
       "    <tr>\n",
       "      <th>0</th>\n",
       "      <td>8/10/2020</td>\n",
       "      <td>Walgreens</td>\n",
       "      <td>Authorization Hold / WALGREENS #19912</td>\n",
       "      <td>9.48</td>\n",
       "      <td>debit</td>\n",
       "      <td>Pharmacy</td>\n",
       "      <td>STARTER CIV VISA</td>\n",
       "      <td>NaN</td>\n",
       "      <td>NaN</td>\n",
       "    </tr>\n",
       "    <tr>\n",
       "      <th>1</th>\n",
       "      <td>8/10/2020</td>\n",
       "      <td>Amazon</td>\n",
       "      <td>Authorization Hold / AMAZON.COM</td>\n",
       "      <td>12.88</td>\n",
       "      <td>debit</td>\n",
       "      <td>Shopping</td>\n",
       "      <td>CHECKING</td>\n",
       "      <td>NaN</td>\n",
       "      <td>NaN</td>\n",
       "    </tr>\n",
       "    <tr>\n",
       "      <th>2</th>\n",
       "      <td>8/10/2020</td>\n",
       "      <td>Amazon</td>\n",
       "      <td>Authorization Hold / AMZN MKTP US</td>\n",
       "      <td>6.42</td>\n",
       "      <td>debit</td>\n",
       "      <td>Shopping</td>\n",
       "      <td>CHECKING</td>\n",
       "      <td>NaN</td>\n",
       "      <td>NaN</td>\n",
       "    </tr>\n",
       "    <tr>\n",
       "      <th>3</th>\n",
       "      <td>8/10/2020</td>\n",
       "      <td>Hannaford</td>\n",
       "      <td>HANNAFORD #8159</td>\n",
       "      <td>68.33</td>\n",
       "      <td>debit</td>\n",
       "      <td>Groceries</td>\n",
       "      <td>Discover</td>\n",
       "      <td>NaN</td>\n",
       "      <td>NaN</td>\n",
       "    </tr>\n",
       "    <tr>\n",
       "      <th>4</th>\n",
       "      <td>8/10/2020</td>\n",
       "      <td>Old Navy</td>\n",
       "      <td>Authorization Hold / OLD NAVY US 1817</td>\n",
       "      <td>124.43</td>\n",
       "      <td>debit</td>\n",
       "      <td>Shopping</td>\n",
       "      <td>STARTER CIV VISA</td>\n",
       "      <td>NaN</td>\n",
       "      <td>NaN</td>\n",
       "    </tr>\n",
       "    <tr>\n",
       "      <th>...</th>\n",
       "      <td>...</td>\n",
       "      <td>...</td>\n",
       "      <td>...</td>\n",
       "      <td>...</td>\n",
       "      <td>...</td>\n",
       "      <td>...</td>\n",
       "      <td>...</td>\n",
       "      <td>...</td>\n",
       "      <td>...</td>\n",
       "    </tr>\n",
       "    <tr>\n",
       "      <th>10678</th>\n",
       "      <td>11/17/2014</td>\n",
       "      <td>Wal-Mart</td>\n",
       "      <td>POS TransactionWM SUPERCENTER Wal-Mart Super C...</td>\n",
       "      <td>21.82</td>\n",
       "      <td>debit</td>\n",
       "      <td>Shopping</td>\n",
       "      <td>CHECKING</td>\n",
       "      <td>NaN</td>\n",
       "      <td>NaN</td>\n",
       "    </tr>\n",
       "    <tr>\n",
       "      <th>10679</th>\n",
       "      <td>11/17/2014</td>\n",
       "      <td>Laundry Reload Meus</td>\n",
       "      <td>POS TransactionLAUNDRY CARD RELOAD 207-7736021...</td>\n",
       "      <td>20.00</td>\n",
       "      <td>debit</td>\n",
       "      <td>Laundry</td>\n",
       "      <td>CHECKING</td>\n",
       "      <td>NaN</td>\n",
       "      <td>NaN</td>\n",
       "    </tr>\n",
       "    <tr>\n",
       "      <th>10680</th>\n",
       "      <td>11/17/2014</td>\n",
       "      <td>McDonald's</td>\n",
       "      <td>POS TransactionMCDONALD'S F1842 PORTSMOUTH NHUS</td>\n",
       "      <td>5.21</td>\n",
       "      <td>debit</td>\n",
       "      <td>Fast Food</td>\n",
       "      <td>CHECKING</td>\n",
       "      <td>NaN</td>\n",
       "      <td>NaN</td>\n",
       "    </tr>\n",
       "    <tr>\n",
       "      <th>10681</th>\n",
       "      <td>11/17/2014</td>\n",
       "      <td>Comcast</td>\n",
       "      <td>POS TransactionCOMCAST BOSTON CS 1 800-266-227...</td>\n",
       "      <td>108.03</td>\n",
       "      <td>debit</td>\n",
       "      <td>Television</td>\n",
       "      <td>CHECKING</td>\n",
       "      <td>NaN</td>\n",
       "      <td>NaN</td>\n",
       "    </tr>\n",
       "    <tr>\n",
       "      <th>10682</th>\n",
       "      <td>11/17/2014</td>\n",
       "      <td>E-ZPass</td>\n",
       "      <td>POS TransactionNH TURNPIKE E-Z PAS EZPASSNH.CO...</td>\n",
       "      <td>1.75</td>\n",
       "      <td>debit</td>\n",
       "      <td>EZ Pass Tolls</td>\n",
       "      <td>CHECKING</td>\n",
       "      <td>NaN</td>\n",
       "      <td>NaN</td>\n",
       "    </tr>\n",
       "  </tbody>\n",
       "</table>\n",
       "<p>10683 rows × 9 columns</p>\n",
       "</div>"
      ],
      "text/plain": [
       "             Date          Description  \\\n",
       "0       8/10/2020            Walgreens   \n",
       "1       8/10/2020               Amazon   \n",
       "2       8/10/2020               Amazon   \n",
       "3       8/10/2020            Hannaford   \n",
       "4       8/10/2020             Old Navy   \n",
       "...           ...                  ...   \n",
       "10678  11/17/2014             Wal-Mart   \n",
       "10679  11/17/2014  Laundry Reload Meus   \n",
       "10680  11/17/2014           McDonald's   \n",
       "10681  11/17/2014              Comcast   \n",
       "10682  11/17/2014              E-ZPass   \n",
       "\n",
       "                                    Original Description  Amount  \\\n",
       "0                  Authorization Hold / WALGREENS #19912    9.48   \n",
       "1                        Authorization Hold / AMAZON.COM   12.88   \n",
       "2                      Authorization Hold / AMZN MKTP US    6.42   \n",
       "3                                        HANNAFORD #8159   68.33   \n",
       "4                  Authorization Hold / OLD NAVY US 1817  124.43   \n",
       "...                                                  ...     ...   \n",
       "10678  POS TransactionWM SUPERCENTER Wal-Mart Super C...   21.82   \n",
       "10679  POS TransactionLAUNDRY CARD RELOAD 207-7736021...   20.00   \n",
       "10680    POS TransactionMCDONALD'S F1842 PORTSMOUTH NHUS    5.21   \n",
       "10681  POS TransactionCOMCAST BOSTON CS 1 800-266-227...  108.03   \n",
       "10682  POS TransactionNH TURNPIKE E-Z PAS EZPASSNH.CO...    1.75   \n",
       "\n",
       "      Transaction Type       Category      Account Name  Labels Notes  \n",
       "0                debit       Pharmacy  STARTER CIV VISA     NaN   NaN  \n",
       "1                debit       Shopping          CHECKING     NaN   NaN  \n",
       "2                debit       Shopping          CHECKING     NaN   NaN  \n",
       "3                debit      Groceries          Discover     NaN   NaN  \n",
       "4                debit       Shopping  STARTER CIV VISA     NaN   NaN  \n",
       "...                ...            ...               ...     ...   ...  \n",
       "10678            debit       Shopping          CHECKING     NaN   NaN  \n",
       "10679            debit        Laundry          CHECKING     NaN   NaN  \n",
       "10680            debit      Fast Food          CHECKING     NaN   NaN  \n",
       "10681            debit     Television          CHECKING     NaN   NaN  \n",
       "10682            debit  EZ Pass Tolls          CHECKING     NaN   NaN  \n",
       "\n",
       "[10683 rows x 9 columns]"
      ]
     },
     "execution_count": 39,
     "metadata": {},
     "output_type": "execute_result"
    }
   ],
   "source": [
    "pd.read_csv(file_loc)"
   ]
  },
  {
   "cell_type": "code",
   "execution_count": 25,
   "metadata": {
    "ExecuteTime": {
     "end_time": "2020-08-12T03:31:40.422669Z",
     "start_time": "2020-08-12T03:31:40.415113Z"
    }
   },
   "outputs": [
    {
     "data": {
      "text/html": [
       "<div>\n",
       "<style scoped>\n",
       "    .dataframe tbody tr th:only-of-type {\n",
       "        vertical-align: middle;\n",
       "    }\n",
       "\n",
       "    .dataframe tbody tr th {\n",
       "        vertical-align: top;\n",
       "    }\n",
       "\n",
       "    .dataframe thead th {\n",
       "        text-align: right;\n",
       "    }\n",
       "</style>\n",
       "<table border=\"1\" class=\"dataframe\">\n",
       "  <thead>\n",
       "    <tr style=\"text-align: right;\">\n",
       "      <th></th>\n",
       "      <th>0</th>\n",
       "    </tr>\n",
       "  </thead>\n",
       "  <tbody>\n",
       "    <tr>\n",
       "      <th>0</th>\n",
       "      <td>C:\\Users\\mdpur\\OneDrive\\Documents\\GitHub Repos...</td>\n",
       "    </tr>\n",
       "    <tr>\n",
       "      <th>1</th>\n",
       "      <td>C:\\Users\\mdpur\\OneDrive\\Documents\\GitHub Repos...</td>\n",
       "    </tr>\n",
       "  </tbody>\n",
       "</table>\n",
       "</div>"
      ],
      "text/plain": [
       "                                                   0\n",
       "0  C:\\Users\\mdpur\\OneDrive\\Documents\\GitHub Repos...\n",
       "1  C:\\Users\\mdpur\\OneDrive\\Documents\\GitHub Repos..."
      ]
     },
     "execution_count": 25,
     "metadata": {},
     "output_type": "execute_result"
    }
   ],
   "source": [
    "list1.append(path)\n",
    "\n",
    "list1\n",
    "df = pd.DataFrame(list1)\n",
    "df"
   ]
  },
  {
   "cell_type": "code",
   "execution_count": null,
   "metadata": {
    "ExecuteTime": {
     "end_time": "2020-08-12T02:53:45.725128Z",
     "start_time": "2020-08-12T02:53:45.720144Z"
    }
   },
   "outputs": [],
   "source": [
    "import json\n",
    "import requests\n",
    "from pandas.io.json import json_normalize\n",
    "import pandas as pd\n",
    "import numpy as np\n",
    "import config\n",
    "import getpass"
   ]
  },
  {
   "cell_type": "code",
   "execution_count": null,
   "metadata": {},
   "outputs": [],
   "source": []
  },
  {
   "cell_type": "code",
   "execution_count": null,
   "metadata": {
    "ExecuteTime": {
     "end_time": "2020-08-12T03:00:38.608761Z",
     "start_time": "2020-08-12T03:00:35.401488Z"
    }
   },
   "outputs": [],
   "source": [
    "GITEA_APP_URL = 'https://github.com/mdpurvis/github'\n",
    "GITEA_TOKEN = 'YOUR_GITEA_TOKEN'\n",
    "GITHUB_USERNAME = 'mdpurvis'\n",
    "GITHUB_TOKEN = getpass.getpass('Enter your password here:     ')\n",
    "SQL_ALCHEMY_STRING = 'YOUR_SQL_ALCHEMY_CONNECTIN_STRING'"
   ]
  },
  {
   "cell_type": "code",
   "execution_count": null,
   "metadata": {
    "ExecuteTime": {
     "end_time": "2020-08-12T03:01:09.667079Z",
     "start_time": "2020-08-12T03:01:09.656109Z"
    }
   },
   "outputs": [],
   "source": [
    "github_api = \"https://api.github.com\"\n",
    "gh_session = requests.Session()\n",
    "gh_session.auth = (config., config.GITHUB_TOKEN)"
   ]
  },
  {
   "cell_type": "code",
   "execution_count": null,
   "metadata": {},
   "outputs": [],
   "source": [
    "url = github_api + '/repos/apache/spark/commits'\n",
    "commits = gh_session.get(url = url)\n",
    "commits_json = commits.json()"
   ]
  },
  {
   "cell_type": "code",
   "execution_count": null,
   "metadata": {},
   "outputs": [],
   "source": [
    "url = api + '/repos/{}/{}/branches?page={}&per_page=100'.format(owner, repo, page_number)"
   ]
  },
  {
   "cell_type": "code",
   "execution_count": null,
   "metadata": {},
   "outputs": [],
   "source": [
    "def commits_of_repo_github(repo, owner, api):\n",
    "    commits = []\n",
    "    next = True\n",
    "    i = 1\n",
    "    while next == True:\n",
    "        url = api + '/repos/{}/{}/commits?page={}&per_page=100'.format(owner, repo, i)\n",
    "        commit_pg = gh_session.get(url = url)\n",
    "        commit_pg_list = [dict(item, **{'repo_name':'{}'.format(repo)}) for item in commit_pg.json()]    \n",
    "        commit_pg_list = [dict(item, **{'owner':'{}'.format(owner)}) for item in commit_pg_list]\n",
    "        commits = commits + commit_pg_list\n",
    "        if 'Link' in commit_pg.headers:\n",
    "            if 'rel=\"next\"' not in commit_pg.headers['Link']:\n",
    "                next = False\n",
    "        i = i + 1\n",
    "    return commits"
   ]
  }
 ],
 "metadata": {
  "hide_input": false,
  "kernelspec": {
   "display_name": "Python 3",
   "language": "python",
   "name": "python3"
  },
  "language_info": {
   "codemirror_mode": {
    "name": "ipython",
    "version": 3
   },
   "file_extension": ".py",
   "mimetype": "text/x-python",
   "name": "python",
   "nbconvert_exporter": "python",
   "pygments_lexer": "ipython3",
   "version": "3.7.3"
  },
  "toc": {
   "base_numbering": 1,
   "nav_menu": {},
   "number_sections": true,
   "sideBar": true,
   "skip_h1_title": false,
   "title_cell": "Table of Contents",
   "title_sidebar": "Contents",
   "toc_cell": false,
   "toc_position": {},
   "toc_section_display": true,
   "toc_window_display": false
  },
  "varInspector": {
   "cols": {
    "lenName": 16,
    "lenType": 16,
    "lenVar": 40
   },
   "kernels_config": {
    "python": {
     "delete_cmd_postfix": "",
     "delete_cmd_prefix": "del ",
     "library": "var_list.py",
     "varRefreshCmd": "print(var_dic_list())"
    },
    "r": {
     "delete_cmd_postfix": ") ",
     "delete_cmd_prefix": "rm(",
     "library": "var_list.r",
     "varRefreshCmd": "cat(var_dic_list()) "
    }
   },
   "types_to_exclude": [
    "module",
    "function",
    "builtin_function_or_method",
    "instance",
    "_Feature"
   ],
   "window_display": false
  }
 },
 "nbformat": 4,
 "nbformat_minor": 2
}
