{
 "cells": [
  {
   "cell_type": "code",
   "execution_count": 13,
   "metadata": {
    "ExecuteTime": {
     "end_time": "2020-07-14T02:05:54.266375Z",
     "start_time": "2020-07-14T02:05:53.265488Z"
    }
   },
   "outputs": [
    {
     "name": "stdout",
     "output_type": "stream",
     "text": [
      "Unable to import package. Press enter to close:\n"
     ]
    }
   ],
   "source": [
    "try: \n",
    "    import mintapi as mint\n",
    "    import getpass\n",
    "    import pandas as pd\n",
    "    import json\n",
    "    from mint.py import *\n",
    "except ImportError:\n",
    "    input('Unable to import package. Press enter to close:')"
   ]
  },
  {
   "cell_type": "code",
   "execution_count": 2,
   "metadata": {
    "ExecuteTime": {
     "end_time": "2020-07-14T01:51:42.091667Z",
     "start_time": "2020-07-14T01:51:38.657823Z"
    }
   },
   "outputs": [
    {
     "name": "stdout",
     "output_type": "stream",
     "text": [
      "Enter your password here:     ········\n"
     ]
    }
   ],
   "source": [
    "user = 'mdpurvis@me.com'\n",
    "pw = getpass.getpass('Enter your password here:     ')"
   ]
  },
  {
   "cell_type": "code",
   "execution_count": 3,
   "metadata": {
    "ExecuteTime": {
     "end_time": "2020-07-14T01:52:11.638474Z",
     "start_time": "2020-07-14T01:51:43.177721Z"
    }
   },
   "outputs": [],
   "source": [
    "mint = mint.Mint(user, pw,)"
   ]
  },
  {
   "cell_type": "code",
   "execution_count": null,
   "metadata": {
    "ExecuteTime": {
     "end_time": "2020-07-14T01:24:08.627277Z",
     "start_time": "2020-07-14T01:24:07.307027Z"
    }
   },
   "outputs": [],
   "source": [
    "mint.initiate_account_refresh()"
   ]
  },
  {
   "cell_type": "code",
   "execution_count": 5,
   "metadata": {
    "ExecuteTime": {
     "end_time": "2020-07-14T01:57:16.138158Z",
     "start_time": "2020-07-14T01:56:34.083627Z"
    }
   },
   "outputs": [],
   "source": [
    "r = mint.get_detailed_transactions(include_investment=False, start_date='01/01/2017')"
   ]
  },
  {
   "cell_type": "code",
   "execution_count": 6,
   "metadata": {
    "ExecuteTime": {
     "end_time": "2020-07-14T01:57:16.536955Z",
     "start_time": "2020-07-14T01:57:16.533963Z"
    }
   },
   "outputs": [],
   "source": [
    "# lst_json = mint.get_transactions_json(include_investment=False)"
   ]
  },
  {
   "cell_type": "code",
   "execution_count": null,
   "metadata": {
    "ExecuteTime": {
     "end_time": "2020-07-14T01:32:50.688194Z",
     "start_time": "2020-07-14T01:32:48.298838Z"
    }
   },
   "outputs": [],
   "source": [
    "mint.close()"
   ]
  },
  {
   "cell_type": "code",
   "execution_count": 7,
   "metadata": {
    "ExecuteTime": {
     "end_time": "2020-07-14T01:57:33.419937Z",
     "start_time": "2020-07-14T01:57:33.416847Z"
    }
   },
   "outputs": [],
   "source": [
    "r = lst"
   ]
  },
  {
   "cell_type": "code",
   "execution_count": 9,
   "metadata": {
    "ExecuteTime": {
     "end_time": "2020-07-14T01:58:07.495191Z",
     "start_time": "2020-07-14T01:58:07.490207Z"
    }
   },
   "outputs": [
    {
     "data": {
      "text/plain": [
       "Index(['date', 'note', 'isPercent', 'fi', 'txnType', 'numberMatchedByRule',\n",
       "       'isEdited', 'isPending', 'mcategory', 'isMatched', 'odate',\n",
       "       'isFirstDate', 'id', 'isDuplicate', 'hasAttachments', 'isChild',\n",
       "       'isSpending', 'amount', 'ruleCategory', 'userCategoryId', 'isTransfer',\n",
       "       'isAfterFiCreationTime', 'merchant', 'manualType', 'labels',\n",
       "       'mmerchant', 'isCheck', 'omerchant', 'isDebit', 'category',\n",
       "       'ruleMerchant', 'isLinkedToRule', 'account', 'categoryId',\n",
       "       'ruleCategoryId', 'pid'],\n",
       "      dtype='object')"
      ]
     },
     "execution_count": 9,
     "metadata": {},
     "output_type": "execute_result"
    }
   ],
   "source": [
    "r.columns"
   ]
  },
  {
   "cell_type": "code",
   "execution_count": 10,
   "metadata": {
    "ExecuteTime": {
     "end_time": "2020-07-14T01:58:15.752724Z",
     "start_time": "2020-07-14T01:58:15.736257Z"
    }
   },
   "outputs": [
    {
     "data": {
      "text/html": [
       "<div>\n",
       "<style scoped>\n",
       "    .dataframe tbody tr th:only-of-type {\n",
       "        vertical-align: middle;\n",
       "    }\n",
       "\n",
       "    .dataframe tbody tr th {\n",
       "        vertical-align: top;\n",
       "    }\n",
       "\n",
       "    .dataframe thead th {\n",
       "        text-align: right;\n",
       "    }\n",
       "</style>\n",
       "<table border=\"1\" class=\"dataframe\">\n",
       "  <thead>\n",
       "    <tr style=\"text-align: right;\">\n",
       "      <th></th>\n",
       "      <th>0</th>\n",
       "      <th>1</th>\n",
       "      <th>2</th>\n",
       "    </tr>\n",
       "  </thead>\n",
       "  <tbody>\n",
       "    <tr>\n",
       "      <th>date</th>\n",
       "      <td>Jul 13</td>\n",
       "      <td>Jul 13</td>\n",
       "      <td>Jul 13</td>\n",
       "    </tr>\n",
       "    <tr>\n",
       "      <th>note</th>\n",
       "      <td></td>\n",
       "      <td></td>\n",
       "      <td></td>\n",
       "    </tr>\n",
       "    <tr>\n",
       "      <th>isPercent</th>\n",
       "      <td>False</td>\n",
       "      <td>False</td>\n",
       "      <td>False</td>\n",
       "    </tr>\n",
       "    <tr>\n",
       "      <th>fi</th>\n",
       "      <td>Service Credit Union</td>\n",
       "      <td>Service Credit Union</td>\n",
       "      <td>Service Credit Union</td>\n",
       "    </tr>\n",
       "    <tr>\n",
       "      <th>txnType</th>\n",
       "      <td>0</td>\n",
       "      <td>0</td>\n",
       "      <td>0</td>\n",
       "    </tr>\n",
       "    <tr>\n",
       "      <th>numberMatchedByRule</th>\n",
       "      <td>-1</td>\n",
       "      <td>-1</td>\n",
       "      <td>-1</td>\n",
       "    </tr>\n",
       "    <tr>\n",
       "      <th>isEdited</th>\n",
       "      <td>False</td>\n",
       "      <td>False</td>\n",
       "      <td>False</td>\n",
       "    </tr>\n",
       "    <tr>\n",
       "      <th>isPending</th>\n",
       "      <td>False</td>\n",
       "      <td>False</td>\n",
       "      <td>False</td>\n",
       "    </tr>\n",
       "    <tr>\n",
       "      <th>mcategory</th>\n",
       "      <td>Paycheck</td>\n",
       "      <td>Shopping</td>\n",
       "      <td>Shopping</td>\n",
       "    </tr>\n",
       "    <tr>\n",
       "      <th>isMatched</th>\n",
       "      <td>False</td>\n",
       "      <td>False</td>\n",
       "      <td>False</td>\n",
       "    </tr>\n",
       "    <tr>\n",
       "      <th>odate</th>\n",
       "      <td>2020-07-13 00:00:00</td>\n",
       "      <td>2020-07-13 00:00:00</td>\n",
       "      <td>2020-07-13 00:00:00</td>\n",
       "    </tr>\n",
       "    <tr>\n",
       "      <th>isFirstDate</th>\n",
       "      <td>True</td>\n",
       "      <td>True</td>\n",
       "      <td>True</td>\n",
       "    </tr>\n",
       "    <tr>\n",
       "      <th>id</th>\n",
       "      <td>1605857592</td>\n",
       "      <td>1605857591</td>\n",
       "      <td>1605857590</td>\n",
       "    </tr>\n",
       "    <tr>\n",
       "      <th>isDuplicate</th>\n",
       "      <td>False</td>\n",
       "      <td>False</td>\n",
       "      <td>False</td>\n",
       "    </tr>\n",
       "    <tr>\n",
       "      <th>hasAttachments</th>\n",
       "      <td>False</td>\n",
       "      <td>False</td>\n",
       "      <td>False</td>\n",
       "    </tr>\n",
       "    <tr>\n",
       "      <th>isChild</th>\n",
       "      <td>False</td>\n",
       "      <td>False</td>\n",
       "      <td>False</td>\n",
       "    </tr>\n",
       "    <tr>\n",
       "      <th>isSpending</th>\n",
       "      <td>True</td>\n",
       "      <td>True</td>\n",
       "      <td>True</td>\n",
       "    </tr>\n",
       "    <tr>\n",
       "      <th>amount</th>\n",
       "      <td>-0.21</td>\n",
       "      <td>0.21</td>\n",
       "      <td>24.95</td>\n",
       "    </tr>\n",
       "    <tr>\n",
       "      <th>ruleCategory</th>\n",
       "      <td></td>\n",
       "      <td></td>\n",
       "      <td></td>\n",
       "    </tr>\n",
       "    <tr>\n",
       "      <th>userCategoryId</th>\n",
       "      <td>NaN</td>\n",
       "      <td>NaN</td>\n",
       "      <td>NaN</td>\n",
       "    </tr>\n",
       "    <tr>\n",
       "      <th>isTransfer</th>\n",
       "      <td>False</td>\n",
       "      <td>False</td>\n",
       "      <td>False</td>\n",
       "    </tr>\n",
       "    <tr>\n",
       "      <th>isAfterFiCreationTime</th>\n",
       "      <td>True</td>\n",
       "      <td>True</td>\n",
       "      <td>True</td>\n",
       "    </tr>\n",
       "    <tr>\n",
       "      <th>merchant</th>\n",
       "      <td>Payroll  VENMO DESC: VERIFYBAN</td>\n",
       "      <td>VENMO DESC: VERIFYBAN</td>\n",
       "      <td>Amazon</td>\n",
       "    </tr>\n",
       "    <tr>\n",
       "      <th>manualType</th>\n",
       "      <td>0</td>\n",
       "      <td>0</td>\n",
       "      <td>0</td>\n",
       "    </tr>\n",
       "    <tr>\n",
       "      <th>labels</th>\n",
       "      <td>[]</td>\n",
       "      <td>[]</td>\n",
       "      <td>[]</td>\n",
       "    </tr>\n",
       "    <tr>\n",
       "      <th>mmerchant</th>\n",
       "      <td>Payroll  VENMO DESC: VERIFYBAN</td>\n",
       "      <td>VENMO DESC: VERIFYBAN</td>\n",
       "      <td>Amazon</td>\n",
       "    </tr>\n",
       "    <tr>\n",
       "      <th>isCheck</th>\n",
       "      <td>False</td>\n",
       "      <td>False</td>\n",
       "      <td>False</td>\n",
       "    </tr>\n",
       "    <tr>\n",
       "      <th>omerchant</th>\n",
       "      <td>Payroll</td>\n",
       "      <td>ACH Withdrawal</td>\n",
       "      <td>POS Transaction</td>\n",
       "    </tr>\n",
       "    <tr>\n",
       "      <th>isDebit</th>\n",
       "      <td>False</td>\n",
       "      <td>True</td>\n",
       "      <td>True</td>\n",
       "    </tr>\n",
       "    <tr>\n",
       "      <th>category</th>\n",
       "      <td>Paycheck</td>\n",
       "      <td>Shopping</td>\n",
       "      <td>Shopping</td>\n",
       "    </tr>\n",
       "    <tr>\n",
       "      <th>ruleMerchant</th>\n",
       "      <td></td>\n",
       "      <td></td>\n",
       "      <td></td>\n",
       "    </tr>\n",
       "    <tr>\n",
       "      <th>isLinkedToRule</th>\n",
       "      <td>False</td>\n",
       "      <td>False</td>\n",
       "      <td>False</td>\n",
       "    </tr>\n",
       "    <tr>\n",
       "      <th>account</th>\n",
       "      <td>CHECKING</td>\n",
       "      <td>CHECKING</td>\n",
       "      <td>CHECKING</td>\n",
       "    </tr>\n",
       "    <tr>\n",
       "      <th>categoryId</th>\n",
       "      <td>3001</td>\n",
       "      <td>2</td>\n",
       "      <td>2</td>\n",
       "    </tr>\n",
       "    <tr>\n",
       "      <th>ruleCategoryId</th>\n",
       "      <td>0</td>\n",
       "      <td>0</td>\n",
       "      <td>0</td>\n",
       "    </tr>\n",
       "    <tr>\n",
       "      <th>pid</th>\n",
       "      <td>NaN</td>\n",
       "      <td>NaN</td>\n",
       "      <td>NaN</td>\n",
       "    </tr>\n",
       "  </tbody>\n",
       "</table>\n",
       "</div>"
      ],
      "text/plain": [
       "                                                    0                      1  \\\n",
       "date                                           Jul 13                 Jul 13   \n",
       "note                                                                           \n",
       "isPercent                                       False                  False   \n",
       "fi                               Service Credit Union   Service Credit Union   \n",
       "txnType                                             0                      0   \n",
       "numberMatchedByRule                                -1                     -1   \n",
       "isEdited                                        False                  False   \n",
       "isPending                                       False                  False   \n",
       "mcategory                                    Paycheck               Shopping   \n",
       "isMatched                                       False                  False   \n",
       "odate                             2020-07-13 00:00:00    2020-07-13 00:00:00   \n",
       "isFirstDate                                      True                   True   \n",
       "id                                         1605857592             1605857591   \n",
       "isDuplicate                                     False                  False   \n",
       "hasAttachments                                  False                  False   \n",
       "isChild                                         False                  False   \n",
       "isSpending                                       True                   True   \n",
       "amount                                          -0.21                   0.21   \n",
       "ruleCategory                                                                   \n",
       "userCategoryId                                    NaN                    NaN   \n",
       "isTransfer                                      False                  False   \n",
       "isAfterFiCreationTime                            True                   True   \n",
       "merchant               Payroll  VENMO DESC: VERIFYBAN  VENMO DESC: VERIFYBAN   \n",
       "manualType                                          0                      0   \n",
       "labels                                             []                     []   \n",
       "mmerchant              Payroll  VENMO DESC: VERIFYBAN  VENMO DESC: VERIFYBAN   \n",
       "isCheck                                         False                  False   \n",
       "omerchant                                     Payroll         ACH Withdrawal   \n",
       "isDebit                                         False                   True   \n",
       "category                                     Paycheck               Shopping   \n",
       "ruleMerchant                                                                   \n",
       "isLinkedToRule                                  False                  False   \n",
       "account                                      CHECKING               CHECKING   \n",
       "categoryId                                       3001                      2   \n",
       "ruleCategoryId                                      0                      0   \n",
       "pid                                               NaN                    NaN   \n",
       "\n",
       "                                          2  \n",
       "date                                 Jul 13  \n",
       "note                                         \n",
       "isPercent                             False  \n",
       "fi                     Service Credit Union  \n",
       "txnType                                   0  \n",
       "numberMatchedByRule                      -1  \n",
       "isEdited                              False  \n",
       "isPending                             False  \n",
       "mcategory                          Shopping  \n",
       "isMatched                             False  \n",
       "odate                   2020-07-13 00:00:00  \n",
       "isFirstDate                            True  \n",
       "id                               1605857590  \n",
       "isDuplicate                           False  \n",
       "hasAttachments                        False  \n",
       "isChild                               False  \n",
       "isSpending                             True  \n",
       "amount                                24.95  \n",
       "ruleCategory                                 \n",
       "userCategoryId                          NaN  \n",
       "isTransfer                            False  \n",
       "isAfterFiCreationTime                  True  \n",
       "merchant                             Amazon  \n",
       "manualType                                0  \n",
       "labels                                   []  \n",
       "mmerchant                            Amazon  \n",
       "isCheck                               False  \n",
       "omerchant                   POS Transaction  \n",
       "isDebit                                True  \n",
       "category                           Shopping  \n",
       "ruleMerchant                                 \n",
       "isLinkedToRule                        False  \n",
       "account                            CHECKING  \n",
       "categoryId                                2  \n",
       "ruleCategoryId                            0  \n",
       "pid                                     NaN  "
      ]
     },
     "execution_count": 10,
     "metadata": {},
     "output_type": "execute_result"
    }
   ],
   "source": [
    "r.head(3).T"
   ]
  },
  {
   "cell_type": "code",
   "execution_count": 11,
   "metadata": {
    "ExecuteTime": {
     "end_time": "2020-07-14T02:00:25.219233Z",
     "start_time": "2020-07-14T02:00:25.210291Z"
    }
   },
   "outputs": [
    {
     "data": {
      "text/plain": [
       "False    7835\n",
       "True     2653\n",
       "Name: isTransfer, dtype: int64"
      ]
     },
     "execution_count": 11,
     "metadata": {},
     "output_type": "execute_result"
    }
   ],
   "source": [
    "r.isTransfer.value_counts()"
   ]
  },
  {
   "cell_type": "code",
   "execution_count": null,
   "metadata": {},
   "outputs": [],
   "source": []
  }
 ],
 "metadata": {
  "hide_input": false,
  "kernelspec": {
   "display_name": "Python 3",
   "language": "python",
   "name": "python3"
  },
  "language_info": {
   "codemirror_mode": {
    "name": "ipython",
    "version": 3
   },
   "file_extension": ".py",
   "mimetype": "text/x-python",
   "name": "python",
   "nbconvert_exporter": "python",
   "pygments_lexer": "ipython3",
   "version": "3.7.3"
  },
  "toc": {
   "base_numbering": 1,
   "nav_menu": {},
   "number_sections": true,
   "sideBar": true,
   "skip_h1_title": false,
   "title_cell": "Table of Contents",
   "title_sidebar": "Contents",
   "toc_cell": false,
   "toc_position": {},
   "toc_section_display": true,
   "toc_window_display": false
  },
  "varInspector": {
   "cols": {
    "lenName": 16,
    "lenType": 16,
    "lenVar": 40
   },
   "kernels_config": {
    "python": {
     "delete_cmd_postfix": "",
     "delete_cmd_prefix": "del ",
     "library": "var_list.py",
     "varRefreshCmd": "print(var_dic_list())"
    },
    "r": {
     "delete_cmd_postfix": ") ",
     "delete_cmd_prefix": "rm(",
     "library": "var_list.r",
     "varRefreshCmd": "cat(var_dic_list()) "
    }
   },
   "types_to_exclude": [
    "module",
    "function",
    "builtin_function_or_method",
    "instance",
    "_Feature"
   ],
   "window_display": false
  }
 },
 "nbformat": 4,
 "nbformat_minor": 2
}
