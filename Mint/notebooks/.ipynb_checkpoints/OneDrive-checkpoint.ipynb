{
 "cells": [
  {
   "cell_type": "code",
   "execution_count": null,
   "metadata": {},
   "outputs": [],
   "source": [
    "import pandas as pd\n",
    "\n",
    "#changes\n",
    "# define module to create frequency distribution of variables\n",
    "def freq_dist(df, col):\n",
    "    df_fd = pd.DataFrame(data=df[col].value_counts())\n",
    "    df_fd['pct_total'] = df_fd[col] / df_fd[col].sum()\n",
    "    print(df_fd.head(15))\n",
    "    \n",
    "    \n",
    "# define module to convert individual values in to buckets, creating corresponding labels; \n",
    "# outputs frequency distribution module above\n",
    "def creat_bins(df, new_col, col, bins=[], labels=[]):\n",
    "    df[new_col] = pd.cut(\n",
    "    x=df[col], \n",
    "    bins=bins, \n",
    "    labels=labels)\n",
    "    freq_dist(df, new_col)\n",
    "    \n",
    "    \n",
    "#Module used to take a field in dollars seen as an 'object' and convert in to an Integer    \n",
    "def convert_dollars(cols):\n",
    "    df[cols] = df[cols].str.replace('#NULL!', '0.0')\n",
    "    df[cols] = df[cols].str.replace(',', '')\n",
    "    df[cols] = df[cols].str.replace('$', '')\n",
    "    df[cols] = df[cols].str.replace(' ', '')\n",
    "    df[cols] = df[cols].str.replace(')', '')\n",
    "    df[cols] = df[cols].str.replace('-', '0.0')\n",
    "    df[cols] = df[cols].str.replace('(', '-')\n",
    "    df[cols] = df[cols].astype(float)\n",
    "    df[cols] = df[cols].replace('.0', '')\n",
    "    df[cols] = df[cols].astype(int)\n",
    "    print('Converting', cols, 'Dollars to Numbers Complete')    \n",
    "    \n",
    "    \n",
    "#Creates Histogram for Comparitive Purposes\n",
    "def review_detail(df, equil, col, num, col2, num2, col3, meas, sub, type):    \n",
    "    if type == 'total':\n",
    "        df_last_month = df.loc[(df[col] != num) & (df[col2] != num2)]\n",
    "        df_last_month = df_last_month.groupby(by=[col, col3, col2]).agg({'Total'+equil:meas})\n",
    "        df_last_month.rename(columns = {'index':col3}, inplace=True)\n",
    "        df_last_month['pct_total'] = ((df_last_month['Total'+equil] / df_last_month['Total'+equil].sum())*100).astype(int)\n",
    "        df_last_month = pd.DataFrame(df_last_month)\n",
    "        df_last_month = df_last_month.T\n",
    "        print(df_last_month)\n",
    "        df_last_month.drop_duplicates(inplace=True)\n",
    "        df_last_month = df_last_month.T\n",
    "        df_last_month.drop(columns=['pct_total'], inplace=True)\n",
    "\n",
    "\n",
    "        df_last_month.unstack().plot(kind='bar', use_index=True, rot=0, \n",
    "                                     subplots=sub, title=(meas+' by '+col2))\n",
    "    else:\n",
    "        df_last_month = df.loc[(df[col] != num) & (df[col2] != num2)]\n",
    "        df_last_month = df_last_month.groupby(by=[col, col3, col2]).agg({'Voice'+equil:meas, \n",
    "                                                                         'Equipment'+equil:meas, \n",
    "                                                                         'Data'+equil:meas})\n",
    "        df_last_month.rename(columns = {'index':col3}, inplace=True)\n",
    "        df_last_month = pd.DataFrame(df_last_month)\n",
    "        print(df_last_month.head().T)\n",
    "\n",
    "        df_last_month.unstack().plot(kind='bar', use_index=True, rot=0, \n",
    "                                     subplots=sub, title=(meas+' by '+col2))"
   ]
  }
 ],
 "metadata": {
  "hide_input": false,
  "kernelspec": {
   "display_name": "Python 3",
   "language": "python",
   "name": "python3"
  },
  "language_info": {
   "codemirror_mode": {
    "name": "ipython",
    "version": 3
   },
   "file_extension": ".py",
   "mimetype": "text/x-python",
   "name": "python",
   "nbconvert_exporter": "python",
   "pygments_lexer": "ipython3",
   "version": "3.7.3"
  },
  "toc": {
   "base_numbering": 1,
   "nav_menu": {},
   "number_sections": true,
   "sideBar": true,
   "skip_h1_title": false,
   "title_cell": "Table of Contents",
   "title_sidebar": "Contents",
   "toc_cell": false,
   "toc_position": {},
   "toc_section_display": true,
   "toc_window_display": false
  },
  "varInspector": {
   "cols": {
    "lenName": 16,
    "lenType": 16,
    "lenVar": 40
   },
   "kernels_config": {
    "python": {
     "delete_cmd_postfix": "",
     "delete_cmd_prefix": "del ",
     "library": "var_list.py",
     "varRefreshCmd": "print(var_dic_list())"
    },
    "r": {
     "delete_cmd_postfix": ") ",
     "delete_cmd_prefix": "rm(",
     "library": "var_list.r",
     "varRefreshCmd": "cat(var_dic_list()) "
    }
   },
   "types_to_exclude": [
    "module",
    "function",
    "builtin_function_or_method",
    "instance",
    "_Feature"
   ],
   "window_display": false
  }
 },
 "nbformat": 4,
 "nbformat_minor": 2
}
