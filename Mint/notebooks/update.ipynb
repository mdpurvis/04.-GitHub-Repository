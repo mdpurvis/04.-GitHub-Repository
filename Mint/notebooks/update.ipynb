{
 "cells": [
  {
   "cell_type": "code",
   "execution_count": 1,
   "metadata": {
    "ExecuteTime": {
     "end_time": "2020-11-11T03:26:03.171285Z",
     "start_time": "2020-11-11T03:26:01.904825Z"
    }
   },
   "outputs": [],
   "source": [
    "try:\n",
    "    import pandas as pd\n",
    "    import numpy as np\n",
    "    import os\n",
    "    from datetime import datetime as dt\n",
    "    import re\n",
    "    \n",
    "    import sys\n",
    "    sys.path.insert(1, '../src/')\n",
    "    from mint import  *\n",
    "\n",
    "    import warnings\n",
    "    warnings.filterwarnings(\"ignore\")\n",
    "    \n",
    "except ImportError:\n",
    "    input('Unable to import packages.  Press enter to close:')\n",
    "\n",
    "\n",
    "file_loc = '../data/raw/Transactional Data/'\n",
    "file_loc1 = '../data/raw/Budget Template.xlsx'"
   ]
  },
  {
   "cell_type": "code",
   "execution_count": 2,
   "metadata": {
    "ExecuteTime": {
     "end_time": "2020-11-11T03:26:20.897943Z",
     "start_time": "2020-11-11T03:26:20.448130Z"
    },
    "scrolled": true
   },
   "outputs": [
    {
     "name": "stdout",
     "output_type": "stream",
     "text": [
      "Opening: \n",
      "Amazon CC Transactions.csv\n",
      "capone.csv\n",
      "capone2.csv\n",
      "transactions.csv\n"
     ]
    }
   ],
   "source": [
    "fin = combine_csv_files(file_loc)\n",
    "fin['Date'] = pd.to_datetime(fin['Date'])\n",
    "fin.columns = fin.columns.str.replace(r\"[ ]\",\"_\")\n",
    "fin['Month'] = fin['Date']\n",
    "\n",
    "\n",
    "\n",
    "\n",
    "fin = fin.groupby(['Date', 'Month', 'Category', 'Description', \n",
    "                   'Account_Name','Transaction_Type'], \n",
    "                  as_index=False).agg({'Amount':'sum', \n",
    "                                        'Original_Description':\"count\"})\n",
    "\n",
    "fin.rename({'Original_Description':'Count'}, axis=1, inplace=True)\n",
    "fin.rename({'Category':'Sub_Category'}, axis=1, inplace=True)\n",
    "\n",
    "\n",
    "\n",
    "\n",
    "\n",
    "fin = fin[(fin['Date'] > '2017-06-30')]\n",
    "\n",
    "\n",
    "\n",
    "\n",
    "fin['Sub_Category'].replace('Credit Card Payment', 'Transfer', inplace=True)\n",
    "fin = fin[~fin['Sub_Category'].str.contains('Wedding Reimbursement', na=False)]\n",
    "fin = fin[~fin['Sub_Category'].str.contains('Wedding expenses', na=False)]\n",
    "fin1 = fin\n",
    "\n",
    "\n",
    "\n",
    "\n",
    "fin1 = fin1[~fin1['Sub_Category'].str.contains('Transfer', na=False)]\n",
    "fin1 = fin1.loc[fin1['Sub_Category'].str[:2] != \"EM\"]"
   ]
  },
  {
   "cell_type": "code",
   "execution_count": 3,
   "metadata": {
    "ExecuteTime": {
     "end_time": "2020-11-11T03:26:21.904122Z",
     "start_time": "2020-11-11T03:26:21.698185Z"
    }
   },
   "outputs": [],
   "source": [
    "exp = pd.read_excel(file_loc1, sheet_name='Exp Ref')\n",
    "exp.rename({'Sub-Category':'Sub_Category'}, axis=1, inplace=True)\n",
    "fin1 = fin1.set_index('Sub_Category')\n",
    "exp.set_index('Sub_Category', inplace=True)\n",
    "exp.columns = exp.columns.str.replace(r\"[ ]\",\"_\")\n",
    "\n",
    "\n",
    "\n",
    "\n",
    "fin1 = fin1.join(exp, how=\"left\").fillna(\"Research\")\n",
    "fin1.reset_index(inplace=True)"
   ]
  },
  {
   "cell_type": "code",
   "execution_count": 4,
   "metadata": {
    "ExecuteTime": {
     "end_time": "2020-11-11T03:26:23.404612Z",
     "start_time": "2020-11-11T03:26:22.936202Z"
    },
    "scrolled": true
   },
   "outputs": [
    {
     "name": "stdout",
     "output_type": "stream",
     "text": [
      "Empty DataFrame\n",
      "Columns: [Date, Sub_Category, Description, Category, Amount]\n",
      "Index: []\n",
      "ERROR UPDATE: IF LINE ITEM APPEARS, GO BACK TO MINT.COM AND MAKE CORRECTIONS \n",
      "Otherwise, Press Enter to Continue:\n"
     ]
    },
    {
     "data": {
      "text/plain": [
       "''"
      ]
     },
     "execution_count": 4,
     "metadata": {},
     "output_type": "execute_result"
    }
   ],
   "source": [
    "fin2 = fin1.loc[fin1['Expense_Type_Factor']=='Research']\n",
    "print(fin2[['Date', 'Sub_Category', 'Description', 'Category', 'Amount']].head(25))\n",
    "\n",
    "\n",
    "input(\"ERROR UPDATE: IF LINE ITEM APPEARS, GO BACK TO MINT.COM AND MAKE CORRECTIONS \\n\"\n",
    "      \"Otherwise, Press Enter to Continue:\")"
   ]
  },
  {
   "cell_type": "code",
   "execution_count": 5,
   "metadata": {
    "ExecuteTime": {
     "end_time": "2020-11-11T03:26:24.160428Z",
     "start_time": "2020-11-11T03:26:24.128803Z"
    }
   },
   "outputs": [],
   "source": [
    "fin1.loc[fin1['Budget']=='Est', 'Forecast_Amount'] = fin1['Amount']\n",
    "fin1.loc[fin1['Budget']!='Est', 'Forecast_Amount'] = 0\n",
    "\n",
    "fin1['Forecast_Amount'] = pd.to_numeric(fin1['Forecast_Amount'].astype(str).replace('[^0-9]]', \"\").copy())\n",
    "\n",
    "fin1['Expense_Type_Factor'] = pd.to_numeric(fin1['Expense_Type_Factor'].astype(str).replace('[^0-9]]', \"\").copy())"
   ]
  },
  {
   "cell_type": "code",
   "execution_count": 6,
   "metadata": {
    "ExecuteTime": {
     "end_time": "2020-11-11T03:26:24.726636Z",
     "start_time": "2020-11-11T03:26:24.679834Z"
    }
   },
   "outputs": [],
   "source": [
    "fin1['Budget_Amount'] = fin1['Expense_Type_Factor']*fin1['Forecast_Amount']\n",
    "\n",
    "\n",
    "fin1.loc[fin1['Transaction_Type']=='credit', 'Amount'] = fin1['Amount']\n",
    "fin1.loc[fin1['Transaction_Type']=='debit', 'Amount'] = fin1['Amount']*-1"
   ]
  },
  {
   "cell_type": "code",
   "execution_count": 7,
   "metadata": {
    "ExecuteTime": {
     "end_time": "2020-11-11T03:26:25.194647Z",
     "start_time": "2020-11-11T03:26:25.173168Z"
    }
   },
   "outputs": [],
   "source": [
    "fin1.rename({'Sub_Category':'Sub-Category'}, axis=1, inplace=True)\n",
    "\n",
    "fin1.set_index('Date', inplace=True)\n",
    "fin1.columns = fin1.columns.str.replace(r\"[_]\",\" \")\n",
    "\n",
    "\n",
    "\n",
    "\n",
    "fin1 = fin1[['Month', 'Sub-Category', 'Description', 'Account Name',\n",
    "       'Transaction Type', 'Count', 'Category Number',\n",
    "       'Sub-Category Number', 'Category', 'Budget', 'Expense Type',\n",
    "       'Expense Type Factor', 'Forecast Amount', 'Budget Amount', 'Amount']]"
   ]
  },
  {
   "cell_type": "code",
   "execution_count": 8,
   "metadata": {
    "ExecuteTime": {
     "end_time": "2020-11-11T03:26:25.680388Z",
     "start_time": "2020-11-11T03:26:25.661767Z"
    }
   },
   "outputs": [],
   "source": [
    "em = fin.loc[fin['Sub_Category'].str[:2] == \"EM\"]\n",
    "em.set_index('Date', inplace=True)\n",
    "em.columns = em.columns.str.replace(r\"[_]\",\" \")\n",
    "em.rename({'Sub Category':'Sub-Category'}, axis=1, inplace=True)\n",
    "em = em[['Month', 'Sub-Category', 'Description', 'Account Name',\n",
    "       'Transaction Type', 'Count', 'Amount']]"
   ]
  },
  {
   "cell_type": "code",
   "execution_count": 9,
   "metadata": {
    "ExecuteTime": {
     "end_time": "2020-11-11T03:26:26.226502Z",
     "start_time": "2020-11-11T03:26:26.207103Z"
    },
    "scrolled": true
   },
   "outputs": [],
   "source": [
    "trfr = fin.loc[fin['Sub_Category'] == \"Transfer\"]\n",
    "\n",
    "trfr['Amount'] = trfr.loc[trfr['Amount']<0, ' Amount'] = trfr['Amount']*-1"
   ]
  },
  {
   "cell_type": "code",
   "execution_count": 10,
   "metadata": {
    "ExecuteTime": {
     "end_time": "2020-11-11T03:26:26.927870Z",
     "start_time": "2020-11-11T03:26:26.907239Z"
    }
   },
   "outputs": [],
   "source": [
    "trfr.loc[trfr['Transaction_Type']!='debit', 'Transfer_Type'] = str('In')\n",
    "trfr.loc[trfr['Transfer_Type']!='In', 'Transfer_Type'] = str('Out')"
   ]
  },
  {
   "cell_type": "code",
   "execution_count": 11,
   "metadata": {
    "ExecuteTime": {
     "end_time": "2020-11-11T03:26:27.570966Z",
     "start_time": "2020-11-11T03:26:27.564983Z"
    }
   },
   "outputs": [],
   "source": [
    "trfr.set_index('Date', inplace=True)\n",
    "trfr.columns = trfr.columns.str.replace(r\"[_]\",\" \")"
   ]
  },
  {
   "cell_type": "code",
   "execution_count": 12,
   "metadata": {
    "ExecuteTime": {
     "end_time": "2020-11-11T03:26:28.285649Z",
     "start_time": "2020-11-11T03:26:28.274883Z"
    },
    "scrolled": true
   },
   "outputs": [],
   "source": [
    "trfr.rename({'Sub Category':'Sub-Category'}, axis=1, inplace=True)"
   ]
  },
  {
   "cell_type": "code",
   "execution_count": 13,
   "metadata": {
    "ExecuteTime": {
     "end_time": "2020-11-11T03:26:28.972208Z",
     "start_time": "2020-11-11T03:26:28.964739Z"
    }
   },
   "outputs": [],
   "source": [
    "df = trfr[['Month', 'Sub-Category', 'Description', 'Account Name',\n",
    "       'Transaction Type', 'Count', 'Amount', 'Transfer Type']]"
   ]
  },
  {
   "cell_type": "code",
   "execution_count": 14,
   "metadata": {
    "ExecuteTime": {
     "end_time": "2020-11-11T03:26:29.804519Z",
     "start_time": "2020-11-11T03:26:29.783889Z"
    },
    "scrolled": true
   },
   "outputs": [],
   "source": [
    "amt = fin1\n",
    "amt.reset_index(inplace=True)\n",
    "amt = amt.groupby(['Date'], \n",
    "                  as_index=False).agg({'Amount':'sum'})\n",
    "# amt.Date.value_counts()"
   ]
  },
  {
   "cell_type": "code",
   "execution_count": 15,
   "metadata": {
    "ExecuteTime": {
     "end_time": "2020-11-11T03:26:30.703205Z",
     "start_time": "2020-11-11T03:26:30.688833Z"
    }
   },
   "outputs": [],
   "source": [
    "amt['Cash'] = amt.Amount.shift(1)\n",
    "\n",
    "beg_balance = 9255.58\n",
    "amt.Cash.fillna(beg_balance, inplace=True)\n",
    "\n",
    "amt['Cash'] = amt['Cash'].cumsum(axis=0)"
   ]
  },
  {
   "cell_type": "code",
   "execution_count": 16,
   "metadata": {
    "ExecuteTime": {
     "end_time": "2020-11-11T03:26:31.639345Z",
     "start_time": "2020-11-11T03:26:31.631109Z"
    }
   },
   "outputs": [],
   "source": [
    "# L = amt['Cash'].tolist()\n",
    "\n",
    "# def add_one_by_one(L):\n",
    "#     new_L = []\n",
    "#     for elt in L:\n",
    "#         if len(new_L)>0:\n",
    "#             new_L.append(new_L[-1]+elt)\n",
    "#         else:\n",
    "#             new_L.append(elt)\n",
    "#     return new_L\n",
    "\n",
    "# new_L = add_one_by_one(L)\n",
    "\n",
    "# amt['Cash'] = new_L\n",
    "# amt.head(3)"
   ]
  },
  {
   "cell_type": "code",
   "execution_count": 17,
   "metadata": {
    "ExecuteTime": {
     "end_time": "2020-11-11T03:26:32.680338Z",
     "start_time": "2020-11-11T03:26:32.637550Z"
    }
   },
   "outputs": [],
   "source": [
    "amt.set_index('Date',inplace=True)\n",
    "fin1.set_index('Date', inplace=True)\n",
    "fin = fin1.join(amt['Cash']).fillna('Research')"
   ]
  },
  {
   "cell_type": "code",
   "execution_count": 18,
   "metadata": {
    "ExecuteTime": {
     "end_time": "2020-11-11T03:26:34.208753Z",
     "start_time": "2020-11-11T03:26:33.698714Z"
    }
   },
   "outputs": [],
   "source": [
    "fin.to_csv('../data/final/financial_transactions.csv')\n",
    "df.to_csv('../data/final/transfer_report.csv')\n",
    "em.to_csv('../data/final/em_report.csv')"
   ]
  },
  {
   "cell_type": "code",
   "execution_count": 19,
   "metadata": {
    "ExecuteTime": {
     "end_time": "2020-11-11T03:26:38.095473Z",
     "start_time": "2020-11-11T03:26:35.315659Z"
    }
   },
   "outputs": [
    {
     "name": "stdout",
     "output_type": "stream",
     "text": [
      "Press Enter to Close:\n"
     ]
    },
    {
     "data": {
      "text/plain": [
       "''"
      ]
     },
     "execution_count": 19,
     "metadata": {},
     "output_type": "execute_result"
    }
   ],
   "source": [
    "input(\"Press Enter to Close:\")"
   ]
  },
  {
   "cell_type": "code",
   "execution_count": null,
   "metadata": {},
   "outputs": [],
   "source": []
  }
 ],
 "metadata": {
  "hide_input": false,
  "kernelspec": {
   "display_name": "Python 3",
   "language": "python",
   "name": "python3"
  },
  "language_info": {
   "codemirror_mode": {
    "name": "ipython",
    "version": 3
   },
   "file_extension": ".py",
   "mimetype": "text/x-python",
   "name": "python",
   "nbconvert_exporter": "python",
   "pygments_lexer": "ipython3",
   "version": "3.7.3"
  },
  "toc": {
   "base_numbering": 1,
   "nav_menu": {},
   "number_sections": true,
   "sideBar": true,
   "skip_h1_title": false,
   "title_cell": "Table of Contents",
   "title_sidebar": "Contents",
   "toc_cell": false,
   "toc_position": {},
   "toc_section_display": true,
   "toc_window_display": false
  },
  "varInspector": {
   "cols": {
    "lenName": 16,
    "lenType": 16,
    "lenVar": 40
   },
   "kernels_config": {
    "python": {
     "delete_cmd_postfix": "",
     "delete_cmd_prefix": "del ",
     "library": "var_list.py",
     "varRefreshCmd": "print(var_dic_list())"
    },
    "r": {
     "delete_cmd_postfix": ") ",
     "delete_cmd_prefix": "rm(",
     "library": "var_list.r",
     "varRefreshCmd": "cat(var_dic_list()) "
    }
   },
   "types_to_exclude": [
    "module",
    "function",
    "builtin_function_or_method",
    "instance",
    "_Feature"
   ],
   "window_display": false
  }
 },
 "nbformat": 4,
 "nbformat_minor": 2
}
