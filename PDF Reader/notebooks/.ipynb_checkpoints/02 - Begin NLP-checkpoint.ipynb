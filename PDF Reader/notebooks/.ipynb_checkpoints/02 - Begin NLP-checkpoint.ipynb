{
 "cells": [
  {
   "cell_type": "code",
   "execution_count": 47,
   "metadata": {
    "ExecuteTime": {
     "end_time": "2020-07-27T00:34:52.365370Z",
     "start_time": "2020-07-27T00:34:52.361396Z"
    }
   },
   "outputs": [],
   "source": [
    "try:\n",
    "    import os\n",
    "    import collections\n",
    "    import nltk\n",
    "    import os\n",
    "    import random\n",
    "    from sklearn import (\n",
    "        datasets, model_selection, feature_extraction, linear_model\n",
    "    )\n",
    "except ImportError:\n",
    "    input('Package failed to import. Click enter to terminate: ')\n",
    "    \n",
    "txt_file_loc = '../data/raw/txt'"
   ]
  },
  {
   "cell_type": "code",
   "execution_count": 48,
   "metadata": {
    "ExecuteTime": {
     "end_time": "2020-07-27T00:34:52.849333Z",
     "start_time": "2020-07-27T00:34:52.840357Z"
    }
   },
   "outputs": [],
   "source": [
    "# Define some stop words\n",
    "stop_words = {\n",
    "    'ourselves', 'hers', 'between', 'yourself', 'but', 'again', \n",
    "    'there', 'about', 'once', 'during', 'out', 'very', 'having', 'with', 'they',\n",
    "    'own', 'an', 'be', 'some', 'for', 'do', 'its', 'yours', 'such', 'into', \n",
    "    'of', 'most', 'itself', 'other', 'off', 'is', 's', 'am', 'or', 'who', 'as',\n",
    "    'from', 'him', 'each', 'the', 'themselves', 'until', 'below', 'are', 'we',\n",
    "    'these', 'your', 'his', 'through', 'don', 'nor', 'me', 'were', 'her', 'more',\n",
    "    'himself', 'this', 'down', 'should', 'our', 'their', 'while', 'above',\n",
    "    'both', 'up', 'to', 'ours', 'had', 'she', 'all', 'no', 'when', 'at', 'any',\n",
    "    'before', 'them', 'same', 'and', 'been', 'have', 'in', 'will', 'on', 'does',\n",
    "    'yourselves', 'then', 'that', 'because', 'what', 'over', 'why', 'so', 'can',\n",
    "    'did', 'not', 'now', 'under', 'he', 'you', 'herself', 'has', 'just', 'where',\n",
    "    'too', 'only', 'myself', 'which', 'those', 'i', 'after', 'few', 'whom', 't',\n",
    "    'being', 'if', 'theirs', 'my', 'against', 'a', 'by', 'doing', 'it', 'how',\n",
    "    'further', 'was', 'here', 'than'}"
   ]
  },
  {
   "cell_type": "code",
   "execution_count": 42,
   "metadata": {
    "ExecuteTime": {
     "end_time": "2020-07-27T00:33:23.716180Z",
     "start_time": "2020-07-27T00:33:23.712177Z"
    }
   },
   "outputs": [],
   "source": [
    "def load_files(txt_file_loc):\n",
    "    result = []\n",
    "    for fname in os.listdir(txt_file_loc):\n",
    "        with open(directory + '/' + fname, 'r', encoding='ISO-8859-1') as f:\n",
    "            result.append(f.read())\n",
    "    return result"
   ]
  },
  {
   "cell_type": "code",
   "execution_count": null,
   "metadata": {},
   "outputs": [],
   "source": []
  },
  {
   "cell_type": "code",
   "execution_count": 50,
   "metadata": {
    "ExecuteTime": {
     "end_time": "2020-07-27T00:35:08.069645Z",
     "start_time": "2020-07-27T00:35:08.063661Z"
    }
   },
   "outputs": [],
   "source": [
    "def preprocess_sentence(sentence):\n",
    "    lemmatizer = nltk.WordNetLemmatizer()\n",
    "    # clearly list out our preprocessing pipeline\n",
    "    processed_tokens = nltk.word_tokenize(sentence)\n",
    "    processed_tokens = [w.lower() for w in processed_tokens]\n",
    "    # find least common elements\n",
    "    word_counts = collections.Counter(processed_tokens)\n",
    "    uncommon_words = word_counts.most_common()[:-10:-1]\n",
    "    # remove these tokens\n",
    "    processed_tokens = [w for w in processed_tokens if w not in stop_words]\n",
    "    processed_tokens = [w for w in processed_tokens if w not in uncommon_words]\n",
    "    # lemmatize\n",
    "    processed_tokens = [lemmatizer.lemmatize(w) for w in processed_tokens]\n",
    "    return processed_tokens"
   ]
  },
  {
   "cell_type": "code",
   "execution_count": 51,
   "metadata": {
    "ExecuteTime": {
     "end_time": "2020-07-27T00:35:08.627838Z",
     "start_time": "2020-07-27T00:35:08.622826Z"
    }
   },
   "outputs": [],
   "source": [
    "def feature_extraction(tokens):\n",
    "    '''Turn each word into a feature. The feature value is the word count.'''\n",
    "    return dict(collections.Counter(tokens))"
   ]
  },
  {
   "cell_type": "code",
   "execution_count": 52,
   "metadata": {
    "ExecuteTime": {
     "end_time": "2020-07-27T00:35:09.380507Z",
     "start_time": "2020-07-27T00:35:09.374524Z"
    }
   },
   "outputs": [],
   "source": [
    "def extract_features(result):\n",
    "    '''Extract TF-IDF features from result'''\n",
    "    # vectorize means we turn non-numerical data into an array of numbers\n",
    "    count_vectorizer = feature_extraction.text.CountVectorizer(\n",
    "        lowercase=True,  # for demonstration, True by default\n",
    "        tokenizer=nltk.word_tokenize,  # use the NLTK tokenizer\n",
    "        stop_words='english',  # remove stop words\n",
    "        min_df=1  # minimum document frequency, i.e. the word must appear more than once.\n",
    "    )\n",
    "    processed_result = count_vectorizer.fit_transform(result)\n",
    "    processed_result = feature_extraction.text.TfidfTransformer().fit_transform(\n",
    "        processed_result)\n",
    "\n",
    "    return processed_result"
   ]
  },
  {
   "cell_type": "code",
   "execution_count": 53,
   "metadata": {
    "ExecuteTime": {
     "end_time": "2020-07-27T00:35:11.085914Z",
     "start_time": "2020-07-27T00:35:11.071930Z"
    }
   },
   "outputs": [
    {
     "ename": "NameError",
     "evalue": "name 'processed_result' is not defined",
     "output_type": "error",
     "traceback": [
      "\u001b[1;31m---------------------------------------------------------------------------\u001b[0m",
      "\u001b[1;31mNameError\u001b[0m                                 Traceback (most recent call last)",
      "\u001b[1;32m<ipython-input-53-b0e80b0f94f2>\u001b[0m in \u001b[0;36m<module>\u001b[1;34m\u001b[0m\n\u001b[1;32m----> 1\u001b[1;33m \u001b[0mprocessed_result\u001b[0m \u001b[1;33m=\u001b[0m \u001b[1;33m[\u001b[0m\u001b[0mw\u001b[0m \u001b[1;32mfor\u001b[0m \u001b[0mw\u001b[0m \u001b[1;32min\u001b[0m \u001b[0mprocessed_result\u001b[0m \u001b[1;32mif\u001b[0m \u001b[0mw\u001b[0m \u001b[1;32mnot\u001b[0m \u001b[1;32min\u001b[0m \u001b[0mstop_words\u001b[0m\u001b[1;33m]\u001b[0m\u001b[1;33m\u001b[0m\u001b[1;33m\u001b[0m\u001b[0m\n\u001b[0m\u001b[0;32m      2\u001b[0m \u001b[0mprocessed_result\u001b[0m \u001b[1;33m=\u001b[0m \u001b[1;33m[\u001b[0m\u001b[0mw\u001b[0m \u001b[1;32mfor\u001b[0m \u001b[0mw\u001b[0m \u001b[1;32min\u001b[0m \u001b[0mprocessed_result\u001b[0m \u001b[1;32mif\u001b[0m \u001b[0mw\u001b[0m \u001b[1;32mnot\u001b[0m \u001b[1;32min\u001b[0m \u001b[0muncommon_words\u001b[0m\u001b[1;33m]\u001b[0m\u001b[1;33m\u001b[0m\u001b[1;33m\u001b[0m\u001b[0m\n\u001b[0;32m      3\u001b[0m \u001b[0mprint\u001b[0m\u001b[1;33m(\u001b[0m\u001b[0mprocessed_result\u001b[0m\u001b[1;33m)\u001b[0m\u001b[1;33m\u001b[0m\u001b[1;33m\u001b[0m\u001b[0m\n",
      "\u001b[1;31mNameError\u001b[0m: name 'processed_result' is not defined"
     ]
    }
   ],
   "source": [
    "processed_result = [w for w in processed_result if w not in stop_words]\n",
    "processed_result = [w for w in processed_result if w not in uncommon_words]\n",
    "print(processed_result)"
   ]
  },
  {
   "cell_type": "code",
   "execution_count": 46,
   "metadata": {
    "ExecuteTime": {
     "end_time": "2020-07-27T00:33:30.418500Z",
     "start_time": "2020-07-27T00:33:30.392058Z"
    }
   },
   "outputs": [
    {
     "name": "stdout",
     "output_type": "stream",
     "text": [
      "0 files loaded.\n",
      "They contain the following classes: [].\n"
     ]
    },
    {
     "ename": "AttributeError",
     "evalue": "'function' object has no attribute 'text'",
     "output_type": "error",
     "traceback": [
      "\u001b[1;31m---------------------------------------------------------------------------\u001b[0m",
      "\u001b[1;31mAttributeError\u001b[0m                            Traceback (most recent call last)",
      "\u001b[1;32m<ipython-input-46-8325ed8d3aea>\u001b[0m in \u001b[0;36m<module>\u001b[1;34m\u001b[0m\n\u001b[0;32m      5\u001b[0m     movie_sentiment_data.target_names))\n\u001b[0;32m      6\u001b[0m \u001b[1;33m\u001b[0m\u001b[0m\n\u001b[1;32m----> 7\u001b[1;33m \u001b[0mmovie_tfidf\u001b[0m \u001b[1;33m=\u001b[0m \u001b[0mextract_features\u001b[0m\u001b[1;33m(\u001b[0m\u001b[0mmovie_sentiment_data\u001b[0m\u001b[1;33m.\u001b[0m\u001b[0mdata\u001b[0m\u001b[1;33m)\u001b[0m\u001b[1;33m\u001b[0m\u001b[1;33m\u001b[0m\u001b[0m\n\u001b[0m\u001b[0;32m      8\u001b[0m \u001b[1;33m\u001b[0m\u001b[0m\n\u001b[0;32m      9\u001b[0m X_train, X_test, y_train, y_test = model_selection.train_test_split(\n",
      "\u001b[1;32m<ipython-input-45-7b75a7e312fb>\u001b[0m in \u001b[0;36mextract_features\u001b[1;34m(result)\u001b[0m\n\u001b[0;32m      2\u001b[0m     \u001b[1;34m'''Extract TF-IDF features from result'''\u001b[0m\u001b[1;33m\u001b[0m\u001b[1;33m\u001b[0m\u001b[0m\n\u001b[0;32m      3\u001b[0m     \u001b[1;31m# vectorize means we turn non-numerical data into an array of numbers\u001b[0m\u001b[1;33m\u001b[0m\u001b[1;33m\u001b[0m\u001b[1;33m\u001b[0m\u001b[0m\n\u001b[1;32m----> 4\u001b[1;33m     count_vectorizer = feature_extraction.text.CountVectorizer(\n\u001b[0m\u001b[0;32m      5\u001b[0m         \u001b[0mlowercase\u001b[0m\u001b[1;33m=\u001b[0m\u001b[1;32mTrue\u001b[0m\u001b[1;33m,\u001b[0m  \u001b[1;31m# for demonstration, True by default\u001b[0m\u001b[1;33m\u001b[0m\u001b[1;33m\u001b[0m\u001b[0m\n\u001b[0;32m      6\u001b[0m         \u001b[0mtokenizer\u001b[0m\u001b[1;33m=\u001b[0m\u001b[0mnltk\u001b[0m\u001b[1;33m.\u001b[0m\u001b[0mword_tokenize\u001b[0m\u001b[1;33m,\u001b[0m  \u001b[1;31m# use the NLTK tokenizer\u001b[0m\u001b[1;33m\u001b[0m\u001b[1;33m\u001b[0m\u001b[0m\n",
      "\u001b[1;31mAttributeError\u001b[0m: 'function' object has no attribute 'text'"
     ]
    }
   ],
   "source": [
    "data_directory = '../data/raw/txt/'\n",
    "movie_sentiment_data = datasets.load_files(data_directory, shuffle=True)\n",
    "print('{} files loaded.'.format(len(movie_sentiment_data.data)))\n",
    "print('They contain the following classes: {}.'.format(\n",
    "    movie_sentiment_data.target_names))\n",
    "\n",
    "movie_tfidf = extract_features(movie_sentiment_data.data)\n",
    "\n",
    "X_train, X_test, y_train, y_test = model_selection.train_test_split(\n",
    "    movie_tfidf, movie_sentiment_data.target, test_size=0.30, random_state=42)\n",
    "\n",
    "# similar to nltk.NaiveBayesClassifier.train()\n",
    "model = linear_model.LogisticRegression()\n",
    "model.fit(X_train, y_train)\n",
    "print('Model performance: {}'.format(model.score(X_test, y_test)))\n",
    "\n",
    "y_pred = model.predict(X_test)\n",
    "for i in range(5):\n",
    "    print('Review:\\n{review}\\n-\\nCorrect label: {correct}; Predicted: {predict}'.format(\n",
    "        review=X_test[i], correct=y_test[i], predict=y_pred[i]\n",
    "    ))"
   ]
  },
  {
   "cell_type": "code",
   "execution_count": null,
   "metadata": {},
   "outputs": [],
   "source": []
  },
  {
   "cell_type": "code",
   "execution_count": null,
   "metadata": {},
   "outputs": [],
   "source": []
  }
 ],
 "metadata": {
  "hide_input": false,
  "kernelspec": {
   "display_name": "Python 3",
   "language": "python",
   "name": "python3"
  },
  "language_info": {
   "codemirror_mode": {
    "name": "ipython",
    "version": 3
   },
   "file_extension": ".py",
   "mimetype": "text/x-python",
   "name": "python",
   "nbconvert_exporter": "python",
   "pygments_lexer": "ipython3",
   "version": "3.7.3"
  },
  "toc": {
   "base_numbering": 1,
   "nav_menu": {},
   "number_sections": true,
   "sideBar": true,
   "skip_h1_title": false,
   "title_cell": "Table of Contents",
   "title_sidebar": "Contents",
   "toc_cell": false,
   "toc_position": {},
   "toc_section_display": true,
   "toc_window_display": false
  },
  "varInspector": {
   "cols": {
    "lenName": 16,
    "lenType": 16,
    "lenVar": 40
   },
   "kernels_config": {
    "python": {
     "delete_cmd_postfix": "",
     "delete_cmd_prefix": "del ",
     "library": "var_list.py",
     "varRefreshCmd": "print(var_dic_list())"
    },
    "r": {
     "delete_cmd_postfix": ") ",
     "delete_cmd_prefix": "rm(",
     "library": "var_list.r",
     "varRefreshCmd": "cat(var_dic_list()) "
    }
   },
   "types_to_exclude": [
    "module",
    "function",
    "builtin_function_or_method",
    "instance",
    "_Feature"
   ],
   "window_display": false
  }
 },
 "nbformat": 4,
 "nbformat_minor": 2
}
