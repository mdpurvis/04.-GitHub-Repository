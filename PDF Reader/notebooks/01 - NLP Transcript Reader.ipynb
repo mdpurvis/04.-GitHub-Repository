{
 "cells": [
  {
   "cell_type": "code",
   "execution_count": 1,
   "metadata": {
    "ExecuteTime": {
     "end_time": "2020-08-04T00:41:56.420642Z",
     "start_time": "2020-08-04T00:41:50.686965Z"
    }
   },
   "outputs": [
    {
     "name": "stderr",
     "output_type": "stream",
     "text": [
      "[nltk_data] Downloading package stopwords to\n",
      "[nltk_data]     C:\\Users\\mdpur\\AppData\\Roaming\\nltk_data...\n",
      "[nltk_data]   Package stopwords is already up-to-date!\n"
     ]
    }
   ],
   "source": [
    "#must pip install texblob using the following in the command prompt:\n",
    "# \"pip install textblob\"\n",
    "#Then must type the following to download nltk:\n",
    "# \"ipython -m textblob.download_corpora\"\n",
    "\n",
    "\n",
    "try:\n",
    "    import pdfplumber\n",
    "    import re\n",
    "    import pandas as pd\n",
    "    import os\n",
    "    from textblob import TextBlob\n",
    "    from pathlib import Path\n",
    "    import nltk\n",
    "    nltk.download('stopwords')\n",
    "    from nltk.corpus import stopwords\n",
    "    from operator import itemgetter\n",
    "except ImportError:\n",
    "    input('Package failed to import. Click enter to terminate: ')\n",
    "    \n",
    "    \n",
    "pdf_new_file_loc = '../data/raw/pdf - new/'\n",
    "pdf_old_file_loc = '../data/raw/pdf - old/'\n",
    "txt_file_loc = '../data/raw/txt/'"
   ]
  },
  {
   "cell_type": "code",
   "execution_count": 2,
   "metadata": {
    "ExecuteTime": {
     "end_time": "2020-08-04T00:41:57.437918Z",
     "start_time": "2020-08-04T00:41:57.430963Z"
    }
   },
   "outputs": [],
   "source": [
    "new_pdf_file_list = [f for f in os.listdir(pdf_new_file_loc)]\n",
    "new_files = [os.path.splitext(x)[0] for x in new_pdf_file_list]"
   ]
  },
  {
   "cell_type": "code",
   "execution_count": 3,
   "metadata": {
    "ExecuteTime": {
     "end_time": "2020-08-04T00:41:58.306594Z",
     "start_time": "2020-08-04T00:41:58.301606Z"
    }
   },
   "outputs": [
    {
     "name": "stdout",
     "output_type": "stream",
     "text": [
      "Newly added PDF Files:  ['2020-6-30 Chubb Transcript.pdf'] \n",
      "\n",
      "Newly Added File Names:  ['2020-6-30 Chubb Transcript'] \n",
      "\n"
     ]
    }
   ],
   "source": [
    "print('Newly added PDF Files: ', new_pdf_file_list, '\\n')\n",
    "print('Newly Added File Names: ', new_files, '\\n')"
   ]
  },
  {
   "cell_type": "code",
   "execution_count": 4,
   "metadata": {
    "ExecuteTime": {
     "end_time": "2020-08-04T00:41:59.889845Z",
     "start_time": "2020-08-04T00:41:59.886029Z"
    }
   },
   "outputs": [],
   "source": [
    "pdf_files = [pdf_new_file_loc + sub for sub in new_pdf_file_list]\n",
    "files = [os.path.splitext(x)[0] for x in new_files]\n",
    "new_txt_files = [txt_file_loc + sub + '.txt' for sub in files]"
   ]
  },
  {
   "cell_type": "code",
   "execution_count": 5,
   "metadata": {
    "ExecuteTime": {
     "end_time": "2020-08-04T00:42:03.194078Z",
     "start_time": "2020-08-04T00:42:00.754805Z"
    }
   },
   "outputs": [
    {
     "name": "stdout",
     "output_type": "stream",
     "text": [
      "Reading:  2020-6-30 Chubb Transcript.pdf\n",
      "Completed:  ../data/raw/txt/2020-6-30 Chubb Transcript.txt\n",
      "Complete.\n"
     ]
    }
   ],
   "source": [
    "#Open PDF files and individually place text in to newly created .txt files\n",
    "for ea in range(len(pdf_files)):\n",
    "    print('Reading: ',new_pdf_file_list[ea])\n",
    "    with pdfplumber.open(pdf_files[ea]) as pdf:\n",
    "        all_text = ''\n",
    "        # page = pdf.pages[0] - comment out or remove line\n",
    "        # text = page.extract_text() - comment out or remove line\n",
    "        for pdf_page in pdf.pages:\n",
    "            single_page_text = pdf_page.extract_text()\n",
    "            # print( single_page_text )\n",
    "            # separate each page's text with newline\n",
    "            all_text = all_text + '\\n' + single_page_text \n",
    "            all_text= all_text.replace(',','')\n",
    "            open_file = open(new_txt_files[ea], 'w')\n",
    "            open_file.write(str(all_text))\n",
    "            \n",
    "    print('Completed: ', new_txt_files[ea])\n",
    "print('Complete.')"
   ]
  },
  {
   "cell_type": "code",
   "execution_count": 6,
   "metadata": {
    "ExecuteTime": {
     "end_time": "2020-08-04T00:42:04.502581Z",
     "start_time": "2020-08-04T00:42:04.495597Z"
    }
   },
   "outputs": [
    {
     "name": "stdout",
     "output_type": "stream",
     "text": [
      "['../data/raw/txt/2019-12-31 AIG Transcript.txt', '../data/raw/txt/2019-12-31 Allstate Transcript.txt', '../data/raw/txt/2019-12-31 Chubb Transcript.txt', '../data/raw/txt/2019-12-31 The Hartford Transcript.txt', '../data/raw/txt/2019-12-31 Travelers Transcript.txt', '../data/raw/txt/2019-9-30 Chubb Transcript.txt', '../data/raw/txt/2019-9-30 The Hartford Transcipt.txt', '../data/raw/txt/2020-03-31 Allstate Transcript.txt', '../data/raw/txt/2020-3-31 AIG Transcript.txt', '../data/raw/txt/2020-3-31 Chubb Transcript.txt', '../data/raw/txt/2020-3-31 The Hartford Transcript.txt', '../data/raw/txt/2020-3-31 Travelers Transcript.txt', '../data/raw/txt/2020-6-30 Chubb Transcript.txt', '../data/raw/txt/2020-6-30 Travelers Transcript.txt']\n"
     ]
    }
   ],
   "source": [
    "txt_files = [f for f in os.listdir(txt_file_loc)]\n",
    "txt_file_paths = [txt_file_loc + sub for sub in txt_files]\n",
    "print(txt_file_paths)"
   ]
  },
  {
   "cell_type": "code",
   "execution_count": 7,
   "metadata": {
    "ExecuteTime": {
     "end_time": "2020-08-04T00:42:07.143514Z",
     "start_time": "2020-08-04T00:42:06.559076Z"
    }
   },
   "outputs": [
    {
     "name": "stdout",
     "output_type": "stream",
     "text": [
      "Beginning with 2019-12-31 AIG Transcript.txt\n",
      "Appending2019-12-31 Allstate Transcript.txt\n",
      "Append Succesful\n",
      "Appending2019-12-31 Chubb Transcript.txt\n",
      "Append Succesful\n",
      "Appending2019-12-31 The Hartford Transcript.txt\n",
      "Append Succesful\n",
      "Appending2019-12-31 Travelers Transcript.txt\n",
      "Append Succesful\n",
      "Appending2019-9-30 Chubb Transcript.txt\n",
      "Append Succesful\n",
      "Appending2019-9-30 The Hartford Transcipt.txt\n",
      "Append Succesful\n",
      "Appending2020-03-31 Allstate Transcript.txt\n",
      "Append Succesful\n",
      "Appending2020-3-31 AIG Transcript.txt\n",
      "Append Succesful\n",
      "Appending2020-3-31 Chubb Transcript.txt\n",
      "Append Succesful\n",
      "Appending2020-3-31 The Hartford Transcript.txt\n",
      "Append Succesful\n",
      "Appending2020-3-31 Travelers Transcript.txt\n",
      "Append Succesful\n",
      "Appending2020-6-30 Chubb Transcript.txt\n",
      "Append Succesful\n",
      "Appending2020-6-30 Travelers Transcript.txt\n",
      "Append Succesful\n",
      "Complete.  File is output in the /data/final folder.\n"
     ]
    }
   ],
   "source": [
    "df=''\n",
    "\n",
    "for ea in range(len(txt_files)):\n",
    "    try:\n",
    "        \n",
    "        blob = TextBlob(Path(txt_file_paths[ea]).read_text())\n",
    "    \n",
    "        items = blob.raw_sentences\n",
    "        \n",
    "        #     items = [item for item in items if item[0] not in stop_words]\n",
    "        #     sorted_items = sorted(items, key=itemgetter(1), reverse=True)\n",
    "        \n",
    "        df1 = pd.DataFrame(items, columns=['sentence'])\n",
    "        df1['file_name'] = txt_files[ea]\n",
    "        df = df.append(df1)\n",
    "\n",
    "        print('Appending' + txt_files[ea])\n",
    "        print('Append Succesful')\n",
    "\n",
    "    except:\n",
    "        \n",
    "        blob = TextBlob(Path(txt_file_paths[ea]).read_text())\n",
    "    \n",
    "        items = blob.raw_sentences\n",
    "        \n",
    "        #     items = [item for item in items if item[0] not in stop_words]\n",
    "        #     sorted_items = sorted(items, key=itemgetter(1), reverse=True)\n",
    "\n",
    "        print('Beginning with ' + txt_files[ea])\n",
    "        df = pd.DataFrame(items, columns=['sentence'])\n",
    "        df['file_name'] = txt_files[ea]\n",
    "        \n",
    "\n",
    "df.to_csv('../data/final/sentences.csv', index=False)\n",
    "print('Complete.  File is output in the /data/final folder.')"
   ]
  },
  {
   "cell_type": "code",
   "execution_count": 8,
   "metadata": {
    "ExecuteTime": {
     "end_time": "2020-08-04T00:42:24.844503Z",
     "start_time": "2020-08-04T00:42:24.830543Z"
    }
   },
   "outputs": [
    {
     "data": {
      "text/plain": [
       "2020-3-31 AIG Transcript.txt              797\n",
       "2019-12-31 Allstate Transcript.txt        644\n",
       "2019-12-31 The Hartford Transcript.txt    623\n",
       "2019-12-31 AIG Transcript.txt             613\n",
       "2019-12-31 Travelers Transcript.txt       595\n",
       "2019-9-30 The Hartford Transcipt.txt      591\n",
       "2020-3-31 The Hartford Transcript.txt     575\n",
       "2020-6-30 Travelers Transcript.txt        558\n",
       "2020-03-31 Allstate Transcript.txt        554\n",
       "2019-12-31 Chubb Transcript.txt           543\n",
       "2020-3-31 Chubb Transcript.txt            543\n",
       "2020-3-31 Travelers Transcript.txt        542\n",
       "2019-9-30 Chubb Transcript.txt            503\n",
       "2020-6-30 Chubb Transcript.txt            464\n",
       "Name: file_name, dtype: int64"
      ]
     },
     "execution_count": 8,
     "metadata": {},
     "output_type": "execute_result"
    }
   ],
   "source": [
    "df.file_name.value_counts()"
   ]
  },
  {
   "cell_type": "markdown",
   "metadata": {},
   "source": [
    "# Testing/ Code Adjustments"
   ]
  },
  {
   "cell_type": "code",
   "execution_count": 9,
   "metadata": {
    "ExecuteTime": {
     "end_time": "2020-08-04T00:42:38.969889Z",
     "start_time": "2020-08-04T00:42:38.965889Z"
    }
   },
   "outputs": [],
   "source": [
    "key_items = ['social inflation']\n",
    "key_item_var = ['social_inflation']"
   ]
  },
  {
   "cell_type": "code",
   "execution_count": 10,
   "metadata": {
    "ExecuteTime": {
     "end_time": "2020-08-04T00:42:41.622085Z",
     "start_time": "2020-08-04T00:42:41.597637Z"
    }
   },
   "outputs": [
    {
     "data": {
      "text/html": [
       "<div>\n",
       "<style scoped>\n",
       "    .dataframe tbody tr th:only-of-type {\n",
       "        vertical-align: middle;\n",
       "    }\n",
       "\n",
       "    .dataframe tbody tr th {\n",
       "        vertical-align: top;\n",
       "    }\n",
       "\n",
       "    .dataframe thead th {\n",
       "        text-align: right;\n",
       "    }\n",
       "</style>\n",
       "<table border=\"1\" class=\"dataframe\">\n",
       "  <thead>\n",
       "    <tr style=\"text-align: right;\">\n",
       "      <th></th>\n",
       "      <th>sentence</th>\n",
       "      <th>file_name</th>\n",
       "    </tr>\n",
       "  </thead>\n",
       "  <tbody>\n",
       "    <tr>\n",
       "      <th>0</th>\n",
       "      <td>\\n \\nAmerican International Group Inc. \\nNYSE:...</td>\n",
       "      <td>2019-12-31 AIG Transcript.txt</td>\n",
       "    </tr>\n",
       "    <tr>\n",
       "      <th>1</th>\n",
       "      <td>spglobal.com/marketintelligence 3\\nAMERICAN IN...</td>\n",
       "      <td>2019-12-31 AIG Transcript.txt</td>\n",
       "    </tr>\n",
       "    <tr>\n",
       "      <th>2</th>\n",
       "      <td>Today's\\nconference is being recorded.</td>\n",
       "      <td>2019-12-31 AIG Transcript.txt</td>\n",
       "    </tr>\n",
       "    <tr>\n",
       "      <th>3</th>\n",
       "      <td>At this time I would like to turn the conferen...</td>\n",
       "      <td>2019-12-31 AIG Transcript.txt</td>\n",
       "    </tr>\n",
       "    <tr>\n",
       "      <th>4</th>\n",
       "      <td>Please go\\nahead.</td>\n",
       "      <td>2019-12-31 AIG Transcript.txt</td>\n",
       "    </tr>\n",
       "    <tr>\n",
       "      <th>...</th>\n",
       "      <td>...</td>\n",
       "      <td>...</td>\n",
       "    </tr>\n",
       "    <tr>\n",
       "      <th>553</th>\n",
       "      <td>S&amp;P Global's public ratings and analyses are m...</td>\n",
       "      <td>2020-6-30 Travelers Transcript.txt</td>\n",
       "    </tr>\n",
       "    <tr>\n",
       "      <th>554</th>\n",
       "      <td>Additional information about our ratings fees ...</td>\n",
       "      <td>2020-6-30 Travelers Transcript.txt</td>\n",
       "    </tr>\n",
       "    <tr>\n",
       "      <th>555</th>\n",
       "      <td>© 2020 S&amp;P Global Market Intelligence.</td>\n",
       "      <td>2020-6-30 Travelers Transcript.txt</td>\n",
       "    </tr>\n",
       "    <tr>\n",
       "      <th>556</th>\n",
       "      <td>Copyright © 2020 S&amp;P Global Market Intelligenc...</td>\n",
       "      <td>2020-6-30 Travelers Transcript.txt</td>\n",
       "    </tr>\n",
       "    <tr>\n",
       "      <th>557</th>\n",
       "      <td>spglobal.com/marketintelligence 21</td>\n",
       "      <td>2020-6-30 Travelers Transcript.txt</td>\n",
       "    </tr>\n",
       "  </tbody>\n",
       "</table>\n",
       "<p>8145 rows × 2 columns</p>\n",
       "</div>"
      ],
      "text/plain": [
       "                                              sentence  \\\n",
       "0    \\n \\nAmerican International Group Inc. \\nNYSE:...   \n",
       "1    spglobal.com/marketintelligence 3\\nAMERICAN IN...   \n",
       "2               Today's\\nconference is being recorded.   \n",
       "3    At this time I would like to turn the conferen...   \n",
       "4                                    Please go\\nahead.   \n",
       "..                                                 ...   \n",
       "553  S&P Global's public ratings and analyses are m...   \n",
       "554  Additional information about our ratings fees ...   \n",
       "555             © 2020 S&P Global Market Intelligence.   \n",
       "556  Copyright © 2020 S&P Global Market Intelligenc...   \n",
       "557                 spglobal.com/marketintelligence 21   \n",
       "\n",
       "                              file_name  \n",
       "0         2019-12-31 AIG Transcript.txt  \n",
       "1         2019-12-31 AIG Transcript.txt  \n",
       "2         2019-12-31 AIG Transcript.txt  \n",
       "3         2019-12-31 AIG Transcript.txt  \n",
       "4         2019-12-31 AIG Transcript.txt  \n",
       "..                                  ...  \n",
       "553  2020-6-30 Travelers Transcript.txt  \n",
       "554  2020-6-30 Travelers Transcript.txt  \n",
       "555  2020-6-30 Travelers Transcript.txt  \n",
       "556  2020-6-30 Travelers Transcript.txt  \n",
       "557  2020-6-30 Travelers Transcript.txt  \n",
       "\n",
       "[8145 rows x 2 columns]"
      ]
     },
     "execution_count": 10,
     "metadata": {},
     "output_type": "execute_result"
    }
   ],
   "source": [
    "df"
   ]
  },
  {
   "cell_type": "code",
   "execution_count": null,
   "metadata": {
    "ExecuteTime": {
     "end_time": "2020-07-29T14:12:00.927258Z",
     "start_time": "2020-07-29T14:12:00.916287Z"
    }
   },
   "outputs": [],
   "source": [
    "# stop_words = stopwords.words('english')\n",
    "# newStopWords = ['2020', '2019', 'p', 'global', 'quarter', 'allstate', 'copyright' '3.31', '3.54', '6.95', '2.33', '11.10', \n",
    "#                 '10.81', 'mm']\n",
    "# stop_words.extend(newStopWords)"
   ]
  },
  {
   "cell_type": "code",
   "execution_count": null,
   "metadata": {},
   "outputs": [],
   "source": [
    "# df=''\n",
    "\n",
    "# for ea in range(len(txt_files)):\n",
    "#     try:\n",
    "        \n",
    "#         blob = TextBlob(Path(txt_file_paths[ea]).read_text())\n",
    "    \n",
    "#         items = blob.np_counts.items()\n",
    "        \n",
    "#             items = [item for item in items if item[0] not in stop_words]\n",
    "#             items = sorted(items, key=itemgetter(1), reverse=True)\n",
    "        \n",
    "#         df1 = pd.DataFrame(items, columns=['sentence'])\n",
    "#         df1['file_name'] = txt_files[ea]\n",
    "#         df = df.append(df1)\n",
    "\n",
    "#         print('Appending' + txt_files[ea])\n",
    "#         print('Append Succesful')\n",
    "\n",
    "#     except:\n",
    "        \n",
    "#         blob = TextBlob(Path(txt_file_paths[ea]).read_text())\n",
    "    \n",
    "#         items = blob.np_counts.items()\n",
    "        \n",
    "#             items = [item for item in items if item[0] not in stop_words]\n",
    "#             items = sorted(items, key=itemgetter(1), reverse=True)\n",
    "\n",
    "#         print('Beginning with ' + txt_files[ea])\n",
    "#         df = pd.DataFrame(items, columns=['sentence'])\n",
    "#         df['file_name'] = txt_files[ea]\n",
    "\n",
    "# return               \n",
    "        \n",
    "# df.sort_values(by='count', \n",
    "#                ascending=False, \n",
    "#                inplace=True)\n",
    "\n",
    "# df.to_csv('../data/final/test_file.csv', index=False)\n",
    "# print('Complete.  File is output in the /data/final folder.')"
   ]
  },
  {
   "cell_type": "code",
   "execution_count": null,
   "metadata": {
    "ExecuteTime": {
     "end_time": "2020-07-29T13:33:42.727927Z",
     "start_time": "2020-07-29T13:32:25.547Z"
    }
   },
   "outputs": [],
   "source": [
    "# This is how to associate an integer to unique values in a list - not needed for this project\n",
    "# d = {ni: indi for indi, ni in enumerate(set(files))}\n",
    "# numbers = [d[ni] for ni in files]"
   ]
  },
  {
   "cell_type": "code",
   "execution_count": null,
   "metadata": {
    "ExecuteTime": {
     "end_time": "2020-07-29T13:33:42.732914Z",
     "start_time": "2020-07-29T13:32:25.552Z"
    }
   },
   "outputs": [],
   "source": [
    "#This is how to simply filter a string value\n",
    "# [k for k in pdf if 'rate ' in k]"
   ]
  }
 ],
 "metadata": {
  "hide_input": false,
  "kernelspec": {
   "display_name": "Python 3",
   "language": "python",
   "name": "python3"
  },
  "language_info": {
   "codemirror_mode": {
    "name": "ipython",
    "version": 3
   },
   "file_extension": ".py",
   "mimetype": "text/x-python",
   "name": "python",
   "nbconvert_exporter": "python",
   "pygments_lexer": "ipython3",
   "version": "3.7.3"
  },
  "toc": {
   "base_numbering": 1,
   "nav_menu": {},
   "number_sections": true,
   "sideBar": true,
   "skip_h1_title": false,
   "title_cell": "Table of Contents",
   "title_sidebar": "Contents",
   "toc_cell": false,
   "toc_position": {},
   "toc_section_display": true,
   "toc_window_display": false
  },
  "varInspector": {
   "cols": {
    "lenName": 16,
    "lenType": 16,
    "lenVar": 40
   },
   "kernels_config": {
    "python": {
     "delete_cmd_postfix": "",
     "delete_cmd_prefix": "del ",
     "library": "var_list.py",
     "varRefreshCmd": "print(var_dic_list())"
    },
    "r": {
     "delete_cmd_postfix": ") ",
     "delete_cmd_prefix": "rm(",
     "library": "var_list.r",
     "varRefreshCmd": "cat(var_dic_list()) "
    }
   },
   "position": {
    "height": "672.726px",
    "left": "1651.41px",
    "right": "20px",
    "top": "118.976px",
    "width": "406.997px"
   },
   "types_to_exclude": [
    "module",
    "function",
    "builtin_function_or_method",
    "instance",
    "_Feature"
   ],
   "window_display": true
  }
 },
 "nbformat": 4,
 "nbformat_minor": 2
}
