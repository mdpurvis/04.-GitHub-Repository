{
 "cells": [
  {
   "cell_type": "markdown",
   "metadata": {},
   "source": [
    "# Load in Data"
   ]
  },
  {
   "cell_type": "code",
   "execution_count": 1,
   "metadata": {
    "ExecuteTime": {
     "end_time": "2021-02-26T04:35:27.233937Z",
     "start_time": "2021-02-26T04:35:24.526771Z"
    }
   },
   "outputs": [],
   "source": [
    "import pandas as pd\n",
    "import numpy as np\n",
    "import re\n",
    "from scipy.stats import ttest_ind\n",
    "import scipy.stats\n",
    "from sklearn.preprocessing import OneHotEncoder\n",
    "import matplotlib.pyplot as plt\n",
    "%matplotlib inline\n",
    "%config InlineBackend.figure_format = 'retina'\n",
    "plt.style.use('ggplot')\n",
    "import seaborn as sns\n",
    "plt.rcParams['figure.figsize'] =(30,15)\n",
    "\n",
    "\n",
    "import warnings\n",
    "warnings.filterwarnings(\"ignore\")\n",
    "\n",
    "import pandas_profiling"
   ]
  },
  {
   "cell_type": "code",
   "execution_count": 2,
   "metadata": {
    "ExecuteTime": {
     "end_time": "2021-02-26T04:35:27.302753Z",
     "start_time": "2021-02-26T04:35:27.250851Z"
    }
   },
   "outputs": [],
   "source": [
    "df = pd.read_csv('../data/results/segmentation_results.csv')\n",
    "\n",
    "df['Total'] = 0\n",
    "df.set_index('CustomerID', inplace=True)\n",
    "df.rename(columns={'cluster5_2':'ClusterID'}, inplace=True)"
   ]
  },
  {
   "cell_type": "markdown",
   "metadata": {},
   "source": [
    "# Create Modules to Use Throughout Process"
   ]
  },
  {
   "cell_type": "code",
   "execution_count": 3,
   "metadata": {
    "ExecuteTime": {
     "end_time": "2021-02-26T04:35:27.356588Z",
     "start_time": "2021-02-26T04:35:27.340610Z"
    }
   },
   "outputs": [],
   "source": [
    "#changes\n",
    "# define module to create frequency distribution of variables\n",
    "def freq_dist(df, col):\n",
    "    df_fd = pd.DataFrame(data=df[col].value_counts())\n",
    "    df_fd['pct_total'] = df_fd[col] / df_fd[col].sum()\n",
    "    print(df_fd.head(15))\n",
    "    \n",
    "    \n",
    "# define module to convert individual values in to buckets, creating corresponding labels; \n",
    "# outputs frequency distribution module above\n",
    "def creat_bins(df, new_col, col, bins=[], labels=[]):\n",
    "    df[new_col] = pd.cut(\n",
    "    x=df[col], \n",
    "    bins=bins, \n",
    "    labels=labels)\n",
    "    freq_dist(df, new_col)\n",
    "    \n",
    "    \n",
    "#Module used to take a field in dollars seen as an 'object' and convert in to an Integer    \n",
    "def convert_dollars(cols):\n",
    "    df[cols] = df[cols].str.replace('#NULL!', '0.0')\n",
    "    df[cols] = df[cols].str.replace(',', '')\n",
    "    df[cols] = df[cols].str.replace('$', '')\n",
    "    df[cols] = df[cols].str.replace(' ', '')\n",
    "    df[cols] = df[cols].str.replace(')', '')\n",
    "    df[cols] = df[cols].str.replace('-', '0.0')\n",
    "    df[cols] = df[cols].str.replace('(', '-')\n",
    "    df[cols] = df[cols].astype(float)\n",
    "    df[cols] = df[cols].replace('.0', '')\n",
    "    df[cols] = df[cols].astype(int)\n",
    "    print('Converting', cols, 'Dollars to Numbers Complete')    \n",
    "    \n",
    "    \n",
    "#Creates Histogram for Comparitive Purposes\n",
    "def review_detail(df, equil, col, num, col2, num2, col3, meas, sub, type, stack):    \n",
    "    if type == 'total':\n",
    "        df_last_month = df.loc[(df[col] != num) & (df[col2] != num2)]\n",
    "        df_last_month = df_last_month.groupby(by=[col, col3, col2]).agg({'Total'+equil:meas})\n",
    "        df_last_month.rename(columns = {'index':col3}, inplace=True)\n",
    "        df_last_month['pct_total'] = ((df_last_month['Total'+equil] / df_last_month['Total'+equil].sum())*100).astype(int)\n",
    "        df_last_month = pd.DataFrame(df_last_month)\n",
    "        df_last_month = df_last_month.T\n",
    "#         print(df_last_month)\n",
    "        df_last_month.drop_duplicates(inplace=True)\n",
    "        df_last_month = df_last_month.T\n",
    "        df_last_month.drop(columns=['pct_total'], inplace=True)\n",
    "\n",
    "\n",
    "        df_last_month.unstack().plot(kind='bar', use_index=True, rot=0, \n",
    "                                     subplots=sub, title=(meas+' by '+col2),\n",
    "                                    stacked=stack)\n",
    "    else:\n",
    "        df_last_month = df.loc[(df[col] != num) & (df[col2] != num2)]\n",
    "        df_last_month = df_last_month.groupby(by=[col, col3, col2]).agg({'Voice'+equil:meas, \n",
    "                                                                         'Equipment'+equil:meas, \n",
    "                                                                         'Data'+equil:meas})\n",
    "        df_last_month.rename(columns = {'index':col3}, inplace=True)\n",
    "        df_last_month = pd.DataFrame(df_last_month)\n",
    "#         print(df_last_month.head().T)\n",
    "\n",
    "        df_last_month.unstack().plot(kind='bar', use_index=True, rot=0, \n",
    "                                     subplots=sub, title=(meas+' by '+col2),\n",
    "                                    stacked=stack)"
   ]
  },
  {
   "cell_type": "code",
   "execution_count": 4,
   "metadata": {
    "ExecuteTime": {
     "end_time": "2021-02-26T04:35:27.428408Z",
     "start_time": "2021-02-26T04:35:27.403469Z"
    },
    "cell_style": "split",
    "scrolled": false
   },
   "outputs": [
    {
     "name": "stdout",
     "output_type": "stream",
     "text": [
      "To the right is the customer count distribution \n",
      "by cluster: \n",
      "\n",
      "   ClusterID  pct_total\n",
      "3       1898     0.3796\n",
      "1       1684     0.3368\n",
      "2       1418     0.2836\n"
     ]
    }
   ],
   "source": [
    "print('To the right is the customer count'\n",
    "      ' distribution \\nby cluster: \\n')\n",
    "freq_dist(df, 'ClusterID')"
   ]
  },
  {
   "cell_type": "code",
   "execution_count": 5,
   "metadata": {
    "ExecuteTime": {
     "end_time": "2021-02-26T04:35:27.707655Z",
     "start_time": "2021-02-26T04:35:27.474290Z"
    },
    "cell_style": "split",
    "scrolled": false
   },
   "outputs": [
    {
     "data": {
      "image/png": "[encoded data removed]",
      "text/plain": [
       "<Figure size 432x288 with 1 Axes>"
      ]
     },
     "metadata": {
      "image/png": {
       "height": 294,
       "width": 381
      },
      "needs_background": "light"
     },
     "output_type": "display_data"
    }
   ],
   "source": [
    "review_detail(df, 'LastMonth', \n",
    "              'Total', '', \n",
    "              'Total', 4, \n",
    "              'ClusterID', 'count', \n",
    "              True, 'total', True)"
   ]
  },
  {
   "cell_type": "code",
   "execution_count": 6,
   "metadata": {
    "ExecuteTime": {
     "end_time": "2021-02-26T04:35:29.034431Z",
     "start_time": "2021-02-26T04:35:29.024450Z"
    },
    "cell_style": "split"
   },
   "outputs": [
    {
     "name": "stdout",
     "output_type": "stream",
     "text": [
      "To the right is total customer sales distribution \n",
      "by cluster: \n",
      "\n",
      "           TotalLastMonth  pct_total\n",
      "ClusterID                           \n",
      "1                  109422   0.345490\n",
      "2                   29993   0.094700\n",
      "3                  177300   0.559809\n"
     ]
    }
   ],
   "source": [
    "print('To the right is total customer sales'\n",
    "      ' distribution \\nby cluster: \\n')\n",
    "df_tot = df.groupby(['ClusterID'], ).agg({'TotalLastMonth':'sum'})\n",
    "df_tot['pct_total'] = df_tot['TotalLastMonth'] / df_tot['TotalLastMonth'].sum()\n",
    "df_tot = df_tot[['TotalLastMonth', 'pct_total']]\n",
    "print(df_tot)"
   ]
  },
  {
   "cell_type": "code",
   "execution_count": 7,
   "metadata": {
    "ExecuteTime": {
     "end_time": "2021-02-26T04:35:29.795785Z",
     "start_time": "2021-02-26T04:35:29.616109Z"
    },
    "cell_style": "split"
   },
   "outputs": [
    {
     "data": {
      "image/png": "[encoded data removed]",
      "text/plain": [
       "<Figure size 432x288 with 1 Axes>"
      ]
     },
     "metadata": {
      "image/png": {
       "height": 280,
       "width": 393
      },
      "needs_background": "light"
     },
     "output_type": "display_data"
    }
   ],
   "source": [
    "review_detail(df, 'LastMonth', \n",
    "              'Total', 1, \n",
    "              'Total', 1, \n",
    "              'ClusterID', 'sum', \n",
    "              False, 'total',False)"
   ]
  },
  {
   "cell_type": "markdown",
   "metadata": {},
   "source": [
    "# Evaluate Segmentation Variables using Violin Plots"
   ]
  },
  {
   "cell_type": "markdown",
   "metadata": {},
   "source": [
    "## PhoneCoTenure & Age"
   ]
  },
  {
   "cell_type": "code",
   "execution_count": null,
   "metadata": {
    "ExecuteTime": {
     "end_time": "2020-06-30T22:42:35.415805Z",
     "start_time": "2020-06-30T22:42:35.238280Z"
    },
    "cell_style": "split"
   },
   "outputs": [],
   "source": [
    "sns.violinplot(x=\"ClusterID\", y=\"PhoneCoTenure\", \n",
    "               data=df, palette=\"Set2\", \n",
    "               scale=\"count\", inner=\"quartile\")\n"
   ]
  },
  {
   "cell_type": "code",
   "execution_count": null,
   "metadata": {
    "ExecuteTime": {
     "end_time": "2020-06-30T22:42:35.596349Z",
     "start_time": "2020-06-30T22:42:35.418825Z"
    },
    "cell_style": "split"
   },
   "outputs": [],
   "source": [
    "sns.violinplot(x=\"ClusterID\", y=\"Age\", data=df, \n",
    "               palette=\"Set2\", scale=\"count\", \n",
    "               inner=\"quartile\")\n"
   ]
  },
  {
   "cell_type": "markdown",
   "metadata": {},
   "source": [
    "## TotalServicesUsed & RevenueType"
   ]
  },
  {
   "cell_type": "code",
   "execution_count": null,
   "metadata": {
    "ExecuteTime": {
     "end_time": "2020-06-30T22:42:35.785871Z",
     "start_time": "2020-06-30T22:42:35.598317Z"
    },
    "cell_style": "split"
   },
   "outputs": [],
   "source": [
    "sns.violinplot(x=\"ClusterID\", y=\"TotalServicesUsed\", \n",
    "               data=df, palette=\"Set2\", \n",
    "               scale=\"count\", inner=\"quartile\")\n"
   ]
  },
  {
   "cell_type": "code",
   "execution_count": null,
   "metadata": {
    "ExecuteTime": {
     "end_time": "2020-06-30T22:42:35.959390Z",
     "start_time": "2020-06-30T22:42:35.787839Z"
    },
    "cell_style": "split"
   },
   "outputs": [],
   "source": [
    "sns.violinplot(x=\"ClusterID\", y=\"RevenueType\", \n",
    "               data=df, palette=\"Set2\", \n",
    "               scale=\"count\", inner=\"quartile\")\n",
    "\n",
    "\n"
   ]
  },
  {
   "cell_type": "markdown",
   "metadata": {},
   "source": [
    "## DataLastMonth & EquipmentLastMonth"
   ]
  },
  {
   "cell_type": "code",
   "execution_count": null,
   "metadata": {
    "ExecuteTime": {
     "end_time": "2020-06-30T22:42:36.158878Z",
     "start_time": "2020-06-30T22:42:35.961374Z"
    },
    "cell_style": "split"
   },
   "outputs": [],
   "source": [
    "sns.violinplot(x=\"ClusterID\", y=\"DataLastMonth\", \n",
    "               data=df, palette=\"Set2\", \n",
    "               scale=\"count\", inner=\"quartile\")\n"
   ]
  },
  {
   "cell_type": "code",
   "execution_count": null,
   "metadata": {
    "ExecuteTime": {
     "end_time": "2020-06-30T22:42:36.328404Z",
     "start_time": "2020-06-30T22:42:36.160841Z"
    },
    "cell_style": "split"
   },
   "outputs": [],
   "source": [
    "sns.violinplot(x=\"ClusterID\", y=\"EquipmentLastMonth\", \n",
    "               data=df, palette=\"Set2\", \n",
    "               scale=\"count\", inner=\"quartile\")"
   ]
  },
  {
   "cell_type": "markdown",
   "metadata": {},
   "source": [
    "## TotalLastMonth & VoiceLastMonth"
   ]
  },
  {
   "cell_type": "code",
   "execution_count": null,
   "metadata": {
    "ExecuteTime": {
     "end_time": "2020-06-30T22:42:36.506945Z",
     "start_time": "2020-06-30T22:42:36.331384Z"
    },
    "cell_style": "split"
   },
   "outputs": [],
   "source": [
    "sns.violinplot(x=\"ClusterID\", y=\"TotalLastMonth\", \n",
    "               data=df, palette=\"Set2\", \n",
    "               scale=\"count\", inner=\"quartile\")"
   ]
  },
  {
   "cell_type": "code",
   "execution_count": null,
   "metadata": {
    "ExecuteTime": {
     "end_time": "2020-06-30T22:42:36.681481Z",
     "start_time": "2020-06-30T22:42:36.507913Z"
    },
    "cell_style": "split"
   },
   "outputs": [],
   "source": [
    "sns.violinplot(x=\"ClusterID\", y=\"VoiceLastMonth\", \n",
    "               data=df, palette=\"Set2\", \n",
    "               scale=\"count\", inner=\"quartile\")"
   ]
  },
  {
   "cell_type": "markdown",
   "metadata": {},
   "source": [
    "# Additional Review of Segmentation Outputs"
   ]
  },
  {
   "cell_type": "markdown",
   "metadata": {},
   "source": [
    "## Review Total Sales and Customer Count Last Month"
   ]
  },
  {
   "cell_type": "code",
   "execution_count": null,
   "metadata": {
    "ExecuteTime": {
     "end_time": "2020-06-30T22:42:36.706381Z",
     "start_time": "2020-06-30T22:42:36.684440Z"
    }
   },
   "outputs": [],
   "source": [
    "df_revtype = df.groupby(['ClusterID'], ).agg({'TotalLastMonth':'sum','Total':'count'})\n",
    "df_revtype.rename(columns={'Total':'TotalLastMonthCount'}, inplace=True)\n",
    "df_revtype['pct_total'] = df_revtype['TotalLastMonth'] / df_revtype['TotalLastMonth'].sum()\n",
    "df_revtype['pct_total_count'] = df_revtype['TotalLastMonthCount'] / df_revtype['TotalLastMonthCount'].sum()\n",
    "df_revtype = df_revtype[['TotalLastMonth', 'pct_total', 'TotalLastMonthCount', 'pct_total_count']]\n",
    "print(df_revtype['TotalLastMonth'].sum())\n",
    "df_revtype"
   ]
  },
  {
   "cell_type": "markdown",
   "metadata": {},
   "source": [
    "## Review Voice (only) Sales and Customer Count Last Month"
   ]
  },
  {
   "cell_type": "code",
   "execution_count": null,
   "metadata": {
    "ExecuteTime": {
     "end_time": "2020-06-30T22:42:36.732312Z",
     "start_time": "2020-06-30T22:42:36.707380Z"
    }
   },
   "outputs": [],
   "source": [
    "df_revtype = df.groupby(['ClusterID'], ).agg({'VoiceLastMonth':'sum','Total':'count'})\n",
    "df_revtype.rename(columns={'Total':'TotalLastMonthCount'}, inplace=True)\n",
    "df_revtype['pct_total'] = df_revtype['VoiceLastMonth'] / df_revtype['VoiceLastMonth'].sum()\n",
    "df_revtype['pct_total_count'] = df_revtype['TotalLastMonthCount'] / df_revtype['TotalLastMonthCount'].sum()\n",
    "df_revtype = df_revtype[['VoiceLastMonth', 'pct_total', 'TotalLastMonthCount', 'pct_total_count']]\n",
    "print(df_revtype['VoiceLastMonth'].sum())\n",
    "df_revtype"
   ]
  },
  {
   "cell_type": "markdown",
   "metadata": {},
   "source": [
    "## Review Total Sales by Top 50% and Bottom 50% and Customer Count Last Month"
   ]
  },
  {
   "cell_type": "code",
   "execution_count": null,
   "metadata": {
    "ExecuteTime": {
     "end_time": "2020-06-30T22:42:37.448556Z",
     "start_time": "2020-06-30T22:42:36.736305Z"
    },
    "scrolled": true
   },
   "outputs": [],
   "source": [
    "review_detail(df,'LastMonth',\n",
    "              'Top50_Bottom50', '', \n",
    "              'ClusterID', \"\", \n",
    "              'Total', 'count', \n",
    "              True, 'total', False)"
   ]
  },
  {
   "cell_type": "markdown",
   "metadata": {},
   "source": [
    "## Review Total Sales Last Month by Category (Data, Voice, & Equipment) by Cluster"
   ]
  },
  {
   "cell_type": "code",
   "execution_count": null,
   "metadata": {
    "ExecuteTime": {
     "end_time": "2020-06-30T22:42:37.725662Z",
     "start_time": "2020-06-30T22:42:37.452545Z"
    },
    "scrolled": false
   },
   "outputs": [],
   "source": [
    "review_detail(df,'LastMonth',\n",
    "              'Total', '', \n",
    "              'Total', '', \n",
    "              'ClusterID', 'sum', \n",
    "              False, 'else', False)"
   ]
  },
  {
   "cell_type": "markdown",
   "metadata": {},
   "source": [
    "# Create individual datasets for each cluster & generate summary report"
   ]
  },
  {
   "cell_type": "code",
   "execution_count": null,
   "metadata": {
    "ExecuteTime": {
     "end_time": "2020-06-30T22:42:37.753942Z",
     "start_time": "2020-06-30T22:42:37.728654Z"
    }
   },
   "outputs": [],
   "source": [
    "df_1 = df.loc[df['ClusterID']==1]\n",
    "print('df_1 shape:', df_1.shape)\n",
    "df_2 = df.loc[df['ClusterID']==2]\n",
    "print('df_2 shape:', df_2.shape)\n",
    "df_3 = df.loc[df['ClusterID']==3]\n",
    "print('df_3 shape:', df_3.shape)"
   ]
  },
  {
   "cell_type": "code",
   "execution_count": null,
   "metadata": {
    "ExecuteTime": {
     "end_time": "2020-06-30T22:43:16.393294Z",
     "start_time": "2020-06-30T22:42:37.757932Z"
    }
   },
   "outputs": [],
   "source": [
    "# #conda install -c conda-forge pandas-profiling -- use this code snippet on your command line to install pandas-profiling \n",
    "# #pandas_profiling provides a comprehensive report on the variables and various statistics around it.\n",
    "# #It can be fairly overwhelming but is very useful\n",
    "df_1_profile = df_1.profile_report(minimal=True)\n",
    "df_1_profile.to_file(output_file=\"df_1 generated_report.html\")\n",
    "df_2_profile = df_2.profile_report(minimal=True)\n",
    "df_2_profile.to_file(output_file=\"df_2 generated_report.html\")\n",
    "df_3_profile = df_3.profile_report(minimal=True)\n",
    "df_3_profile.to_file(output_file=\"df_3 generated_report.html\")"
   ]
  },
  {
   "cell_type": "markdown",
   "metadata": {},
   "source": [
    "## See the additional attachments submitted with this report for generated reports"
   ]
  }
 ],
 "metadata": {
  "hide_input": false,
  "kernelspec": {
   "display_name": "Python 3",
   "language": "python",
   "name": "python3"
  },
  "language_info": {
   "codemirror_mode": {
    "name": "ipython",
    "version": 3
   },
   "file_extension": ".py",
   "mimetype": "text/x-python",
   "name": "python",
   "nbconvert_exporter": "python",
   "pygments_lexer": "ipython3",
   "version": "3.7.3"
  },
  "toc": {
   "base_numbering": 1,
   "nav_menu": {},
   "number_sections": true,
   "sideBar": true,
   "skip_h1_title": false,
   "title_cell": "Table of Contents",
   "title_sidebar": "Contents",
   "toc_cell": false,
   "toc_position": {},
   "toc_section_display": true,
   "toc_window_display": false
  },
  "varInspector": {
   "cols": {
    "lenName": 16,
    "lenType": 16,
    "lenVar": 40
   },
   "kernels_config": {
    "python": {
     "delete_cmd_postfix": "",
     "delete_cmd_prefix": "del ",
     "library": "var_list.py",
     "varRefreshCmd": "print(var_dic_list())"
    },
    "r": {
     "delete_cmd_postfix": ") ",
     "delete_cmd_prefix": "rm(",
     "library": "var_list.r",
     "varRefreshCmd": "cat(var_dic_list()) "
    }
   },
   "types_to_exclude": [
    "module",
    "function",
    "builtin_function_or_method",
    "instance",
    "_Feature"
   ],
   "window_display": false
  }
 },
 "nbformat": 4,
 "nbformat_minor": 2
}
