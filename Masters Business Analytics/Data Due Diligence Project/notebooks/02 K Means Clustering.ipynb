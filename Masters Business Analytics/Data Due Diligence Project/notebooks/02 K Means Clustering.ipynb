{
 "cells": [
  {
   "cell_type": "code",
   "execution_count": null,
   "metadata": {
    "ExecuteTime": {
     "end_time": "2021-02-26T04:08:52.493980Z",
     "start_time": "2021-02-26T04:08:49.753208Z"
    }
   },
   "outputs": [],
   "source": [
    "import pandas as pd\n",
    "import numpy as np\n",
    "import re\n",
    "from scipy.stats import ttest_ind\n",
    "from sklearn.preprocessing import normalize\n",
    "import scipy.cluster.hierarchy as shc\n",
    "from sklearn.cluster import AgglomerativeClustering\n",
    "from sklearn.cluster import KMeans\n",
    "import matplotlib.pyplot as plt\n",
    "import scipy.cluster.hierarchy as shc\n",
    "%matplotlib inline\n",
    "%config InlineBackend.figure_format = 'retina'\n",
    "plt.style.use('ggplot')\n",
    "# plt.rcParams['figure.figsize'] =(26,12)\n",
    "\n",
    "\n",
    "\n",
    "import warnings\n",
    "warnings.filterwarnings(\"ignore\")\n",
    "\n",
    "from sklearn.model_selection import train_test_split\n",
    "from sklearn.ensemble import RandomForestClassifier\n",
    "from sklearn import metrics\n",
    "import seaborn as sns\n",
    "from sklearn.tree import export_graphviz\n",
    "from subprocess import call\n",
    "from IPython.display import Image\n",
    "import graphviz\n",
    "\n",
    "import pandas_profiling"
   ]
  },
  {
   "cell_type": "code",
   "execution_count": null,
   "metadata": {
    "ExecuteTime": {
     "end_time": "2021-02-26T04:08:52.545794Z",
     "start_time": "2021-02-26T04:08:52.495928Z"
    }
   },
   "outputs": [],
   "source": [
    "df_start = pd.read_csv('../data/modified/data_due_diligence_output.csv', \n",
    "                 index_col='CustomerID')"
   ]
  },
  {
   "cell_type": "markdown",
   "metadata": {},
   "source": [
    "# Select Columns to use in Analysis"
   ]
  },
  {
   "cell_type": "code",
   "execution_count": null,
   "metadata": {
    "ExecuteTime": {
     "end_time": "2021-02-26T04:08:52.555788Z",
     "start_time": "2021-02-26T04:08:52.547791Z"
    }
   },
   "outputs": [],
   "source": [
    "df = df_start\n",
    "df.columns"
   ]
  },
  {
   "cell_type": "code",
   "execution_count": null,
   "metadata": {
    "ExecuteTime": {
     "end_time": "2021-02-26T04:08:52.586689Z",
     "start_time": "2021-02-26T04:08:52.558760Z"
    }
   },
   "outputs": [],
   "source": [
    "df"
   ]
  },
  {
   "cell_type": "code",
   "execution_count": null,
   "metadata": {
    "ExecuteTime": {
     "end_time": "2021-02-26T04:08:52.594663Z",
     "start_time": "2021-02-26T04:08:52.590683Z"
    }
   },
   "outputs": [],
   "source": [
    "# df.TVWatchingHours.value_counts(bins=10)"
   ]
  },
  {
   "cell_type": "code",
   "execution_count": null,
   "metadata": {
    "ExecuteTime": {
     "end_time": "2021-02-26T04:08:52.604637Z",
     "start_time": "2021-02-26T04:08:52.596662Z"
    }
   },
   "outputs": [],
   "source": [
    "#Selecting the columns or variables that you want to use for clustering\n",
    "cust_df_kmeans = df[['AgeRanges',\n",
    "                     'PhoneCoTenure', \n",
    "                     'RevenueType',\n",
    "                     'TotalServicesUsed',\n",
    "                     'Top50_Bottom50'\n",
    "                    ]]"
   ]
  },
  {
   "cell_type": "markdown",
   "metadata": {},
   "source": [
    "# Standardize the Data\n",
    "## Ensures Data is weighted consistently in the analysis"
   ]
  },
  {
   "cell_type": "code",
   "execution_count": null,
   "metadata": {
    "ExecuteTime": {
     "end_time": "2021-02-26T04:08:52.621591Z",
     "start_time": "2021-02-26T04:08:52.605634Z"
    }
   },
   "outputs": [],
   "source": [
    "# standardizing the data\n",
    "from sklearn.preprocessing import StandardScaler\n",
    "scaler = StandardScaler()\n",
    "cust_kmeans_scaled = scaler.fit_transform(cust_df_kmeans)\n",
    "#Assign the scaled data to a DataFrame using the index keyword arguments\n",
    "cust_kmeans_scaled_df = pd.DataFrame(cust_kmeans_scaled, index = cust_df_kmeans.index)\n",
    "cust_kmeans_scaled_df.head()"
   ]
  },
  {
   "cell_type": "markdown",
   "metadata": {},
   "source": [
    "# Plot Dendogram\n",
    "## Evaluates the importance of clusters\n",
    "### The longer "
   ]
  },
  {
   "cell_type": "code",
   "execution_count": null,
   "metadata": {
    "ExecuteTime": {
     "end_time": "2021-02-26T04:08:52.652510Z",
     "start_time": "2021-02-26T04:08:52.624597Z"
    }
   },
   "outputs": [],
   "source": [
    "# statistics of scaled data\n",
    "pd.DataFrame(cust_kmeans_scaled_df).describe()"
   ]
  },
  {
   "cell_type": "code",
   "execution_count": null,
   "metadata": {
    "ExecuteTime": {
     "end_time": "2021-02-26T04:09:29.077764Z",
     "start_time": "2021-02-26T04:09:29.074451Z"
    }
   },
   "outputs": [],
   "source": [
    "# # Plot inertia for multiple cluster solutions against the number of clusters\n",
    "# # fitting multiple k-means algorithms and storing the values in an empty list\n",
    "# SSE = []\n",
    "# for cluster in range(2,10):\n",
    "#     kmeans = KMeans(n_jobs = -1, n_clusters = cluster, init='k-means++')\n",
    "#     kmeans.fit(cust_kmeans_scaled_df)\n",
    "#     SSE.append(kmeans.inertia_)\n",
    "\n",
    "# # converting the results into a dataframe and plotting them\n",
    "# cust_df_frame = pd.DataFrame({'Cluster':range(2,10), 'SSE':SSE})\n",
    "# plt.figure(figsize=(12,6))\n",
    "# plt.plot(cust_df_frame['Cluster'], cust_df_frame['SSE'], marker='o')\n",
    "# plt.xlabel('Number of clusters')\n",
    "# plt.ylabel('Inertia')"
   ]
  },
  {
   "cell_type": "code",
   "execution_count": null,
   "metadata": {
    "ExecuteTime": {
     "end_time": "2021-02-26T04:09:29.469907Z",
     "start_time": "2021-02-26T04:09:29.463925Z"
    }
   },
   "outputs": [],
   "source": [
    "cust_kmeans_scaled"
   ]
  },
  {
   "cell_type": "code",
   "execution_count": null,
   "metadata": {
    "ExecuteTime": {
     "end_time": "2021-02-26T04:09:30.219418Z",
     "start_time": "2021-02-26T04:09:30.215399Z"
    }
   },
   "outputs": [],
   "source": [
    "# plt.figure(figsize=(10, 7))  \n",
    "# plt.title(\"Dendrograms - Standardized Population\")  \n",
    "# dendr = shc.dendrogram(shc.linkage(cust_kmeans_scaled, method='ward'))"
   ]
  },
  {
   "cell_type": "code",
   "execution_count": null,
   "metadata": {
    "ExecuteTime": {
     "end_time": "2021-02-26T04:09:30.836961Z",
     "start_time": "2021-02-26T04:09:30.751151Z"
    }
   },
   "outputs": [],
   "source": [
    "# Defining the kmeans function with initialization as k-means++; # You want to cluster into 5 segments\n",
    "kmeans_5 = KMeans(n_clusters = 3, init='k-means++')\n",
    "\n",
    "# fitting the k means algorithm on scaled data\n",
    "kmeans_5.fit(cust_kmeans_scaled_df)"
   ]
  },
  {
   "cell_type": "code",
   "execution_count": null,
   "metadata": {
    "ExecuteTime": {
     "end_time": "2021-02-26T04:09:31.180773Z",
     "start_time": "2021-02-26T04:09:31.174820Z"
    }
   },
   "outputs": [],
   "source": [
    "# Inertia calculates the sum of all the points within a cluster from the centroid of that cluster.\n",
    "# Determine inertia on the fitted data\n",
    "kmeans_5.inertia_"
   ]
  },
  {
   "cell_type": "code",
   "execution_count": null,
   "metadata": {
    "ExecuteTime": {
     "end_time": "2021-02-26T04:09:31.772946Z",
     "start_time": "2021-02-26T04:09:31.766988Z"
    }
   },
   "outputs": [],
   "source": [
    "pred_clus5 = kmeans_5.predict(cust_kmeans_scaled_df)"
   ]
  },
  {
   "cell_type": "code",
   "execution_count": null,
   "metadata": {
    "ExecuteTime": {
     "end_time": "2021-02-26T04:09:32.135439Z",
     "start_time": "2021-02-26T04:09:32.126450Z"
    }
   },
   "outputs": [],
   "source": [
    "cust_df_frame_2 = pd.DataFrame(cust_kmeans_scaled_df)\n",
    "cust_df_frame_2['cluster'] = pred_clus5\n",
    "cust_df_frame_2['cluster'].value_counts()"
   ]
  },
  {
   "cell_type": "code",
   "execution_count": null,
   "metadata": {
    "ExecuteTime": {
     "end_time": "2021-02-26T04:09:32.432650Z",
     "start_time": "2021-02-26T04:09:32.422683Z"
    }
   },
   "outputs": [],
   "source": [
    "# Using head shows the data structure of the resulting data frame\n",
    "# There are 10 variables used for clustering and their scaled values are shown\n",
    "# The last column is the cluster solution and shows the cluster to which obsevation belongs\n",
    "# There are five segments starting from 0 to 4\n",
    "cust_df_frame_2.head(5)"
   ]
  },
  {
   "cell_type": "code",
   "execution_count": null,
   "metadata": {
    "ExecuteTime": {
     "end_time": "2021-02-26T04:09:32.700918Z",
     "start_time": "2021-02-26T04:09:32.670994Z"
    }
   },
   "outputs": [],
   "source": [
    "# Create a new data column cluster5_2 to incorporate a cluster indicator variable running from 1 to 5\n",
    "cust_df_frame_2['cluster5_2'] = cust_df_frame_2['cluster'] + 1\n",
    "cust_df_frame_2.head(5)"
   ]
  },
  {
   "cell_type": "code",
   "execution_count": null,
   "metadata": {
    "ExecuteTime": {
     "end_time": "2021-02-26T04:09:33.379701Z",
     "start_time": "2021-02-26T04:09:33.374713Z"
    }
   },
   "outputs": [],
   "source": [
    "# Get the cluster labels\n",
    "print(kmeans_5.labels_)"
   ]
  },
  {
   "cell_type": "code",
   "execution_count": null,
   "metadata": {
    "ExecuteTime": {
     "end_time": "2021-02-26T04:09:33.982807Z",
     "start_time": "2021-02-26T04:09:33.975826Z"
    }
   },
   "outputs": [],
   "source": [
    "cust_df_frame_2['cluster5_2'].value_counts()"
   ]
  },
  {
   "cell_type": "code",
   "execution_count": null,
   "metadata": {
    "ExecuteTime": {
     "end_time": "2021-02-26T04:09:36.775987Z",
     "start_time": "2021-02-26T04:09:36.512666Z"
    }
   },
   "outputs": [],
   "source": [
    "plt.scatter(kmeans_5.cluster_centers_[:, 0], kmeans_5.cluster_centers_[:, 1], c='red', marker='x')"
   ]
  },
  {
   "cell_type": "code",
   "execution_count": null,
   "metadata": {
    "ExecuteTime": {
     "end_time": "2021-02-26T04:09:44.691937Z",
     "start_time": "2021-02-26T04:09:44.679969Z"
    }
   },
   "outputs": [],
   "source": [
    "# Calculate silhouette_score\n",
    "from sklearn.metrics import silhouette_score\n",
    "print(silhouette_score(cust_df_frame_2, kmeans.labels_))"
   ]
  },
  {
   "cell_type": "code",
   "execution_count": null,
   "metadata": {
    "ExecuteTime": {
     "end_time": "2021-02-26T04:09:48.957506Z",
     "start_time": "2021-02-26T04:09:46.687489Z"
    },
    "scrolled": true
   },
   "outputs": [],
   "source": [
    "# Import the KElbowVisualizer method \n",
    "from yellowbrick.cluster import KElbowVisualizer\n",
    "from sklearn.cluster import KMeans\n",
    "from sklearn.datasets import make_blobs\n",
    "\n",
    "# Instantiate a scikit-learn K-Means model\n",
    "model = KMeans(random_state=0)\n",
    "\n",
    "# Instantiate the KElbowVisualizer with the number of clusters and the metric \n",
    "visualizer = KElbowVisualizer(model, k=(2,6), metric='silhouette', timings=False)\n",
    "\n",
    "# Fit the data and visualize\n",
    "visualizer.fit(cust_df_frame_2)    \n",
    "visualizer.poof()  "
   ]
  },
  {
   "cell_type": "code",
   "execution_count": null,
   "metadata": {
    "ExecuteTime": {
     "end_time": "2021-02-26T04:10:30.403677Z",
     "start_time": "2021-02-26T04:10:30.388717Z"
    }
   },
   "outputs": [],
   "source": [
    "# Joining the clusters from kmeans to the original data used for clustering\n",
    "cust_df_clus5_ALL = pd.DataFrame(pd.concat([cust_df_frame_2, df], axis = 1))\n",
    "cust_df_clus5_ALL.shape"
   ]
  },
  {
   "cell_type": "code",
   "execution_count": null,
   "metadata": {
    "ExecuteTime": {
     "end_time": "2021-02-26T04:10:43.948841Z",
     "start_time": "2021-02-26T04:10:43.945380Z"
    },
    "scrolled": true
   },
   "outputs": [],
   "source": [
    "# cust_df_clus5_ALL.info()"
   ]
  },
  {
   "cell_type": "code",
   "execution_count": null,
   "metadata": {
    "ExecuteTime": {
     "end_time": "2021-02-26T04:10:44.472486Z",
     "start_time": "2021-02-26T04:10:44.388710Z"
    }
   },
   "outputs": [],
   "source": [
    "# Using pandas crosstabs to create a cross tab of clusters by loan defaults\n",
    "pd.crosstab(cust_df_clus5_ALL['cluster5_2'],cust_df_clus5_ALL['RevenueType'],margins=True, normalize = 'columns')"
   ]
  },
  {
   "cell_type": "code",
   "execution_count": null,
   "metadata": {
    "ExecuteTime": {
     "end_time": "2021-02-26T04:10:45.262914Z",
     "start_time": "2021-02-26T04:10:45.254909Z"
    }
   },
   "outputs": [],
   "source": [
    "#Extracting the cluster data from the original cluster solution and saving it as a DataFrame with an index\n",
    "cust_df_kmeans_cluster5_2 = pd.DataFrame(cust_df_frame_2['cluster5_2'])\n",
    "cust_df_kmeans_cluster5_2.head()"
   ]
  },
  {
   "cell_type": "code",
   "execution_count": null,
   "metadata": {
    "ExecuteTime": {
     "end_time": "2021-02-26T04:10:45.899189Z",
     "start_time": "2021-02-26T04:10:45.896195Z"
    }
   },
   "outputs": [],
   "source": [
    "# plt.figure(figsize=(10, 7))  \n",
    "# plt.title(\"Dendrograms - Non-Normalized Population\")  \n",
    "# dendr = shc.dendrogram(shc.linkage(cust_kmeans_scaled, method='ward'))"
   ]
  },
  {
   "cell_type": "code",
   "execution_count": null,
   "metadata": {
    "ExecuteTime": {
     "end_time": "2021-02-26T04:10:49.191994Z",
     "start_time": "2021-02-26T04:10:49.186969Z"
    }
   },
   "outputs": [],
   "source": [
    "# Joining the clusters from kmeans to the original data used for clustering\n",
    "cust_df_clus5_rf = pd.DataFrame(pd.concat([cust_df_kmeans_cluster5_2, cust_df_kmeans], axis = 1))"
   ]
  },
  {
   "cell_type": "code",
   "execution_count": null,
   "metadata": {
    "ExecuteTime": {
     "end_time": "2021-02-26T04:10:49.709573Z",
     "start_time": "2021-02-26T04:10:49.703604Z"
    }
   },
   "outputs": [],
   "source": [
    "# Check on the cluster distribution after extractiona and concatenating\n",
    "cust_df_clus5_rf['cluster5_2'].value_counts()"
   ]
  },
  {
   "cell_type": "code",
   "execution_count": null,
   "metadata": {
    "ExecuteTime": {
     "end_time": "2021-02-26T04:10:50.636100Z",
     "start_time": "2021-02-26T04:10:50.618147Z"
    }
   },
   "outputs": [],
   "source": [
    "def split_data(df, train_perc = 0.8):\n",
    "    df['train'] = np.random.rand(len(df)) < train_perc\n",
    "    train = df[df.train == 1]\n",
    "    test = df[df.train == 0]\n",
    "    split_data ={'train': train, 'test': test}\n",
    "    return split_data"
   ]
  },
  {
   "cell_type": "code",
   "execution_count": null,
   "metadata": {
    "ExecuteTime": {
     "end_time": "2021-02-26T04:10:51.396097Z",
     "start_time": "2021-02-26T04:10:51.377115Z"
    },
    "scrolled": true
   },
   "outputs": [],
   "source": [
    "split_data(cust_df_kmeans,0.8)"
   ]
  },
  {
   "cell_type": "code",
   "execution_count": null,
   "metadata": {
    "ExecuteTime": {
     "end_time": "2021-02-26T04:10:55.428286Z",
     "start_time": "2021-02-26T04:10:55.419308Z"
    }
   },
   "outputs": [],
   "source": [
    "probs = np.random.rand(len(cust_df_clus5_rf))\n",
    "training_set = probs < 0.8\n",
    "test_set = (probs>=0.8)\n",
    "\n",
    "cust_df_kmeans_clus_5_trg = cust_df_clus5_rf[training_set]\n",
    "cust_df_kmeans_clus_5_tst = cust_df_clus5_rf[test_set]"
   ]
  },
  {
   "cell_type": "code",
   "execution_count": null,
   "metadata": {
    "ExecuteTime": {
     "end_time": "2021-02-26T04:10:57.086880Z",
     "start_time": "2021-02-26T04:10:57.073952Z"
    }
   },
   "outputs": [],
   "source": [
    "# Removing the y variable - cluster5_2 from the training data set\n",
    "cust_df_kmeans_clus_5_trg2 = cust_df_kmeans_clus_5_trg.drop('cluster5_2', 1)\n",
    "cust_df_kmeans_clu_5_Y = pd.DataFrame(cust_df_kmeans_clus_5_trg['cluster5_2'])\n",
    "cust_df_kmeans_clus_5_trg2.head()"
   ]
  },
  {
   "cell_type": "code",
   "execution_count": null,
   "metadata": {
    "ExecuteTime": {
     "end_time": "2021-02-26T04:11:09.932784Z",
     "start_time": "2021-02-26T04:11:09.919819Z"
    }
   },
   "outputs": [],
   "source": [
    "# Removing the y variable - cluster5_2 from the testing data set\n",
    "cust_df_kmeans_clus_5_tst2 = cust_df_kmeans_clus_5_tst.drop('cluster5_2', 1)\n",
    "cust_df_kmeans_clu_5_Y_tst = pd.DataFrame(cust_df_kmeans_clus_5_tst['cluster5_2'])\n",
    "cust_df_kmeans_clus_5_tst2.head()"
   ]
  },
  {
   "cell_type": "code",
   "execution_count": null,
   "metadata": {
    "ExecuteTime": {
     "end_time": "2021-02-26T04:11:11.146577Z",
     "start_time": "2021-02-26T04:11:11.137563Z"
    }
   },
   "outputs": [],
   "source": [
    "cust_df_kmeans_clu_5_Y.head()"
   ]
  },
  {
   "cell_type": "code",
   "execution_count": null,
   "metadata": {
    "ExecuteTime": {
     "end_time": "2021-02-26T04:11:12.829082Z",
     "start_time": "2021-02-26T04:11:12.823099Z"
    }
   },
   "outputs": [],
   "source": [
    "cust_df_kmeans_clus_5_trg2.shape"
   ]
  },
  {
   "cell_type": "code",
   "execution_count": null,
   "metadata": {
    "ExecuteTime": {
     "end_time": "2021-02-26T04:11:13.565263Z",
     "start_time": "2021-02-26T04:11:13.558641Z"
    }
   },
   "outputs": [],
   "source": [
    "cust_df_kmeans_clus_5_tst.shape"
   ]
  },
  {
   "cell_type": "code",
   "execution_count": null,
   "metadata": {
    "ExecuteTime": {
     "end_time": "2021-02-26T04:11:14.395045Z",
     "start_time": "2021-02-26T04:11:14.110805Z"
    }
   },
   "outputs": [],
   "source": [
    "#Import Random Forest Model\n",
    "from sklearn.ensemble import RandomForestClassifier\n",
    "\n",
    "#Create a Gaussian Classifier\n",
    "clf_5 = RandomForestClassifier(n_estimators=100)\n",
    "\n",
    "#Train the model using the training sets y_pred=clf.predict(X_test)\n",
    "clf_5.fit(cust_df_kmeans_clus_5_trg2, cust_df_kmeans_clu_5_Y)\n",
    "\n",
    "cust_df_kmeans_clu_5_Y_pred = clf_5.predict(cust_df_kmeans_clus_5_tst2)"
   ]
  },
  {
   "cell_type": "code",
   "execution_count": null,
   "metadata": {
    "ExecuteTime": {
     "end_time": "2021-02-26T04:11:14.730148Z",
     "start_time": "2021-02-26T04:11:14.724163Z"
    }
   },
   "outputs": [],
   "source": [
    "#Import scikit-learn metrics module for accuracy calculation\n",
    "from sklearn import metrics\n",
    "# Model Accuracy, how often is the classifier correct?\n",
    "print(\"Accuracy:\",metrics.accuracy_score(cust_df_kmeans_clu_5_Y_tst, cust_df_kmeans_clu_5_Y_pred))"
   ]
  },
  {
   "cell_type": "code",
   "execution_count": null,
   "metadata": {
    "ExecuteTime": {
     "end_time": "2021-02-26T04:11:15.114211Z",
     "start_time": "2021-02-26T04:11:15.111129Z"
    }
   },
   "outputs": [],
   "source": [
    "# Create a list of feature names\n",
    "feature_names = list(cust_df_kmeans_clus_5_trg2.columns)"
   ]
  },
  {
   "cell_type": "code",
   "execution_count": null,
   "metadata": {
    "ExecuteTime": {
     "end_time": "2021-02-26T04:11:15.758399Z",
     "start_time": "2021-02-26T04:11:15.391380Z"
    }
   },
   "outputs": [],
   "source": [
    "import matplotlib.pyplot as plt\n",
    "import seaborn as sns\n",
    "%matplotlib inline\n",
    "\n",
    "# Compute feature importances for the features used in the RF model\n",
    "feature_imp = pd.Series(clf_5.feature_importances_,index = feature_names).sort_values(ascending=False)\n",
    "print(feature_imp)\n",
    "# Creating a bar plot\n",
    "sns.barplot(x=feature_imp, y=feature_imp.index)\n",
    "# Add labels to your graph\n",
    "plt.xlabel('Feature Importance Score')\n",
    "plt.ylabel('Features')\n",
    "plt.title(\"Visualizing Important Features\")\n",
    "plt.legend()\n",
    "plt.show()"
   ]
  },
  {
   "cell_type": "code",
   "execution_count": null,
   "metadata": {
    "ExecuteTime": {
     "end_time": "2021-02-26T04:11:16.189251Z",
     "start_time": "2021-02-26T04:11:16.149356Z"
    }
   },
   "outputs": [],
   "source": [
    "# Printing a confusion matrix for the test data\n",
    "from sklearn.metrics import confusion_matrix\n",
    "\n",
    "conf_mat = confusion_matrix(cust_df_kmeans_clu_5_Y_tst, cust_df_kmeans_clu_5_Y_pred)\n",
    "print(conf_mat)"
   ]
  },
  {
   "cell_type": "code",
   "execution_count": null,
   "metadata": {
    "ExecuteTime": {
     "end_time": "2020-06-30T22:51:15.599969Z",
     "start_time": "2020-06-30T22:51:15.595979Z"
    }
   },
   "outputs": [],
   "source": [
    "df = cust_df_clus5_ALL"
   ]
  },
  {
   "cell_type": "code",
   "execution_count": null,
   "metadata": {
    "ExecuteTime": {
     "end_time": "2020-06-30T22:51:17.638298Z",
     "start_time": "2020-06-30T22:51:17.581425Z"
    }
   },
   "outputs": [],
   "source": [
    "df_end = pd.read_csv('../data/modified/data_due_diligence_output.csv', \n",
    "                 index_col='CustomerID')"
   ]
  },
  {
   "cell_type": "code",
   "execution_count": null,
   "metadata": {
    "ExecuteTime": {
     "end_time": "2020-06-30T22:51:17.680191Z",
     "start_time": "2020-06-30T22:51:17.640266Z"
    }
   },
   "outputs": [],
   "source": [
    "df = df_end.join(df['cluster5_2'])\n",
    "df"
   ]
  },
  {
   "cell_type": "code",
   "execution_count": null,
   "metadata": {
    "ExecuteTime": {
     "end_time": "2020-06-30T22:51:18.089079Z",
     "start_time": "2020-06-30T22:51:17.683153Z"
    }
   },
   "outputs": [],
   "source": [
    "df.to_csv('../data/results/segmentation_results.csv')"
   ]
  },
  {
   "cell_type": "code",
   "execution_count": null,
   "metadata": {},
   "outputs": [],
   "source": []
  }
 ],
 "metadata": {
  "hide_input": false,
  "kernelspec": {
   "display_name": "Python 3",
   "language": "python",
   "name": "python3"
  },
  "language_info": {
   "codemirror_mode": {
    "name": "ipython",
    "version": 3
   },
   "file_extension": ".py",
   "mimetype": "text/x-python",
   "name": "python",
   "nbconvert_exporter": "python",
   "pygments_lexer": "ipython3",
   "version": "3.7.3"
  },
  "toc": {
   "base_numbering": 1,
   "nav_menu": {},
   "number_sections": true,
   "sideBar": true,
   "skip_h1_title": false,
   "title_cell": "Table of Contents",
   "title_sidebar": "Contents",
   "toc_cell": false,
   "toc_position": {},
   "toc_section_display": true,
   "toc_window_display": false
  },
  "varInspector": {
   "cols": {
    "lenName": 16,
    "lenType": 16,
    "lenVar": 40
   },
   "kernels_config": {
    "python": {
     "delete_cmd_postfix": "",
     "delete_cmd_prefix": "del ",
     "library": "var_list.py",
     "varRefreshCmd": "print(var_dic_list())"
    },
    "r": {
     "delete_cmd_postfix": ") ",
     "delete_cmd_prefix": "rm(",
     "library": "var_list.r",
     "varRefreshCmd": "cat(var_dic_list()) "
    }
   },
   "types_to_exclude": [
    "module",
    "function",
    "builtin_function_or_method",
    "instance",
    "_Feature"
   ],
   "window_display": false
  }
 },
 "nbformat": 4,
 "nbformat_minor": 2
}
