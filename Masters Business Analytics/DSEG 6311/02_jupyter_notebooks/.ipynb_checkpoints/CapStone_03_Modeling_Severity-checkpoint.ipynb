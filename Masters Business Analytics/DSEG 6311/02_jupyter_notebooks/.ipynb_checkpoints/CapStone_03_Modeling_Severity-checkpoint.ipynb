{
 "cells": [
  {
   "cell_type": "markdown",
   "metadata": {},
   "source": [
    "# Import Packages and Data set"
   ]
  },
  {
   "cell_type": "code",
   "execution_count": null,
   "metadata": {},
   "outputs": [],
   "source": [
    "# EDA - Data Cleaning\n",
    "import pandas as pd\n",
    "import numpy as np\n",
    "import missingno\n",
    "from collections import Counter\n",
    "import math\n",
    "\n",
    "# EDA - Data Visualizations\n",
    "import matplotlib.pyplot as plt\n",
    "import seaborn as sns\n",
    "from pylab import rcParams\n",
    "%matplotlib inline\n",
    "import statsmodels.api as sm\n",
    "from statsmodels.graphics.gofplots import ProbPlot\n",
    "plt.style.use('seaborn') # pretty matplotlib plots\n",
    "plt.rc('font', size=14)\n",
    "plt.rc('figure', titlesize=18)\n",
    "plt.rc('axes', labelsize=15)\n",
    "plt.rc('axes', titlesize=18)\n",
    "\n",
    "from math import sqrt\n",
    "\n",
    "# Remove warnings\n",
    "import warnings\n",
    "warnings.filterwarnings('ignore')\n",
    "\n",
    "# logistic regression model\n",
    "import statsmodels.api as sm \n",
    "\n",
    "pd.set_option('display.max_rows', 90)\n",
    "pd.set_option('display.max_columns', 100)\n",
    "pd.set_option('display.width', 1000)\n",
    "\n",
    "pd.options.display.float_format = '{:,.2f}'.format"
   ]
  },
  {
   "cell_type": "markdown",
   "metadata": {},
   "source": [
    "# Import Dataset"
   ]
  },
  {
   "cell_type": "code",
   "execution_count": null,
   "metadata": {},
   "outputs": [],
   "source": [
    "tic = ['ABAT','LIME','APSG','ARTX','XRM','WMS','BWEN','BKR','HRLY','AMSC','CBI','LMT','PLL','FRPT','GE', 'CR']\n",
    "settlementamount = [275000, 2500000, 2700000, 2900000, 3600000, 3700000, 3915000, 4500000, 10000000, 10000000, 10500000, 19500000, 22500000, 24000000, 40000000, np.nan]\n",
    "mktval = [294.2363, 10.5976, 464.0006, 70.3689, 253.6822, 29.8, 138.0883, 240.7989, 213.2215, 126.9855, 8935.7209, 47422.54, 7820.68, 388.84, 282006.4944, 3912.94]\n",
    "df = pd.DataFrame({'tic':tic, 'settlementamount':settlementamount, 'mktval':mktval})\n",
    "df['settlementamount'] = df['settlementamount'] / 1000000\n",
    "\n",
    "df"
   ]
  },
  {
   "cell_type": "code",
   "execution_count": null,
   "metadata": {},
   "outputs": [],
   "source": [
    "sns.lineplot(data=df, x='settlementamount', y='mktval')"
   ]
  },
  {
   "cell_type": "code",
   "execution_count": null,
   "metadata": {},
   "outputs": [],
   "source": [
    "df[df['tic']!='CR'].sort_values('mktval', ascending=False)"
   ]
  },
  {
   "cell_type": "code",
   "execution_count": null,
   "metadata": {},
   "outputs": [],
   "source": [
    "df[df['tic']!='CR'].describe()"
   ]
  },
  {
   "cell_type": "code",
   "execution_count": null,
   "metadata": {},
   "outputs": [],
   "source": [
    "sns.set(font_scale = 2)\n",
    "ax = sns.displot(df, x='settlementamount', kind='kde', height=6, aspect=2, fill=True, palette='dark')\n",
    "plt.xlim(0)\n",
    "plt.xlabel('Settlement Amount (in $ millions)')\n",
    "plt.title('settlementamount Distribution')"
   ]
  },
  {
   "cell_type": "code",
   "execution_count": null,
   "metadata": {},
   "outputs": [],
   "source": [
    "sns.set(font_scale = 2)\n",
    "ax = sns.displot(df, x='mktval', kind='kde', height=6, aspect=2, fill=True, palette='dark')\n",
    "plt.xlim(0)\n",
    "plt.xlabel('Market Value (in $ millions)')\n",
    "plt.title('mktval Distribution')"
   ]
  },
  {
   "cell_type": "code",
   "execution_count": null,
   "metadata": {},
   "outputs": [],
   "source": [
    "df_nocr = df[df['tic']!='CR'].sort_values('mktval', ascending=False)\n",
    "df_nocr"
   ]
  },
  {
   "cell_type": "code",
   "execution_count": null,
   "metadata": {},
   "outputs": [],
   "source": [
    "sns.scatterplot(data=df_nocr, x='settlementamount', y='mktval', sizes=(250,100))\n",
    "# plt.ylim(0,10000)\n",
    "# plt.xlim(0, 25000000)"
   ]
  },
  {
   "cell_type": "code",
   "execution_count": null,
   "metadata": {},
   "outputs": [],
   "source": [
    "df_nocr = df_nocr[~df_nocr['tic'].isin(['GE', 'LMT'])].sort_values('mktval', ascending=False)\n",
    "df_nocr"
   ]
  },
  {
   "cell_type": "code",
   "execution_count": null,
   "metadata": {},
   "outputs": [],
   "source": [
    "df_nocr.describe()"
   ]
  },
  {
   "cell_type": "code",
   "execution_count": null,
   "metadata": {},
   "outputs": [],
   "source": [
    "sns.set(font_scale = 2)\n",
    "ax = sns.displot(df_nocr, x='settlementamount', kind='kde', height=6, aspect=2, fill=True, palette='dark')\n",
    "plt.xlim(0)\n",
    "plt.xlabel('Settlement Amount (in $ millions)')\n",
    "plt.title('settlementamount Distribution')"
   ]
  },
  {
   "cell_type": "code",
   "execution_count": null,
   "metadata": {},
   "outputs": [],
   "source": [
    "sns.set(font_scale = 2)\n",
    "ax = sns.displot(df_nocr, x='mkttval', kind='kde', height=6, aspect=2, fill=True, palette='dark')\n",
    "plt.xlim(0)\n",
    "plt.xlabel('Settlement Amount (in $ millions)')\n",
    "plt.title('mktval Distribution')"
   ]
  },
  {
   "cell_type": "code",
   "execution_count": 14,
   "metadata": {},
   "outputs": [
    {
     "data": {
      "text/html": [
       "<div>\n",
       "<style scoped>\n",
       "    .dataframe tbody tr th:only-of-type {\n",
       "        vertical-align: middle;\n",
       "    }\n",
       "\n",
       "    .dataframe tbody tr th {\n",
       "        vertical-align: top;\n",
       "    }\n",
       "\n",
       "    .dataframe thead th {\n",
       "        text-align: right;\n",
       "    }\n",
       "</style>\n",
       "<table border=\"1\" class=\"dataframe\">\n",
       "  <thead>\n",
       "    <tr style=\"text-align: right;\">\n",
       "      <th></th>\n",
       "      <th>settlementamount</th>\n",
       "      <th>mktval</th>\n",
       "    </tr>\n",
       "  </thead>\n",
       "  <tbody>\n",
       "    <tr>\n",
       "      <th>count</th>\n",
       "      <td>13.00</td>\n",
       "      <td>13.00</td>\n",
       "    </tr>\n",
       "    <tr>\n",
       "      <th>mean</th>\n",
       "      <td>7.78</td>\n",
       "      <td>1,460.54</td>\n",
       "    </tr>\n",
       "    <tr>\n",
       "      <th>std</th>\n",
       "      <td>7.59</td>\n",
       "      <td>3,081.41</td>\n",
       "    </tr>\n",
       "    <tr>\n",
       "      <th>min</th>\n",
       "      <td>0.28</td>\n",
       "      <td>10.60</td>\n",
       "    </tr>\n",
       "    <tr>\n",
       "      <th>25%</th>\n",
       "      <td>2.90</td>\n",
       "      <td>126.99</td>\n",
       "    </tr>\n",
       "    <tr>\n",
       "      <th>50%</th>\n",
       "      <td>3.92</td>\n",
       "      <td>240.80</td>\n",
       "    </tr>\n",
       "    <tr>\n",
       "      <th>75%</th>\n",
       "      <td>10.00</td>\n",
       "      <td>388.84</td>\n",
       "    </tr>\n",
       "    <tr>\n",
       "      <th>max</th>\n",
       "      <td>24.00</td>\n",
       "      <td>8,935.72</td>\n",
       "    </tr>\n",
       "  </tbody>\n",
       "</table>\n",
       "</div>"
      ],
      "text/plain": [
       "       settlementamount   mktval\n",
       "count             13.00    13.00\n",
       "mean               7.78 1,460.54\n",
       "std                7.59 3,081.41\n",
       "min                0.28    10.60\n",
       "25%                2.90   126.99\n",
       "50%                3.92   240.80\n",
       "75%               10.00   388.84\n",
       "max               24.00 8,935.72"
      ]
     },
     "execution_count": 14,
     "metadata": {},
     "output_type": "execute_result"
    }
   ],
   "source": [
    "df_nocr.describe()"
   ]
  },
  {
   "cell_type": "code",
   "execution_count": 15,
   "metadata": {},
   "outputs": [
    {
     "name": "stdout",
     "output_type": "stream",
     "text": [
      "Mean value:  1460.540053846154\n"
     ]
    }
   ],
   "source": [
    "mean_mktval = df_nocr['mktval'].mean()\n",
    "print('Mean value: ', mean_mktval)"
   ]
  },
  {
   "cell_type": "code",
   "execution_count": 16,
   "metadata": {},
   "outputs": [
    {
     "name": "stdout",
     "output_type": "stream",
     "text": [
      "Mean Settlement Amount:  7.776153846153847\n",
      "Standard Error of the Settlement Amount:  2.104119064237847\n"
     ]
    }
   ],
   "source": [
    "mean_amt = df_nocr['settlementamount'].mean()\n",
    "amt_stderr = df_nocr['settlementamount'].sem()\n",
    "print('Mean Settlement Amount: ', mean_amt)\n",
    "print('Standard Error of the Settlement Amount: ', amt_stderr)"
   ]
  },
  {
   "cell_type": "code",
   "execution_count": 17,
   "metadata": {},
   "outputs": [
    {
     "name": "stdout",
     "output_type": "stream",
     "text": [
      "Confidence Internal Used:  1.96\n"
     ]
    }
   ],
   "source": [
    "CI = 1.96\n",
    "print('Confidence Internal Used: ', CI)"
   ]
  },
  {
   "cell_type": "code",
   "execution_count": 18,
   "metadata": {},
   "outputs": [
    {
     "name": "stdout",
     "output_type": "stream",
     "text": [
      "Lower Bounds:  3.652080480247667\n",
      "Upper Bounds:  11.900227212060027\n"
     ]
    }
   ],
   "source": [
    "lower = mean_amt - CI*amt_stderr\n",
    "upper = mean_amt + CI*amt_stderr\n",
    "print('Lower Bounds: ', lower)\n",
    "print('Upper Bounds: ', upper)"
   ]
  },
  {
   "cell_type": "code",
   "execution_count": 19,
   "metadata": {},
   "outputs": [
    {
     "name": "stdout",
     "output_type": "stream",
     "text": [
      "Below is the Market Value of Crane Co.: \n"
     ]
    },
    {
     "data": {
      "text/html": [
       "<div>\n",
       "<style scoped>\n",
       "    .dataframe tbody tr th:only-of-type {\n",
       "        vertical-align: middle;\n",
       "    }\n",
       "\n",
       "    .dataframe tbody tr th {\n",
       "        vertical-align: top;\n",
       "    }\n",
       "\n",
       "    .dataframe thead th {\n",
       "        text-align: right;\n",
       "    }\n",
       "</style>\n",
       "<table border=\"1\" class=\"dataframe\">\n",
       "  <thead>\n",
       "    <tr style=\"text-align: right;\">\n",
       "      <th></th>\n",
       "      <th>tic</th>\n",
       "      <th>settlementamount</th>\n",
       "      <th>mktval</th>\n",
       "    </tr>\n",
       "  </thead>\n",
       "  <tbody>\n",
       "    <tr>\n",
       "      <th>15</th>\n",
       "      <td>CR</td>\n",
       "      <td>nan</td>\n",
       "      <td>3,912.94</td>\n",
       "    </tr>\n",
       "  </tbody>\n",
       "</table>\n",
       "</div>"
      ],
      "text/plain": [
       "   tic  settlementamount   mktval\n",
       "15  CR               nan 3,912.94"
      ]
     },
     "execution_count": 19,
     "metadata": {},
     "output_type": "execute_result"
    }
   ],
   "source": [
    "print('Below is the Market Value of Crane Co.: ')\n",
    "df[df['tic']=='CR']"
   ]
  },
  {
   "cell_type": "code",
   "execution_count": 20,
   "metadata": {},
   "outputs": [
    {
     "name": "stdout",
     "output_type": "stream",
     "text": [
      "Target Variable:  3912.94\n",
      "Target Variable as Percent of Mean Market Value:  2.679104889794532\n"
     ]
    }
   ],
   "source": [
    "target_var = 3912.94\n",
    "perc_target = target_var / mean_mktval\n",
    "print('Target Variable: ', target_var)\n",
    "print('Target Variable as Percent of Mean Market Value: ', perc_target)"
   ]
  },
  {
   "cell_type": "code",
   "execution_count": 21,
   "metadata": {},
   "outputs": [
    {
     "name": "stdout",
     "output_type": "stream",
     "text": [
      "Exposure Risk (in $ millions) is between $ 9.784 and $31.882\n"
     ]
    }
   ],
   "source": [
    "lower_exp_risk = lower * perc_target\n",
    "upper_exp_risk = upper * perc_target\n",
    "print('Exposure Risk (in $ millions) is between ${:6,.3f}'.format(lower_exp_risk)+' and ${:6,.3f}'.format(upper_exp_risk))"
   ]
  },
  {
   "cell_type": "markdown",
   "metadata": {},
   "source": [
    "# END"
   ]
  }
 ],
 "metadata": {
  "hide_input": false,
  "kernelspec": {
   "display_name": "Python 3",
   "language": "python",
   "name": "python3"
  },
  "language_info": {
   "codemirror_mode": {
    "name": "ipython",
    "version": 3
   },
   "file_extension": ".py",
   "mimetype": "text/x-python",
   "name": "python",
   "nbconvert_exporter": "python",
   "pygments_lexer": "ipython3",
   "version": "3.7.3"
  },
  "toc": {
   "base_numbering": 1,
   "nav_menu": {},
   "number_sections": true,
   "sideBar": true,
   "skip_h1_title": false,
   "title_cell": "Table of Contents",
   "title_sidebar": "Contents",
   "toc_cell": false,
   "toc_position": {},
   "toc_section_display": true,
   "toc_window_display": false
  },
  "varInspector": {
   "cols": {
    "lenName": 16,
    "lenType": 16,
    "lenVar": 40
   },
   "kernels_config": {
    "python": {
     "delete_cmd_postfix": "",
     "delete_cmd_prefix": "del ",
     "library": "var_list.py",
     "varRefreshCmd": "print(var_dic_list())"
    },
    "r": {
     "delete_cmd_postfix": ") ",
     "delete_cmd_prefix": "rm(",
     "library": "var_list.r",
     "varRefreshCmd": "cat(var_dic_list()) "
    }
   },
   "types_to_exclude": [
    "module",
    "function",
    "builtin_function_or_method",
    "instance",
    "_Feature"
   ],
   "window_display": false
  }
 },
 "nbformat": 4,
 "nbformat_minor": 4
}
