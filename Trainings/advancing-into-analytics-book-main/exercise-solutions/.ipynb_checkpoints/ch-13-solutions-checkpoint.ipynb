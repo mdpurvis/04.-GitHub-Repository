{
 "cells": [
  {
   "cell_type": "code",
   "execution_count": 1,
   "metadata": {},
   "outputs": [
    {
     "name": "stderr",
     "output_type": "stream",
     "text": [
      "\n",
      "Bad key savefig.frameon in file C:\\Users\\User\\Anaconda3\\lib\\site-packages\\matplotlib\\mpl-data\\stylelib\\_classic_test.mplstyle, line 421 ('savefig.frameon : True')\n",
      "You probably need to get an updated matplotlibrc file from\n",
      "https://github.com/matplotlib/matplotlib/blob/v3.3.2/matplotlibrc.template\n",
      "or from the matplotlib source distribution\n",
      "\n",
      "Bad key verbose.level in file C:\\Users\\User\\Anaconda3\\lib\\site-packages\\matplotlib\\mpl-data\\stylelib\\_classic_test.mplstyle, line 472 ('verbose.level  : silent      # one of silent, helpful, debug, debug-annoying')\n",
      "You probably need to get an updated matplotlibrc file from\n",
      "https://github.com/matplotlib/matplotlib/blob/v3.3.2/matplotlibrc.template\n",
      "or from the matplotlib source distribution\n",
      "\n",
      "Bad key verbose.fileo in file C:\\Users\\User\\Anaconda3\\lib\\site-packages\\matplotlib\\mpl-data\\stylelib\\_classic_test.mplstyle, line 473 ('verbose.fileo  : sys.stdout  # a log filename, sys.stdout or sys.stderr')\n",
      "You probably need to get an updated matplotlibrc file from\n",
      "https://github.com/matplotlib/matplotlib/blob/v3.3.2/matplotlibrc.template\n",
      "or from the matplotlib source distribution\n",
      "In C:\\Users\\User\\Anaconda3\\lib\\site-packages\\matplotlib\\mpl-data\\stylelib\\_classic_test.mplstyle: \n",
      "The text.latex.preview rcparam was deprecated in Matplotlib 3.3 and will be removed two minor releases later.\n",
      "In C:\\Users\\User\\Anaconda3\\lib\\site-packages\\matplotlib\\mpl-data\\stylelib\\_classic_test.mplstyle: \n",
      "The mathtext.fallback_to_cm rcparam was deprecated in Matplotlib 3.3 and will be removed two minor releases later.\n",
      "In C:\\Users\\User\\Anaconda3\\lib\\site-packages\\matplotlib\\mpl-data\\stylelib\\_classic_test.mplstyle: Support for setting the 'mathtext.fallback_to_cm' rcParam is deprecated since 3.3 and will be removed two minor releases later; use 'mathtext.fallback : 'cm' instead.\n",
      "In C:\\Users\\User\\Anaconda3\\lib\\site-packages\\matplotlib\\mpl-data\\stylelib\\_classic_test.mplstyle: \n",
      "The validate_bool_maybe_none function was deprecated in Matplotlib 3.3 and will be removed two minor releases later.\n",
      "In C:\\Users\\User\\Anaconda3\\lib\\site-packages\\matplotlib\\mpl-data\\stylelib\\_classic_test.mplstyle: \n",
      "The savefig.jpeg_quality rcparam was deprecated in Matplotlib 3.3 and will be removed two minor releases later.\n",
      "In C:\\Users\\User\\Anaconda3\\lib\\site-packages\\matplotlib\\mpl-data\\stylelib\\_classic_test.mplstyle: \n",
      "The keymap.all_axes rcparam was deprecated in Matplotlib 3.3 and will be removed two minor releases later.\n",
      "In C:\\Users\\User\\Anaconda3\\lib\\site-packages\\matplotlib\\mpl-data\\stylelib\\_classic_test.mplstyle: \n",
      "The animation.avconv_path rcparam was deprecated in Matplotlib 3.3 and will be removed two minor releases later.\n",
      "In C:\\Users\\User\\Anaconda3\\lib\\site-packages\\matplotlib\\mpl-data\\stylelib\\_classic_test.mplstyle: \n",
      "The animation.avconv_args rcparam was deprecated in Matplotlib 3.3 and will be removed two minor releases later.\n"
     ]
    }
   ],
   "source": [
    "from scipy import stats\n",
    "import pandas as pd\n",
    "import seaborn as sns\n",
    "import matplotlib.pyplot as plt\n",
    "from sklearn import linear_model\n",
    "from sklearn import model_selection\n",
    "from sklearn import metrics"
   ]
  },
  {
   "cell_type": "code",
   "execution_count": 2,
   "metadata": {},
   "outputs": [
    {
     "data": {
      "text/html": [
       "<div>\n",
       "<style scoped>\n",
       "    .dataframe tbody tr th:only-of-type {\n",
       "        vertical-align: middle;\n",
       "    }\n",
       "\n",
       "    .dataframe tbody tr th {\n",
       "        vertical-align: top;\n",
       "    }\n",
       "\n",
       "    .dataframe thead th {\n",
       "        text-align: right;\n",
       "    }\n",
       "</style>\n",
       "<table border=\"1\" class=\"dataframe\">\n",
       "  <thead>\n",
       "    <tr style=\"text-align: right;\">\n",
       "      <th></th>\n",
       "      <th>rcc</th>\n",
       "      <th>wcc</th>\n",
       "      <th>hc</th>\n",
       "      <th>hg</th>\n",
       "      <th>ferr</th>\n",
       "      <th>bmi</th>\n",
       "      <th>ssf</th>\n",
       "      <th>pcBfat</th>\n",
       "      <th>lbm</th>\n",
       "      <th>ht</th>\n",
       "      <th>wt</th>\n",
       "      <th>sex</th>\n",
       "      <th>sport</th>\n",
       "    </tr>\n",
       "  </thead>\n",
       "  <tbody>\n",
       "    <tr>\n",
       "      <th>0</th>\n",
       "      <td>3.96</td>\n",
       "      <td>7.5</td>\n",
       "      <td>37.5</td>\n",
       "      <td>12.3</td>\n",
       "      <td>60</td>\n",
       "      <td>20.56</td>\n",
       "      <td>109.1</td>\n",
       "      <td>19.75</td>\n",
       "      <td>63.32</td>\n",
       "      <td>195.9</td>\n",
       "      <td>78.9</td>\n",
       "      <td>f</td>\n",
       "      <td>B_Ball</td>\n",
       "    </tr>\n",
       "    <tr>\n",
       "      <th>1</th>\n",
       "      <td>4.41</td>\n",
       "      <td>8.3</td>\n",
       "      <td>38.2</td>\n",
       "      <td>12.7</td>\n",
       "      <td>68</td>\n",
       "      <td>20.67</td>\n",
       "      <td>102.8</td>\n",
       "      <td>21.30</td>\n",
       "      <td>58.55</td>\n",
       "      <td>189.7</td>\n",
       "      <td>74.4</td>\n",
       "      <td>f</td>\n",
       "      <td>B_Ball</td>\n",
       "    </tr>\n",
       "    <tr>\n",
       "      <th>2</th>\n",
       "      <td>4.14</td>\n",
       "      <td>5.0</td>\n",
       "      <td>36.4</td>\n",
       "      <td>11.6</td>\n",
       "      <td>21</td>\n",
       "      <td>21.86</td>\n",
       "      <td>104.6</td>\n",
       "      <td>19.88</td>\n",
       "      <td>55.36</td>\n",
       "      <td>177.8</td>\n",
       "      <td>69.1</td>\n",
       "      <td>f</td>\n",
       "      <td>B_Ball</td>\n",
       "    </tr>\n",
       "    <tr>\n",
       "      <th>3</th>\n",
       "      <td>4.11</td>\n",
       "      <td>5.3</td>\n",
       "      <td>37.3</td>\n",
       "      <td>12.6</td>\n",
       "      <td>69</td>\n",
       "      <td>21.88</td>\n",
       "      <td>126.4</td>\n",
       "      <td>23.66</td>\n",
       "      <td>57.18</td>\n",
       "      <td>185.0</td>\n",
       "      <td>74.9</td>\n",
       "      <td>f</td>\n",
       "      <td>B_Ball</td>\n",
       "    </tr>\n",
       "    <tr>\n",
       "      <th>4</th>\n",
       "      <td>4.45</td>\n",
       "      <td>6.8</td>\n",
       "      <td>41.5</td>\n",
       "      <td>14.0</td>\n",
       "      <td>29</td>\n",
       "      <td>18.96</td>\n",
       "      <td>80.3</td>\n",
       "      <td>17.64</td>\n",
       "      <td>53.20</td>\n",
       "      <td>184.6</td>\n",
       "      <td>64.6</td>\n",
       "      <td>f</td>\n",
       "      <td>B_Ball</td>\n",
       "    </tr>\n",
       "  </tbody>\n",
       "</table>\n",
       "</div>"
      ],
      "text/plain": [
       "    rcc  wcc    hc    hg  ferr    bmi    ssf  pcBfat    lbm     ht    wt sex  \\\n",
       "0  3.96  7.5  37.5  12.3    60  20.56  109.1   19.75  63.32  195.9  78.9   f   \n",
       "1  4.41  8.3  38.2  12.7    68  20.67  102.8   21.30  58.55  189.7  74.4   f   \n",
       "2  4.14  5.0  36.4  11.6    21  21.86  104.6   19.88  55.36  177.8  69.1   f   \n",
       "3  4.11  5.3  37.3  12.6    69  21.88  126.4   23.66  57.18  185.0  74.9   f   \n",
       "4  4.45  6.8  41.5  14.0    29  18.96   80.3   17.64  53.20  184.6  64.6   f   \n",
       "\n",
       "    sport  \n",
       "0  B_Ball  \n",
       "1  B_Ball  \n",
       "2  B_Ball  \n",
       "3  B_Ball  \n",
       "4  B_Ball  "
      ]
     },
     "execution_count": 2,
     "metadata": {},
     "output_type": "execute_result"
    }
   ],
   "source": [
    "ais = pd.read_excel('../datasets/ais/ais.xlsx')\n",
    "ais.head()"
   ]
  },
  {
   "cell_type": "code",
   "execution_count": 3,
   "metadata": {},
   "outputs": [
    {
     "data": {
      "text/plain": [
       "<seaborn.axisgrid.FacetGrid at 0x18db2726f88>"
      ]
     },
     "execution_count": 3,
     "metadata": {},
     "output_type": "execute_result"
    },
    {
     "data": {
      "image/png": "[encoded data removed]",
      "text/plain": [
       "<Figure size 720x360 with 2 Axes>"
      ]
     },
     "metadata": {
      "needs_background": "light"
     },
     "output_type": "display_data"
    }
   ],
   "source": [
    "# rcc by male versus female\n",
    "sns.displot(data=ais, x='rcc', col='sex')"
   ]
  },
  {
   "cell_type": "code",
   "execution_count": 4,
   "metadata": {},
   "outputs": [
    {
     "data": {
      "text/plain": [
       "<AxesSubplot:xlabel='sex', ylabel='rcc'>"
      ]
     },
     "execution_count": 4,
     "metadata": {},
     "output_type": "execute_result"
    },
    {
     "data": {
      "image/png": "[encoded data removed]",
      "text/plain": [
       "<Figure size 432x288 with 1 Axes>"
      ]
     },
     "metadata": {
      "needs_background": "light"
     },
     "output_type": "display_data"
    }
   ],
   "source": [
    "sns.boxplot(x='sex', y='rcc', data=ais)"
   ]
  },
  {
   "cell_type": "code",
   "execution_count": 5,
   "metadata": {},
   "outputs": [
    {
     "data": {
      "text/plain": [
       "Ttest_indResult(statistic=-13.144647003438955, pvalue=7.463492766248318e-29)"
      ]
     },
     "execution_count": 5,
     "metadata": {},
     "output_type": "execute_result"
    }
   ],
   "source": [
    "# Yes there is a significant difference\n",
    "stats.ttest_ind(ais[ais['sex']=='f']['rcc'], ais[ais['sex']=='m']['rcc'])"
   ]
  },
  {
   "cell_type": "code",
   "execution_count": 6,
   "metadata": {},
   "outputs": [
    {
     "data": {
      "text/html": [
       "<div>\n",
       "<style scoped>\n",
       "    .dataframe tbody tr th:only-of-type {\n",
       "        vertical-align: middle;\n",
       "    }\n",
       "\n",
       "    .dataframe tbody tr th {\n",
       "        vertical-align: top;\n",
       "    }\n",
       "\n",
       "    .dataframe thead th {\n",
       "        text-align: right;\n",
       "    }\n",
       "</style>\n",
       "<table border=\"1\" class=\"dataframe\">\n",
       "  <thead>\n",
       "    <tr style=\"text-align: right;\">\n",
       "      <th></th>\n",
       "      <th>rcc</th>\n",
       "      <th>wcc</th>\n",
       "      <th>hc</th>\n",
       "      <th>hg</th>\n",
       "      <th>ferr</th>\n",
       "      <th>bmi</th>\n",
       "      <th>ssf</th>\n",
       "      <th>pcBfat</th>\n",
       "      <th>lbm</th>\n",
       "      <th>ht</th>\n",
       "      <th>wt</th>\n",
       "    </tr>\n",
       "  </thead>\n",
       "  <tbody>\n",
       "    <tr>\n",
       "      <th>rcc</th>\n",
       "      <td>1.000000</td>\n",
       "      <td>0.147064</td>\n",
       "      <td>0.924964</td>\n",
       "      <td>0.888800</td>\n",
       "      <td>0.250865</td>\n",
       "      <td>0.299471</td>\n",
       "      <td>-0.403004</td>\n",
       "      <td>-0.493512</td>\n",
       "      <td>0.550975</td>\n",
       "      <td>0.358854</td>\n",
       "      <td>0.403763</td>\n",
       "    </tr>\n",
       "    <tr>\n",
       "      <th>wcc</th>\n",
       "      <td>0.147064</td>\n",
       "      <td>1.000000</td>\n",
       "      <td>0.153333</td>\n",
       "      <td>0.134720</td>\n",
       "      <td>0.132073</td>\n",
       "      <td>0.176968</td>\n",
       "      <td>0.136999</td>\n",
       "      <td>0.107960</td>\n",
       "      <td>0.102663</td>\n",
       "      <td>0.076811</td>\n",
       "      <td>0.155662</td>\n",
       "    </tr>\n",
       "    <tr>\n",
       "      <th>hc</th>\n",
       "      <td>0.924964</td>\n",
       "      <td>0.153333</td>\n",
       "      <td>1.000000</td>\n",
       "      <td>0.950757</td>\n",
       "      <td>0.258240</td>\n",
       "      <td>0.320527</td>\n",
       "      <td>-0.449135</td>\n",
       "      <td>-0.532449</td>\n",
       "      <td>0.583375</td>\n",
       "      <td>0.371192</td>\n",
       "      <td>0.423711</td>\n",
       "    </tr>\n",
       "    <tr>\n",
       "      <th>hg</th>\n",
       "      <td>0.888800</td>\n",
       "      <td>0.134720</td>\n",
       "      <td>0.950757</td>\n",
       "      <td>1.000000</td>\n",
       "      <td>0.308391</td>\n",
       "      <td>0.382524</td>\n",
       "      <td>-0.435429</td>\n",
       "      <td>-0.531522</td>\n",
       "      <td>0.610986</td>\n",
       "      <td>0.352322</td>\n",
       "      <td>0.455263</td>\n",
       "    </tr>\n",
       "    <tr>\n",
       "      <th>ferr</th>\n",
       "      <td>0.250865</td>\n",
       "      <td>0.132073</td>\n",
       "      <td>0.258240</td>\n",
       "      <td>0.308391</td>\n",
       "      <td>1.000000</td>\n",
       "      <td>0.302556</td>\n",
       "      <td>-0.108243</td>\n",
       "      <td>-0.183386</td>\n",
       "      <td>0.317581</td>\n",
       "      <td>0.123255</td>\n",
       "      <td>0.273702</td>\n",
       "    </tr>\n",
       "    <tr>\n",
       "      <th>bmi</th>\n",
       "      <td>0.299471</td>\n",
       "      <td>0.176968</td>\n",
       "      <td>0.320527</td>\n",
       "      <td>0.382524</td>\n",
       "      <td>0.302556</td>\n",
       "      <td>1.000000</td>\n",
       "      <td>0.321116</td>\n",
       "      <td>0.187558</td>\n",
       "      <td>0.713858</td>\n",
       "      <td>0.337097</td>\n",
       "      <td>0.845934</td>\n",
       "    </tr>\n",
       "    <tr>\n",
       "      <th>ssf</th>\n",
       "      <td>-0.403004</td>\n",
       "      <td>0.136999</td>\n",
       "      <td>-0.449135</td>\n",
       "      <td>-0.435429</td>\n",
       "      <td>-0.108243</td>\n",
       "      <td>0.321116</td>\n",
       "      <td>1.000000</td>\n",
       "      <td>0.963017</td>\n",
       "      <td>-0.207749</td>\n",
       "      <td>-0.071253</td>\n",
       "      <td>0.154196</td>\n",
       "    </tr>\n",
       "    <tr>\n",
       "      <th>pcBfat</th>\n",
       "      <td>-0.493512</td>\n",
       "      <td>0.107960</td>\n",
       "      <td>-0.532449</td>\n",
       "      <td>-0.531522</td>\n",
       "      <td>-0.183386</td>\n",
       "      <td>0.187558</td>\n",
       "      <td>0.963017</td>\n",
       "      <td>1.000000</td>\n",
       "      <td>-0.361850</td>\n",
       "      <td>-0.188022</td>\n",
       "      <td>-0.000193</td>\n",
       "    </tr>\n",
       "    <tr>\n",
       "      <th>lbm</th>\n",
       "      <td>0.550975</td>\n",
       "      <td>0.102663</td>\n",
       "      <td>0.583375</td>\n",
       "      <td>0.610986</td>\n",
       "      <td>0.317581</td>\n",
       "      <td>0.713858</td>\n",
       "      <td>-0.207749</td>\n",
       "      <td>-0.361850</td>\n",
       "      <td>1.000000</td>\n",
       "      <td>0.802119</td>\n",
       "      <td>0.930913</td>\n",
       "    </tr>\n",
       "    <tr>\n",
       "      <th>ht</th>\n",
       "      <td>0.358854</td>\n",
       "      <td>0.076811</td>\n",
       "      <td>0.371192</td>\n",
       "      <td>0.352322</td>\n",
       "      <td>0.123255</td>\n",
       "      <td>0.337097</td>\n",
       "      <td>-0.071253</td>\n",
       "      <td>-0.188022</td>\n",
       "      <td>0.802119</td>\n",
       "      <td>1.000000</td>\n",
       "      <td>0.780932</td>\n",
       "    </tr>\n",
       "    <tr>\n",
       "      <th>wt</th>\n",
       "      <td>0.403763</td>\n",
       "      <td>0.155662</td>\n",
       "      <td>0.423711</td>\n",
       "      <td>0.455263</td>\n",
       "      <td>0.273702</td>\n",
       "      <td>0.845934</td>\n",
       "      <td>0.154196</td>\n",
       "      <td>-0.000193</td>\n",
       "      <td>0.930913</td>\n",
       "      <td>0.780932</td>\n",
       "      <td>1.000000</td>\n",
       "    </tr>\n",
       "  </tbody>\n",
       "</table>\n",
       "</div>"
      ],
      "text/plain": [
       "             rcc       wcc        hc        hg      ferr       bmi       ssf  \\\n",
       "rcc     1.000000  0.147064  0.924964  0.888800  0.250865  0.299471 -0.403004   \n",
       "wcc     0.147064  1.000000  0.153333  0.134720  0.132073  0.176968  0.136999   \n",
       "hc      0.924964  0.153333  1.000000  0.950757  0.258240  0.320527 -0.449135   \n",
       "hg      0.888800  0.134720  0.950757  1.000000  0.308391  0.382524 -0.435429   \n",
       "ferr    0.250865  0.132073  0.258240  0.308391  1.000000  0.302556 -0.108243   \n",
       "bmi     0.299471  0.176968  0.320527  0.382524  0.302556  1.000000  0.321116   \n",
       "ssf    -0.403004  0.136999 -0.449135 -0.435429 -0.108243  0.321116  1.000000   \n",
       "pcBfat -0.493512  0.107960 -0.532449 -0.531522 -0.183386  0.187558  0.963017   \n",
       "lbm     0.550975  0.102663  0.583375  0.610986  0.317581  0.713858 -0.207749   \n",
       "ht      0.358854  0.076811  0.371192  0.352322  0.123255  0.337097 -0.071253   \n",
       "wt      0.403763  0.155662  0.423711  0.455263  0.273702  0.845934  0.154196   \n",
       "\n",
       "          pcBfat       lbm        ht        wt  \n",
       "rcc    -0.493512  0.550975  0.358854  0.403763  \n",
       "wcc     0.107960  0.102663  0.076811  0.155662  \n",
       "hc     -0.532449  0.583375  0.371192  0.423711  \n",
       "hg     -0.531522  0.610986  0.352322  0.455263  \n",
       "ferr   -0.183386  0.317581  0.123255  0.273702  \n",
       "bmi     0.187558  0.713858  0.337097  0.845934  \n",
       "ssf     0.963017 -0.207749 -0.071253  0.154196  \n",
       "pcBfat  1.000000 -0.361850 -0.188022 -0.000193  \n",
       "lbm    -0.361850  1.000000  0.802119  0.930913  \n",
       "ht     -0.188022  0.802119  1.000000  0.780932  \n",
       "wt     -0.000193  0.930913  0.780932  1.000000  "
      ]
     },
     "execution_count": 6,
     "metadata": {},
     "output_type": "execute_result"
    }
   ],
   "source": [
    "ais.corr()"
   ]
  },
  {
   "cell_type": "code",
   "execution_count": 7,
   "metadata": {},
   "outputs": [
    {
     "name": "stderr",
     "output_type": "stream",
     "text": [
      "C:\\Users\\User\\Anaconda3\\lib\\site-packages\\seaborn\\_decorators.py:43: FutureWarning: Pass the following variables as keyword args: x, y. From version 0.12, the only valid positional argument will be `data`, and passing other arguments without an explicit keyword will result in an error or misinterpretation.\n",
      "  FutureWarning\n"
     ]
    },
    {
     "data": {
      "text/plain": [
       "<AxesSubplot:xlabel='ht', ylabel='wt'>"
      ]
     },
     "execution_count": 7,
     "metadata": {},
     "output_type": "execute_result"
    },
    {
     "data": {
      "image/png": "[encoded data removed]",
      "text/plain": [
       "<Figure size 432x288 with 1 Axes>"
      ]
     },
     "metadata": {
      "needs_background": "light"
     },
     "output_type": "display_data"
    }
   ],
   "source": [
    "sns.scatterplot(ais['ht'],ais['wt'])"
   ]
  },
  {
   "cell_type": "code",
   "execution_count": 8,
   "metadata": {},
   "outputs": [
    {
     "data": {
      "text/plain": [
       "LinregressResult(slope=1.1171237435064445, intercept=-126.19048966588099, rvalue=0.7809320717301679, pvalue=9.539370892367334e-43, stderr=0.06318094300091384)"
      ]
     },
     "execution_count": 8,
     "metadata": {},
     "output_type": "execute_result"
    }
   ],
   "source": [
    "stats.linregress(ais['ht'],ais['wt'])"
   ]
  },
  {
   "cell_type": "code",
   "execution_count": 9,
   "metadata": {},
   "outputs": [
    {
     "data": {
      "text/plain": [
       "<AxesSubplot:xlabel='ht', ylabel='wt'>"
      ]
     },
     "execution_count": 9,
     "metadata": {},
     "output_type": "execute_result"
    },
    {
     "data": {
      "image/png": "[encoded data removed]",
      "text/plain": [
       "<Figure size 432x288 with 1 Axes>"
      ]
     },
     "metadata": {
      "needs_background": "light"
     },
     "output_type": "display_data"
    }
   ],
   "source": [
    "# Bonus: fit the regression line to scatterplot\n",
    "sns.regplot(x='ht',y='wt',data=ais)"
   ]
  },
  {
   "cell_type": "code",
   "execution_count": null,
   "metadata": {},
   "outputs": [],
   "source": [
    "X_train, X_test, y_train, y_test = model_selection.train_test_split(mpg[['weight']], mpg[['mpg']], random_state=1234)"
   ]
  }
 ],
 "metadata": {
  "kernelspec": {
   "display_name": "Python 3",
   "language": "python",
   "name": "python3"
  },
  "language_info": {
   "codemirror_mode": {
    "name": "ipython",
    "version": 3
   },
   "file_extension": ".py",
   "mimetype": "text/x-python",
   "name": "python",
   "nbconvert_exporter": "python",
   "pygments_lexer": "ipython3",
   "version": "3.7.9"
  }
 },
 "nbformat": 4,
 "nbformat_minor": 4
}
